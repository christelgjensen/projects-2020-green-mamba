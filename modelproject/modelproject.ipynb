{
 "cells": [
  {
   "cell_type": "markdown",
   "metadata": {},
   "source": [
    "## Model project: The General Solow model and a Solow model with human capital"
   ]
  },
  {
   "cell_type": "markdown",
   "metadata": {},
   "source": [
    "This model project solve and simulate the general Solow model and a Solow model with human capital following the notation of \"Introducing advanced macroeconomics: Growth and business cycles\" by Sørensen, P., & Whitta-Jacobsen, H. (2010).\n",
    "\n",
    "## The General Solow model\n",
    "\n",
    "The general Solow Model is similar to the basic Solow Model, but accounts for potentiel strict positive growth in GDP pr. worker. The general Solow Model is a generalization of the basic Solow Model that allows for technological progress as total factor productivity (TFP) increases over time.\n",
    "\n",
    "The basic Solow can be generalized to the general Solow Model the following way.\n",
    "\n",
    "$ Y_t = B_t K_t^\\alpha L_t^{1-\\alpha} = K_t^\\alpha (A_t L_t)^{1-\\alpha} , 0<\\alpha<1 $,\n",
    "\n",
    "where $A_t \\equiv B_t^{\\frac{1}{1-\\alpha}}$ and $A$ is exogenous sequence of the total factor productivity (TFP) $B_t$. $A_t$ is also called the labor productivity variable. $Y$ is total output, $K_t$ is the capital stock, $L_t$ is the labor force, and $A_t$ is . All variables are indexed $t$ as the evolve over time. The difference between the basic and the general Solow model is that technology can change over time. Moreover we have the following equations:\n",
    "\n",
    "$ A_{t + 1} = (1 + g)A_t , g>-1 $\n",
    "\n",
    "$ L_{t+1} = (1+n) L_t, n>-1 $\n",
    "\n",
    "$K_{t+1} - K_t = S_t -\\delta K_t $\n",
    "\n",
    "$ S_t = s Y_t , 0<s<1$\n",
    "\n",
    "where $ g_t = \\alpha g_t^k + (1-\\alpha) g_t^A $. Labor productivity $A_t$ is changing with the exogenous rate $g$ in every period and exogenous technological growth is thus assumed. The labor force becomes more productive in each period without the use of economic ressources. The labor force $L_t$ grows with the rate $n$ in each period. Capital accumulates through savings $S_t$ and depreciates with the rate $\\delta$. Savings constitutes a constant fraction $s$ of total output $Y_t$ as the households saves the fraction $s$ of their income in each period.\n",
    "\n",
    "As opposed to the basic Solow model, it is assumed that there are two sources of economic growth in the general Solow model. Both capital accumulation and technological progress are sources of growth.\n",
    "\n",
    "\n",
    "We derive capital and output per effective worker in the following way.\n",
    "\n",
    "$\\tilde{k}_t = \\frac{K_t}{A_t L_t} = \\frac{k_t}{A_t}$\n",
    "\n",
    "$\\tilde{y}_t = \\frac{Y_t}{A_t L_t} = \\frac{y_t}{A_t} $\n",
    "\n",
    "According to the production function we can derive $ \\tilde{y}_t$ as\n",
    "\n",
    "$ \\tilde{y}_t = \\frac{Y_t}{A_t L_t} = \\frac{K_t^\\alpha (A_t L_t)^{1-\\alpha}}{A_t L_t}= K_t^\\alpha (A_t L_t)^{-\\alpha} = \\left( \\frac{K_t}{A_t L_t} \\right)^\\alpha= \\tilde{k}_t^\\alpha$"
   ]
  },
  {
   "cell_type": "markdown",
   "metadata": {},
   "source": [
    "Imports and set magics:"
   ]
  },
  {
   "cell_type": "code",
   "execution_count": 1,
   "metadata": {},
   "outputs": [],
   "source": [
    "#Import of packages\n",
    "import numpy as np\n",
    "\n",
    "import sympy as sm\n",
    "sm.init_printing(pretty_print = True)\n",
    "from sympy import symbols\n",
    "from sympy.interactive import printing\n",
    "\n",
    "import matplotlib.pyplot as plt\n",
    "plt.style.use('seaborn')\n",
    "from matplotlib.ticker import FuncFormatter\n",
    "import matplotlib as mpl\n",
    "import matplotlib.animation as animation\n",
    "from matplotlib.widgets import Slider\n",
    "\n",
    "from scipy import linalg\n",
    "from scipy import optimize as opt\n",
    "from scipy import optimize\n",
    "\n",
    "import pandas as pd\n",
    "\n",
    "import math\n",
    "\n",
    "from IPython.display import display\n",
    "import ipywidgets as widgets\n",
    "\n",
    "#Autoload\n",
    "%load_ext autoreload\n",
    "%autoreload 2"
   ]
  },
  {
   "cell_type": "code",
   "execution_count": 2,
   "metadata": {},
   "outputs": [],
   "source": [
    "#Next we define all our variables.\n",
    "#Defining variables\n",
    "Y = sm.symbols('Y_t')     \n",
    "K = sm.symbols('K_t')\n",
    "A = sm.symbols('A_t')\n",
    "L = sm.symbols('L_t')\n",
    "\n",
    "g = sm.symbols('g')\n",
    "s = sm.symbols('s')\n",
    "n = sm.symbols('n')\n",
    "\n",
    "y = sm.symbols('y_t')\n",
    "k = sm.symbols('k_t')\n",
    "\n",
    "K_next = sm.symbols('K_{t+1}')\n",
    "A_next = sm.symbols('A_{t+1}')\n",
    "L_next = sm.symbols('L_{t+1}')\n",
    "\n",
    "k_next = sm.symbols('k_{t+1}')\n",
    "\n",
    "k_tilde = sm.symbols('\\\\tilde{k}_t')\n",
    "y_tilde = sm.symbols('\\\\tilde{y}_t')\n",
    "\n",
    "k_tilde_next = sm.symbols('\\\\tilde{k}_{t+1}')\n",
    "\n",
    "k_star = sm.symbols('k^*')\n",
    "y_star = sm.symbols('y^*')\n",
    "\n",
    "k_tilde_star = sm.symbols('\\\\tilde{k}^*')\n",
    "y_tilde_star = sm.symbols('\\\\tilde{y}^*')\n",
    "\n",
    "r = sm.symbols('r_t')\n",
    "w = sm.symbols('w_t')\n",
    "\n",
    "alpha = sm.symbols('alpha')\n",
    "delta = sm.symbols('delta')"
   ]
  },
  {
   "cell_type": "markdown",
   "metadata": {
    "toc-hr-collapsed": true
   },
   "source": [
    "### Real factor prices of capital and labor\n",
    "First step is to derive the real factor prices of the capital and labor input, i.e. $r_t$ and $w_t$. We derive them as the derivatives of $Y$ with respect to $K$ and $L$. \n",
    "\n",
    "We use sympy to differentiate $Y$ first for $K$, and solve for $r_t$. $r_t$ is the rental rate."
   ]
  },
  {
   "cell_type": "code",
   "execution_count": 3,
   "metadata": {},
   "outputs": [
    {
     "output_type": "execute_result",
     "data": {
      "text/plain": "  α - 1          1 - α     \nKₜ     ⋅α⋅(Aₜ⋅Lₜ)      = rₜ",
      "image/png": "[encoded data removed]",
      "text/latex": "$\\displaystyle K_{t}^{\\alpha - 1} \\alpha \\left(A_{t} L_{t}\\right)^{1 - \\alpha} = r_{t}$"
     },
     "metadata": {},
     "execution_count": 3
    }
   ],
   "source": [
    "foc_rt = sm.Eq(sm.simplify(sm.diff(K**(alpha) * (A*L)**(1-alpha), K)),r)\n",
    "foc_rt"
   ]
  },
  {
   "cell_type": "markdown",
   "metadata": {},
   "source": [
    "The expression can be rewritten as so it follows the textbook notation (Sørensen & Whitta-Jacobsen, 2010).\n",
    "\n",
    "$r_t = \\alpha (\\frac{K_t}{A_t L_t})^{\\alpha-1} = \\alpha (\\tilde{k}_t)^{\\alpha-1}$\n",
    "\n",
    "Similarly we for $L$, we differentiate with respect to $L$ and solve for $w_t$. $w_t$ is the wage rate."
   ]
  },
  {
   "cell_type": "code",
   "execution_count": 4,
   "metadata": {},
   "outputs": [
    {
     "output_type": "execute_result",
     "data": {
      "text/plain": "  α        1 - α             \nKₜ ⋅(Aₜ⋅Lₜ)     ⋅(1 - α)     \n──────────────────────── = wₜ\n           Lₜ                ",
      "image/png": "[encoded data removed]",
      "text/latex": "$\\displaystyle \\frac{K_{t}^{\\alpha} \\left(A_{t} L_{t}\\right)^{1 - \\alpha} \\left(1 - \\alpha\\right)}{L_{t}} = w_{t}$"
     },
     "metadata": {},
     "execution_count": 4
    }
   ],
   "source": [
    "foc_wt = sm.Eq(sm.simplify(sm.diff(K**(alpha) * (A*L)**(1-alpha), L)),w)\n",
    "foc_wt"
   ]
  },
  {
   "cell_type": "markdown",
   "metadata": {},
   "source": [
    "The expression can be rewritten as follows the textbook notation (Sørensen & Whitta-Jacobsen, 2010).\n",
    "\n",
    "$w_t = (1-\\alpha) \\frac{K_t}{A_t L_t}^{\\alpha} A_t =(1-\\alpha) (\\tilde{k}_t)^{\\alpha} A_t$"
   ]
  },
  {
   "cell_type": "markdown",
   "metadata": {},
   "source": [
    "### Transition equation\n",
    "\n",
    "The next step is to find the transition equation. Insert $S_t$ in $K_{t+1}-K_t$, \n",
    "divide with $A_{t+1}\\cdot L_{t+1}$ on both sides, the left hand side is equal to $\\tilde{k}_{t+1}$, \n",
    "on the right hand side use that $A_{t+1}\\cdot L_{t+1}=(1+n)(1+g)A_t\\cdot L_t$, lastly insert $\\tilde{y}_{t}$\n",
    "$\\tilde{k}_{t+1}=(1/(1+n)(1+g))\\cdot s \\tilde{k}^\\alpha+(1-\\delta)\\tilde{k}_t$.\n",
    "\n",
    "\n",
    "We define the transition equation. No further calculation is needed."
   ]
  },
  {
   "cell_type": "code",
   "execution_count": 5,
   "metadata": {},
   "outputs": [
    {
     "output_type": "execute_result",
     "data": {
      "text/plain": "                                                  α  \n                  -\\tilde{k}ₜ⋅(δ - 1) + \\tilde{k}ₜ ⋅s\n\\tilde{k}_{t+1} = ───────────────────────────────────\n                            (g + 1)⋅(n + 1)          ",
      "image/png": "[encoded data removed]",
      "text/latex": "$\\displaystyle \\tilde{k}_{t+1} = \\frac{- \\tilde{k}_t \\left(\\delta - 1\\right) + \\tilde{k}_t^{\\alpha} s}{\\left(g + 1\\right) \\left(n + 1\\right)}$"
     },
     "metadata": {},
     "execution_count": 5
    }
   ],
   "source": [
    "Transition_equation = sm.simplify(sm.Eq((1/((1+n)*(1+g)))*(s*k_tilde**(alpha)+(1-delta)*k_tilde), k_tilde_next))\n",
    "Transition_equation"
   ]
  },
  {
   "cell_type": "markdown",
   "metadata": {},
   "source": [
    "The transition equation can be rewritten to the following so it follows the textbook notation (Sørensen & Whitta-Jacobsen, 2010).\n",
    "\n",
    "$ \\tilde{k}_{t+1} = \\frac{1}{(1+n)(1+g)} (s \\tilde{k}_t^\\alpha + (1-\\delta) \\tilde{k}_t)$\n",
    "\n",
    "From the transition equation the Solow equation can be derived by subtracting $\\tilde{k}_t$ on both sides.\n",
    "\n",
    "$ \\tilde{k}_{t+1} - \\tilde{k}_t = \\frac{1}{(1+n)(1+g)} (s \\tilde{k}_t^\\alpha - (n + g + \\delta + n g) \\tilde{k}_t $\n",
    "\n",
    "### Steady state\n",
    "In steady state we know that $k_{t+1}=k_t=k^*$, we insert $k^*$ for all $k$ in the transition equation. \n",
    "This gives: $k^*=\\frac{1}{1+n}\\cdot (1+g) \\cdot s \\cdot {k^*}^\\alpha+(1-\\delta)k^*$.\n",
    "We solve for $k^*$ in steady state."
   ]
  },
  {
   "cell_type": "code",
   "execution_count": 6,
   "metadata": {},
   "outputs": [
    {
     "output_type": "execute_result",
     "data": {
      "text/plain": "                   1                 \n                 ─────               \n                 α - 1               \n⎛δ⋅n + δ - n - 1⎞                    \n⎜───────────────⎟      = \\tilde{k}__*\n⎝   s⋅(g + 1)   ⎠                    ",
      "image/png": "[encoded data removed]",
      "text/latex": "$\\displaystyle \\left(\\frac{\\delta n + \\delta - n - 1}{s \\left(g + 1\\right)}\\right)^{\\frac{1}{\\alpha - 1}} = \\tilde{k}^*$"
     },
     "metadata": {},
     "execution_count": 6
    }
   ],
   "source": [
    "ss_k = sm.solve((1/(1+n)*(1+g))*s*k_star**alpha+(1-delta)*k_star, k_star) \n",
    "sm.Eq(ss_k[0], k_tilde_star)"
   ]
  },
  {
   "cell_type": "markdown",
   "metadata": {},
   "source": [
    "To get $\\tilde{y}^*$, we insert $\\tilde{k}^*$ in $\\tilde{y}$.\n",
    "This gives: $y^*=\\frac{1}{1+n}\\cdot(1+g) \\cdot s \\cdot {k^*}^\\alpha+(1-\\delta)k^*$.\n",
    "We define the SS. No further calculation is needed."
   ]
  },
  {
   "cell_type": "code",
   "execution_count": 7,
   "metadata": {},
   "outputs": [
    {
     "output_type": "execute_result",
     "data": {
      "text/plain": "                                       α\n               ⎛                   1  ⎞ \n               ⎜                 ─────⎟ \n               ⎜                 α - 1⎟ \n               ⎜⎛δ⋅n + δ - n - 1⎞     ⎟ \n\\tilde{y}__* = ⎜⎜───────────────⎟     ⎟ \n               ⎝⎝   s⋅(g + 1)   ⎠     ⎠ ",
      "image/png": "[encoded data removed]",
      "text/latex": "$\\displaystyle \\tilde{y}^* = \\left(\\left(\\frac{\\delta n + \\delta - n - 1}{s \\left(g + 1\\right)}\\right)^{\\frac{1}{\\alpha - 1}}\\right)^{\\alpha}$"
     },
     "metadata": {},
     "execution_count": 7
    }
   ],
   "source": [
    "ss_y = sm.simplify(ss_k[0]**alpha) \n",
    "sm.Eq(y_tilde_star, ss_y)"
   ]
  },
  {
   "cell_type": "code",
   "execution_count": 8,
   "metadata": {},
   "outputs": [],
   "source": [
    "#Defining solow as a function in a Solow diagram. Where the inputs is :\n",
    "    #    k     (float): Capital\n",
    "    #    delta (float): Depreciation\n",
    "    #    n     (float): Population\n",
    "    #    g     (float): Growth\n",
    "    #    s     (float): Savings\n",
    "    #    alpha (float): Share\n",
    "def solow_diagram(k,s,n,g,delta,alpha):\n",
    "    #Returns\n",
    "        # savings path, plots y at different s\n",
    "    svec = []\n",
    "        # depreciation path, plots delta - depreciation over time\n",
    "    deltavec = []\n",
    "\n",
    "    for t in range(1,k):\n",
    "        depreciation = (delta+n+g+n*g)*t\n",
    "        deltavec.append(depreciation)\n",
    "   \n",
    "    for t in range(1,k):\n",
    "        saved = s*t**alpha\n",
    "        svec.append(saved)\n",
    "\n",
    "    plt.figure(figsize=(10,10))\n",
    "    plt.plot(deltavec[:k], label = '$(\\delta +n+g+ng)\\\\tilde{k}_t$', color = 'black')\n",
    "\n",
    "    plt.plot(svec[:k], color = 'blue')\n",
    "\n",
    "    plt.xlim(0,k)\n",
    "    plt.ylim(0,deltavec[-1])\n",
    "    plt.xlabel('$k_t$')\n",
    "    plt.grid(True)\n",
    "    plt.legend()\n",
    "    plt.legend(['$(\\delta+n+g+ng)\\\\tilde{k}_t$', '$s\\\\tilde{k}_t^{\\u03B1}$'])\n",
    "    return plt.show()"
   ]
  },
  {
   "cell_type": "code",
   "execution_count": 9,
   "metadata": {},
   "outputs": [
    {
     "output_type": "display_data",
     "data": {
      "text/plain": "interactive(children=(IntSlider(value=120, description='k', max=1001, min=1, step=10), FloatSlider(value=0.7, …",
      "application/vnd.jupyter.widget-view+json": {
       "version_major": 2,
       "version_minor": 0,
       "model_id": "2b1670a106f7446f973968e44904701e"
      }
     },
     "metadata": {}
    },
    {
     "output_type": "execute_result",
     "data": {
      "text/plain": "<function __main__.solow_diagram(k, s, n, g, delta, alpha)>"
     },
     "metadata": {},
     "execution_count": 9
    }
   ],
   "source": [
    "#We have created an interactive graph, where it is possible to change the parameters and see the effect\n",
    "widgets.interact(solow_diagram, \n",
    "                k_0     = widgets.fixed(0), \n",
    "                alpha = widgets.FloatSlider(description = '\\u03B1' , min = 0 ,    max = 0.9 , step = 0.01 , value = 0.33),\n",
    "                delta = widgets.FloatSlider(description = '\\u03B4' , min = 0 ,    max = 0.9 , step = 0.01 , value = 0.01),\n",
    "                s     = widgets.FloatSlider(description = 's' ,        min = 0.01, max = 0.9 , step = 0.01 , value = 0.70),\n",
    "                n     = widgets.FloatSlider(description ='n',        min = -0.1 , max = 0.1 , step = 0.005, value = 0.00),\n",
    "                g     = widgets.FloatSlider(description ='g',            min = -0.1 , max = 1 , step = 0.005, value = 0.04),\n",
    "                k     = widgets.IntSlider(description='k' ,          min = 1,     max = 1001, step = 10,    value = 120))"
   ]
  },
  {
   "cell_type": "markdown",
   "metadata": {},
   "source": [
    "We see that if the savings rate $s$ increases, then the curve $s\\tilde{k_t}^\\alpha$ shifts upwards. Thus if the savings rate increases, then the steady state level of effective capital $\\tilde{k}^{*}$ per worker increases. Similarly a higher capital share $\\alpha$ increase the steady state level of capita per effective worker.\n",
    "\n",
    "Oppositely, an increase in the population growth $n$ lowers the steady state level of capita per effective worker $\\tilde{k}^{*}.$ Similarly, a higher technological growth rate $g$ and a higher depreciation rate $\\delta$ decrease the steady state level of capital per effective worker."
   ]
  },
  {
   "cell_type": "markdown",
   "metadata": {},
   "source": [
    "## The Solow model with human capital\n",
    "\n",
    "For a Solow model with human capital, a variable for human capital $H_t$ is added into the production function in the general Solow model. So that our production function is:\n",
    "\n",
    "$ Y_t = K_t^\\alpha H_t^\\varphi (A_t L_t)^{1-\\alpha-\\varphi} , 0<\\alpha<1 0<\\varphi<1 \\alpha + \\varphi <1$\n",
    "\n",
    "All variables are indexed $t$ as the evolve over time. Moreover we have the following equations:\n",
    "\n",
    "$ A_{t + 1} = (1 + g)A_t , g>-1 $\n",
    "\n",
    "$ L_{t+1} = (1+n) L_t, n>-1 $\n",
    "\n",
    "$K_{t+1} - K_t = s_K Y_t -\\delta K_t, 0<s_K<1$\n",
    "\n",
    "$H_{t+1} - H_t = s_H Y_t -\\delta H_t, 0<s_H<1 $\n",
    "\n",
    "The differences from the general Solow model above and this one is the human capital. Furthermore the adding of the human capital gives the model an extra rate of savings, the constant fraction $s$ is swopped with a constant fraction $s_K$ of income invested in physical capital, and a constant fraction $s_H$ of income invested in human capital.\n",
    "\n",
    "According to the production function we can derive $ \\tilde{y}_t$ as\n",
    "\n",
    "$\\tilde{y}_t = k_t^\\alpha h_t^\\varphi A_t^{1-\\alpha -\\varphi} $\n",
    "\n",
    "Where $k_t\\equiv \\frac{K_t}{L_t}$ and $h_t\\equiv \\frac{H_t}{L_t}$. In terms of capital and human capital per effictive worker we find:\n",
    "\n",
    "$\\tilde{k}_t = \\left(\\frac{s_K^{1-\\varphi} s_H^{\\varphi}}{\\delta+n+g+ng}\\right)^{\\frac{1}{1-\\alpha - \\varphi}}$\n",
    "\n",
    "$\\tilde{h}_t = \\left(\\frac{s_K^{\\alpha} s_H^{1-\\alpha}}{\\delta+n+g+ng}\\right)^{\\frac{1}{1-\\alpha - \\varphi}}$\n",
    "\n",
    "Next we define our new variables"
   ]
  },
  {
   "cell_type": "code",
   "execution_count": 10,
   "metadata": {},
   "outputs": [],
   "source": [
    "#Defining variables\n",
    "k_ss  = sm.symbols('k_ss') \n",
    "phi   = sm.symbols('phi') \n",
    "s_k   = sm.symbols('s_k')\n",
    "s_h   = sm.symbols('s_h')\n",
    "k1_ss = sm.symbols('k1_ss')\n",
    "h_ss  = sm.symbols('h_ss')\n",
    "\n",
    "#In order to make the graph we need to chose actual numbers for our parameters\n",
    "g     = 0.04\n",
    "n     = 0.00\n",
    "alpha = 0.33\n",
    "delta = 0.01\n",
    "s     = 0.70\n",
    "phi = 0.33\n",
    "s_k = 0.10\n",
    "s_h = 0.12"
   ]
  },
  {
   "cell_type": "markdown",
   "metadata": {},
   "source": [
    "### Steady state\n",
    "In steady state we know that $k_{t+1}=k_t=k^*$. We find steady state of capital and human capital by solving for $k^*$. Moreover we will define these equations as symbolic, which we will use later for our transition diagram."
   ]
  },
  {
   "cell_type": "code",
   "execution_count": 11,
   "metadata": {},
   "outputs": [],
   "source": [
    "#SS for capital\n",
    "k1_ss_sm = sm.Eq(k1_ss, ((s_k**(1-phi)*s_h**phi) / (n+g+delta+(n*g)))**(1/(1-alpha-phi)))\n",
    "k1_ss_sol = sm.solve([k1_ss_sm],[k1_ss])\n",
    "\n",
    "#The SS for capital\n",
    "k1_ss_symbolic = ((s_k**(1-phi)*s_h**phi) / (n+g+delta+(n*g)))**(1/(1-alpha-phi))\n",
    "\n",
    "#SS for human capital\n",
    "h_ss_sm = sm.Eq(h_ss, ((s_k**alpha*s_h**(1-alpha)) / (n+g+delta+(n*g)))**(1/(1-alpha-phi)))\n",
    "h_ss_sol = sm.solve([h_ss_sm],[h_ss])\n",
    "\n",
    "#The SS for human capital\n",
    "h_ss_symbolic = ((s_k**alpha*s_h**(1-alpha)) / (n+g+delta+(n*g)))**(1/(1-alpha-phi))"
   ]
  },
  {
   "cell_type": "code",
   "execution_count": 12,
   "metadata": {},
   "outputs": [],
   "source": [
    "#Auxiliary functions for capital and human capital\n",
    "def aux_k(x,g,n,s_k,s_h,alpha,delta,phi):\n",
    "    aux_k = ((n+g+delta+(n*g))/s_k)**(1/phi)*x**((1-alpha)/phi)\n",
    "    return aux_k\n",
    "\n",
    "def aux_h(x,g,n,s_k,s_h,alpha,delta,phi):\n",
    "    aux_h = (s_h/(n+g+delta+(n*g)))**(1/(1-phi))*x**(alpha/(1-phi))\n",
    "    return aux_h"
   ]
  },
  {
   "cell_type": "code",
   "execution_count": 13,
   "metadata": {},
   "outputs": [],
   "source": [
    "#Code to create capital and human capital accumulation\n",
    "f = lambda k_ss: k_ss - ((s_k**(1-phi)*s_h**phi) / (n+g+delta+(n*g)))**(1/(1-alpha-phi)) \n",
    "h = lambda h_ss: h_ss - ((s_k**alpha*s_h**(1-alpha)) / (n+g+delta+(n*g)))**(1/(1-alpha-phi)) \n",
    "\n",
    "#Capital\n",
    "def bisection(f,a,b,tol=1e-8):\n",
    "\n",
    "    # Test inputs\n",
    "    if f(a) * f(b) >= 0:\n",
    "        print(\"Bisection method fails.\")\n",
    "        return None\n",
    "    \n",
    "    # Step 1: Initializes\n",
    "    a_n = a\n",
    "    b_n = b\n",
    "    \n",
    "    # Step 2-4:\n",
    "    while True:\n",
    "        \n",
    "        # Step 2: Midpoint and associated value\n",
    "        m_n   = (a_n+b_n)/2\n",
    "        f_m_n = f(m_n)\n",
    "        \n",
    "        # Step 3: Determine sub-interval\n",
    "        if abs(f_m_n) < tol:\n",
    "            return m_n\n",
    "        elif f(a_n)*f_m_n < 0:\n",
    "            a_n = a_n\n",
    "            b_n = m_n\n",
    "        elif f(b_n)*f_m_n < 0:\n",
    "            a_n = m_n\n",
    "            b_n = b_n\n",
    "        else:\n",
    "            print(\"Bisection method fails.\")\n",
    "            return None\n",
    "        \n",
    "    return (a_n + b_n)/2\n",
    "\n",
    "k1_ss = bisection(f,0,100,1e-8)\n",
    "\n",
    "#Human capital\n",
    "def bisection(h,a,b,tol=1e-8):\n",
    "\n",
    "    # Test inputs\n",
    "    if h(a) * h(b) >= 0:\n",
    "        print(\"Bisection method fails.\")\n",
    "        return None\n",
    "    \n",
    "    # Step 1: Initializes\n",
    "    a_n = a\n",
    "    b_n = b\n",
    "    \n",
    "    # Step 2-4:\n",
    "    while True:\n",
    "        \n",
    "        # Step 2: Midpoint and associated value\n",
    "        m_n   = (a_n+b_n)/2\n",
    "        h_m_n = h(m_n)\n",
    "        \n",
    "        # Step 3: Determine sub-interval\n",
    "        if abs(h_m_n) < tol:\n",
    "            return m_n\n",
    "        elif h(a_n)*h_m_n < 0:\n",
    "            a_n = a_n\n",
    "            b_n = m_n\n",
    "        elif h(b_n)*h_m_n < 0:\n",
    "            a_n = m_n\n",
    "            b_n = b_n\n",
    "        else:\n",
    "            print(\"Bisection method fails.\")\n",
    "            return None\n",
    "        \n",
    "    return (a_n + b_n)/2\n",
    "\n",
    "h_ss = bisection(h,0,100,1e-8)"
   ]
  },
  {
   "cell_type": "code",
   "execution_count": 14,
   "metadata": {},
   "outputs": [
    {
     "output_type": "display_data",
     "data": {
      "text/plain": "<Figure size 720x504 with 1 Axes>",
      "image/svg+xml": "<?xml version=\"1.0\" encoding=\"utf-8\" standalone=\"no\"?>\n<!DOCTYPE svg PUBLIC \"-//W3C//DTD SVG 1.1//EN\"\n  \"http://www.w3.org/Graphics/SVG/1.1/DTD/svg11.dtd\">\n<!-- Created with matplotlib (https://matplotlib.org/) -->\n<svg height=\"490.201156pt\" version=\"1.1\" viewBox=\"0 0 624.337188 490.201156\" width=\"624.337188pt\" xmlns=\"http://www.w3.org/2000/svg\" xmlns:xlink=\"http://www.w3.org/1999/xlink\">\n <defs>\n  <style type=\"text/css\">\n*{stroke-linecap:butt;stroke-linejoin:round;}\n  </style>\n </defs>\n <g id=\"figure_1\">\n  <g id=\"patch_1\">\n   <path d=\"M 0 490.201156 \nL 624.337188 490.201156 \nL 624.337188 0 \nL 0 0 \nz\n\" style=\"fill:#ffffff;\"/>\n  </g>\n  <g id=\"axes_1\">\n   <g id=\"patch_2\">\n    <path d=\"M 59.137187 432.994125 \nL 617.137187 432.994125 \nL 617.137187 52.474125 \nL 59.137187 52.474125 \nz\n\" style=\"fill:#eaeaf2;\"/>\n   </g>\n   <g id=\"matplotlib.axis_1\">\n    <g id=\"xtick_1\">\n     <g id=\"line2d_1\">\n      <path clip-path=\"url(#p92753f63aa)\" d=\"M 59.137187 432.994125 \nL 59.137187 52.474125 \n\" style=\"fill:none;stroke:#ffffff;stroke-linecap:round;\"/>\n     </g>\n     <g id=\"line2d_2\"/>\n     <g id=\"text_1\">\n      <!-- 0 -->\n      <defs>\n       <path d=\"M 4.15625 35.296875 \nQ 4.15625 48 6.765625 55.734375 \nQ 9.375 63.484375 14.515625 67.671875 \nQ 19.671875 71.875 27.484375 71.875 \nQ 33.25 71.875 37.59375 69.546875 \nQ 41.9375 67.234375 44.765625 62.859375 \nQ 47.609375 58.5 49.21875 52.21875 \nQ 50.828125 45.953125 50.828125 35.296875 \nQ 50.828125 22.703125 48.234375 14.96875 \nQ 45.65625 7.234375 40.5 3 \nQ 35.359375 -1.21875 27.484375 -1.21875 \nQ 17.140625 -1.21875 11.234375 6.203125 \nQ 4.15625 15.140625 4.15625 35.296875 \nz\nM 13.1875 35.296875 \nQ 13.1875 17.671875 17.3125 11.828125 \nQ 21.4375 6 27.484375 6 \nQ 33.546875 6 37.671875 11.859375 \nQ 41.796875 17.71875 41.796875 35.296875 \nQ 41.796875 52.984375 37.671875 58.78125 \nQ 33.546875 64.59375 27.390625 64.59375 \nQ 21.34375 64.59375 17.71875 59.46875 \nQ 13.1875 52.9375 13.1875 35.296875 \nz\n\" id=\"ArialMT-48\"/>\n      </defs>\n      <g style=\"fill:#262626;\" transform=\"translate(56.356719 447.151937)scale(0.1 -0.1)\">\n       <use xlink:href=\"#ArialMT-48\"/>\n      </g>\n     </g>\n    </g>\n    <g id=\"xtick_2\">\n     <g id=\"line2d_3\">\n      <path clip-path=\"url(#p92753f63aa)\" d=\"M 143.678109 432.994125 \nL 143.678109 52.474125 \n\" style=\"fill:none;stroke:#ffffff;stroke-linecap:round;\"/>\n     </g>\n     <g id=\"line2d_4\"/>\n     <g id=\"text_2\">\n      <!-- 2 -->\n      <defs>\n       <path d=\"M 50.34375 8.453125 \nL 50.34375 0 \nL 3.03125 0 \nQ 2.9375 3.171875 4.046875 6.109375 \nQ 5.859375 10.9375 9.828125 15.625 \nQ 13.8125 20.3125 21.34375 26.46875 \nQ 33.015625 36.03125 37.109375 41.625 \nQ 41.21875 47.21875 41.21875 52.203125 \nQ 41.21875 57.421875 37.46875 61 \nQ 33.734375 64.59375 27.734375 64.59375 \nQ 21.390625 64.59375 17.578125 60.78125 \nQ 13.765625 56.984375 13.71875 50.25 \nL 4.6875 51.171875 \nQ 5.609375 61.28125 11.65625 66.578125 \nQ 17.71875 71.875 27.9375 71.875 \nQ 38.234375 71.875 44.234375 66.15625 \nQ 50.25 60.453125 50.25 52 \nQ 50.25 47.703125 48.484375 43.546875 \nQ 46.734375 39.40625 42.65625 34.8125 \nQ 38.578125 30.21875 29.109375 22.21875 \nQ 21.1875 15.578125 18.9375 13.203125 \nQ 16.703125 10.84375 15.234375 8.453125 \nz\n\" id=\"ArialMT-50\"/>\n      </defs>\n      <g style=\"fill:#262626;\" transform=\"translate(140.89764 447.151937)scale(0.1 -0.1)\">\n       <use xlink:href=\"#ArialMT-50\"/>\n      </g>\n     </g>\n    </g>\n    <g id=\"xtick_3\">\n     <g id=\"line2d_5\">\n      <path clip-path=\"url(#p92753f63aa)\" d=\"M 228.21903 432.994125 \nL 228.21903 52.474125 \n\" style=\"fill:none;stroke:#ffffff;stroke-linecap:round;\"/>\n     </g>\n     <g id=\"line2d_6\"/>\n     <g id=\"text_3\">\n      <!-- 4 -->\n      <defs>\n       <path d=\"M 32.328125 0 \nL 32.328125 17.140625 \nL 1.265625 17.140625 \nL 1.265625 25.203125 \nL 33.9375 71.578125 \nL 41.109375 71.578125 \nL 41.109375 25.203125 \nL 50.78125 25.203125 \nL 50.78125 17.140625 \nL 41.109375 17.140625 \nL 41.109375 0 \nz\nM 32.328125 25.203125 \nL 32.328125 57.46875 \nL 9.90625 25.203125 \nz\n\" id=\"ArialMT-52\"/>\n      </defs>\n      <g style=\"fill:#262626;\" transform=\"translate(225.438561 447.151937)scale(0.1 -0.1)\">\n       <use xlink:href=\"#ArialMT-52\"/>\n      </g>\n     </g>\n    </g>\n    <g id=\"xtick_4\">\n     <g id=\"line2d_7\">\n      <path clip-path=\"url(#p92753f63aa)\" d=\"M 312.759951 432.994125 \nL 312.759951 52.474125 \n\" style=\"fill:none;stroke:#ffffff;stroke-linecap:round;\"/>\n     </g>\n     <g id=\"line2d_8\"/>\n     <g id=\"text_4\">\n      <!-- 6 -->\n      <defs>\n       <path d=\"M 49.75 54.046875 \nL 41.015625 53.375 \nQ 39.84375 58.546875 37.703125 60.890625 \nQ 34.125 64.65625 28.90625 64.65625 \nQ 24.703125 64.65625 21.53125 62.3125 \nQ 17.390625 59.28125 14.984375 53.46875 \nQ 12.59375 47.65625 12.5 36.921875 \nQ 15.671875 41.75 20.265625 44.09375 \nQ 24.859375 46.4375 29.890625 46.4375 \nQ 38.671875 46.4375 44.84375 39.96875 \nQ 51.03125 33.5 51.03125 23.25 \nQ 51.03125 16.5 48.125 10.71875 \nQ 45.21875 4.9375 40.140625 1.859375 \nQ 35.0625 -1.21875 28.609375 -1.21875 \nQ 17.625 -1.21875 10.6875 6.859375 \nQ 3.765625 14.9375 3.765625 33.5 \nQ 3.765625 54.25 11.421875 63.671875 \nQ 18.109375 71.875 29.4375 71.875 \nQ 37.890625 71.875 43.28125 67.140625 \nQ 48.6875 62.40625 49.75 54.046875 \nz\nM 13.875 23.1875 \nQ 13.875 18.65625 15.796875 14.5 \nQ 17.71875 10.359375 21.1875 8.171875 \nQ 24.65625 6 28.46875 6 \nQ 34.03125 6 38.03125 10.484375 \nQ 42.046875 14.984375 42.046875 22.703125 \nQ 42.046875 30.125 38.078125 34.390625 \nQ 34.125 38.671875 28.125 38.671875 \nQ 22.171875 38.671875 18.015625 34.390625 \nQ 13.875 30.125 13.875 23.1875 \nz\n\" id=\"ArialMT-54\"/>\n      </defs>\n      <g style=\"fill:#262626;\" transform=\"translate(309.979483 447.151937)scale(0.1 -0.1)\">\n       <use xlink:href=\"#ArialMT-54\"/>\n      </g>\n     </g>\n    </g>\n    <g id=\"xtick_5\">\n     <g id=\"line2d_9\">\n      <path clip-path=\"url(#p92753f63aa)\" d=\"M 397.300873 432.994125 \nL 397.300873 52.474125 \n\" style=\"fill:none;stroke:#ffffff;stroke-linecap:round;\"/>\n     </g>\n     <g id=\"line2d_10\"/>\n     <g id=\"text_5\">\n      <!-- 8 -->\n      <defs>\n       <path d=\"M 17.671875 38.8125 \nQ 12.203125 40.828125 9.5625 44.53125 \nQ 6.9375 48.25 6.9375 53.421875 \nQ 6.9375 61.234375 12.546875 66.546875 \nQ 18.171875 71.875 27.484375 71.875 \nQ 36.859375 71.875 42.578125 66.421875 \nQ 48.296875 60.984375 48.296875 53.171875 \nQ 48.296875 48.1875 45.671875 44.5 \nQ 43.0625 40.828125 37.75 38.8125 \nQ 44.34375 36.671875 47.78125 31.875 \nQ 51.21875 27.09375 51.21875 20.453125 \nQ 51.21875 11.28125 44.71875 5.03125 \nQ 38.234375 -1.21875 27.640625 -1.21875 \nQ 17.046875 -1.21875 10.546875 5.046875 \nQ 4.046875 11.328125 4.046875 20.703125 \nQ 4.046875 27.6875 7.59375 32.390625 \nQ 11.140625 37.109375 17.671875 38.8125 \nz\nM 15.921875 53.71875 \nQ 15.921875 48.640625 19.1875 45.40625 \nQ 22.46875 42.1875 27.6875 42.1875 \nQ 32.765625 42.1875 36.015625 45.375 \nQ 39.265625 48.578125 39.265625 53.21875 \nQ 39.265625 58.0625 35.90625 61.359375 \nQ 32.5625 64.65625 27.59375 64.65625 \nQ 22.5625 64.65625 19.234375 61.421875 \nQ 15.921875 58.203125 15.921875 53.71875 \nz\nM 13.09375 20.65625 \nQ 13.09375 16.890625 14.875 13.375 \nQ 16.65625 9.859375 20.171875 7.921875 \nQ 23.6875 6 27.734375 6 \nQ 34.03125 6 38.125 10.046875 \nQ 42.234375 14.109375 42.234375 20.359375 \nQ 42.234375 26.703125 38.015625 30.859375 \nQ 33.796875 35.015625 27.4375 35.015625 \nQ 21.234375 35.015625 17.15625 30.90625 \nQ 13.09375 26.8125 13.09375 20.65625 \nz\n\" id=\"ArialMT-56\"/>\n      </defs>\n      <g style=\"fill:#262626;\" transform=\"translate(394.520404 447.151937)scale(0.1 -0.1)\">\n       <use xlink:href=\"#ArialMT-56\"/>\n      </g>\n     </g>\n    </g>\n    <g id=\"xtick_6\">\n     <g id=\"line2d_11\">\n      <path clip-path=\"url(#p92753f63aa)\" d=\"M 481.841794 432.994125 \nL 481.841794 52.474125 \n\" style=\"fill:none;stroke:#ffffff;stroke-linecap:round;\"/>\n     </g>\n     <g id=\"line2d_12\"/>\n     <g id=\"text_6\">\n      <!-- 10 -->\n      <defs>\n       <path d=\"M 37.25 0 \nL 28.46875 0 \nL 28.46875 56 \nQ 25.296875 52.984375 20.140625 49.953125 \nQ 14.984375 46.921875 10.890625 45.40625 \nL 10.890625 53.90625 \nQ 18.265625 57.375 23.78125 62.296875 \nQ 29.296875 67.234375 31.59375 71.875 \nL 37.25 71.875 \nz\n\" id=\"ArialMT-49\"/>\n      </defs>\n      <g style=\"fill:#262626;\" transform=\"translate(476.280857 447.151937)scale(0.1 -0.1)\">\n       <use xlink:href=\"#ArialMT-49\"/>\n       <use x=\"55.615234\" xlink:href=\"#ArialMT-48\"/>\n      </g>\n     </g>\n    </g>\n    <g id=\"xtick_7\">\n     <g id=\"line2d_13\">\n      <path clip-path=\"url(#p92753f63aa)\" d=\"M 566.382715 432.994125 \nL 566.382715 52.474125 \n\" style=\"fill:none;stroke:#ffffff;stroke-linecap:round;\"/>\n     </g>\n     <g id=\"line2d_14\"/>\n     <g id=\"text_7\">\n      <!-- 12 -->\n      <g style=\"fill:#262626;\" transform=\"translate(560.821778 447.151937)scale(0.1 -0.1)\">\n       <use xlink:href=\"#ArialMT-49\"/>\n       <use x=\"55.615234\" xlink:href=\"#ArialMT-50\"/>\n      </g>\n     </g>\n    </g>\n    <g id=\"text_8\">\n     <!--  -->\n     <g style=\"fill:#262626;\" transform=\"translate(338.137187 463.876156)scale(0.15 -0.15)\"/>\n     <!-- $k_{t}$ -->\n     <defs>\n      <path d=\"M 18.3125 75.984375 \nL 27.296875 75.984375 \nL 18.703125 31.6875 \nL 49.515625 54.6875 \nL 61.1875 54.6875 \nL 26.8125 28.515625 \nL 51.90625 0 \nL 41.015625 0 \nL 17.671875 26.703125 \nL 12.5 0 \nL 3.515625 0 \nz\n\" id=\"DejaVuSans-Oblique-107\"/>\n      <path d=\"M 42.28125 54.6875 \nL 40.921875 47.703125 \nL 23 47.703125 \nL 17.1875 18.015625 \nQ 16.890625 16.359375 16.75 15.234375 \nQ 16.609375 14.109375 16.609375 13.484375 \nQ 16.609375 10.359375 18.484375 8.9375 \nQ 20.359375 7.515625 24.515625 7.515625 \nL 33.59375 7.515625 \nL 32.078125 0 \nL 23.484375 0 \nQ 15.484375 0 11.546875 3.125 \nQ 7.625 6.25 7.625 12.59375 \nQ 7.625 13.71875 7.765625 15.0625 \nQ 7.90625 16.40625 8.203125 18.015625 \nL 14.015625 47.703125 \nL 6.390625 47.703125 \nL 7.8125 54.6875 \nL 15.28125 54.6875 \nL 18.3125 70.21875 \nL 27.296875 70.21875 \nL 24.3125 54.6875 \nz\n\" id=\"DejaVuSans-Oblique-116\"/>\n     </defs>\n     <g style=\"fill:#262626;\" transform=\"translate(331.462187 480.019906)scale(0.15 -0.15)\">\n      <use transform=\"translate(0 0.015625)\" xlink:href=\"#DejaVuSans-Oblique-107\"/>\n      <use transform=\"translate(57.910156 -16.390625)scale(0.7)\" xlink:href=\"#DejaVuSans-Oblique-116\"/>\n     </g>\n    </g>\n   </g>\n   <g id=\"matplotlib.axis_2\">\n    <g id=\"ytick_1\">\n     <g id=\"line2d_15\">\n      <path clip-path=\"url(#p92753f63aa)\" d=\"M 59.137187 432.994125 \nL 617.137187 432.994125 \n\" style=\"fill:none;stroke:#ffffff;stroke-linecap:round;\"/>\n     </g>\n     <g id=\"line2d_16\"/>\n     <g id=\"text_9\">\n      <!-- 0 -->\n      <g style=\"fill:#262626;\" transform=\"translate(46.57625 436.573031)scale(0.1 -0.1)\">\n       <use xlink:href=\"#ArialMT-48\"/>\n      </g>\n     </g>\n    </g>\n    <g id=\"ytick_2\">\n     <g id=\"line2d_17\">\n      <path clip-path=\"url(#p92753f63aa)\" d=\"M 59.137187 375.342671 \nL 617.137187 375.342671 \n\" style=\"fill:none;stroke:#ffffff;stroke-linecap:round;\"/>\n     </g>\n     <g id=\"line2d_18\"/>\n     <g id=\"text_10\">\n      <!-- 2 -->\n      <g style=\"fill:#262626;\" transform=\"translate(46.57625 378.921577)scale(0.1 -0.1)\">\n       <use xlink:href=\"#ArialMT-50\"/>\n      </g>\n     </g>\n    </g>\n    <g id=\"ytick_3\">\n     <g id=\"line2d_19\">\n      <path clip-path=\"url(#p92753f63aa)\" d=\"M 59.137187 317.691217 \nL 617.137187 317.691217 \n\" style=\"fill:none;stroke:#ffffff;stroke-linecap:round;\"/>\n     </g>\n     <g id=\"line2d_20\"/>\n     <g id=\"text_11\">\n      <!-- 4 -->\n      <g style=\"fill:#262626;\" transform=\"translate(46.57625 321.270123)scale(0.1 -0.1)\">\n       <use xlink:href=\"#ArialMT-52\"/>\n      </g>\n     </g>\n    </g>\n    <g id=\"ytick_4\">\n     <g id=\"line2d_21\">\n      <path clip-path=\"url(#p92753f63aa)\" d=\"M 59.137187 260.039763 \nL 617.137187 260.039763 \n\" style=\"fill:none;stroke:#ffffff;stroke-linecap:round;\"/>\n     </g>\n     <g id=\"line2d_22\"/>\n     <g id=\"text_12\">\n      <!-- 6 -->\n      <g style=\"fill:#262626;\" transform=\"translate(46.57625 263.618669)scale(0.1 -0.1)\">\n       <use xlink:href=\"#ArialMT-54\"/>\n      </g>\n     </g>\n    </g>\n    <g id=\"ytick_5\">\n     <g id=\"line2d_23\">\n      <path clip-path=\"url(#p92753f63aa)\" d=\"M 59.137187 202.388309 \nL 617.137187 202.388309 \n\" style=\"fill:none;stroke:#ffffff;stroke-linecap:round;\"/>\n     </g>\n     <g id=\"line2d_24\"/>\n     <g id=\"text_13\">\n      <!-- 8 -->\n      <g style=\"fill:#262626;\" transform=\"translate(46.57625 205.967215)scale(0.1 -0.1)\">\n       <use xlink:href=\"#ArialMT-56\"/>\n      </g>\n     </g>\n    </g>\n    <g id=\"ytick_6\">\n     <g id=\"line2d_25\">\n      <path clip-path=\"url(#p92753f63aa)\" d=\"M 59.137187 144.736855 \nL 617.137187 144.736855 \n\" style=\"fill:none;stroke:#ffffff;stroke-linecap:round;\"/>\n     </g>\n     <g id=\"line2d_26\"/>\n     <g id=\"text_14\">\n      <!-- 10 -->\n      <g style=\"fill:#262626;\" transform=\"translate(41.015312 148.315761)scale(0.1 -0.1)\">\n       <use xlink:href=\"#ArialMT-49\"/>\n       <use x=\"55.615234\" xlink:href=\"#ArialMT-48\"/>\n      </g>\n     </g>\n    </g>\n    <g id=\"ytick_7\">\n     <g id=\"line2d_27\">\n      <path clip-path=\"url(#p92753f63aa)\" d=\"M 59.137187 87.085401 \nL 617.137187 87.085401 \n\" style=\"fill:none;stroke:#ffffff;stroke-linecap:round;\"/>\n     </g>\n     <g id=\"line2d_28\"/>\n     <g id=\"text_15\">\n      <!-- 12 -->\n      <g style=\"fill:#262626;\" transform=\"translate(41.015312 90.664307)scale(0.1 -0.1)\">\n       <use xlink:href=\"#ArialMT-49\"/>\n       <use x=\"55.615234\" xlink:href=\"#ArialMT-50\"/>\n      </g>\n     </g>\n    </g>\n    <g id=\"text_16\">\n     <!-- $h_{t}$ -->\n     <defs>\n      <path d=\"M 55.71875 33.015625 \nL 49.3125 0 \nL 40.28125 0 \nL 46.6875 32.671875 \nQ 47.125 34.96875 47.359375 36.71875 \nQ 47.609375 38.484375 47.609375 39.5 \nQ 47.609375 43.609375 45.015625 45.890625 \nQ 42.4375 48.1875 37.796875 48.1875 \nQ 30.5625 48.1875 25.265625 43.296875 \nQ 19.96875 38.421875 18.40625 30.328125 \nL 12.5 0 \nL 3.515625 0 \nL 18.3125 75.984375 \nL 27.296875 75.984375 \nL 21.484375 46.09375 \nQ 24.90625 50.6875 30.21875 53.34375 \nQ 35.546875 56 41.40625 56 \nQ 48.640625 56 52.609375 52.09375 \nQ 56.59375 48.1875 56.59375 41.109375 \nQ 56.59375 39.359375 56.375 37.359375 \nQ 56.15625 35.359375 55.71875 33.015625 \nz\n\" id=\"DejaVuSans-Oblique-104\"/>\n     </defs>\n     <g style=\"fill:#262626;\" transform=\"translate(18.16875 249.784125)rotate(-90)scale(0.15 -0.15)\">\n      <use transform=\"translate(0 0.015625)\" xlink:href=\"#DejaVuSans-Oblique-104\"/>\n      <use transform=\"translate(63.378906 -16.390625)scale(0.7)\" xlink:href=\"#DejaVuSans-Oblique-116\"/>\n     </g>\n     <!--  -->\n     <g style=\"fill:#262626;\" transform=\"translate(34.034062 242.734125)rotate(-90)scale(0.15 -0.15)\"/>\n    </g>\n   </g>\n   <g id=\"line2d_29\">\n    <path clip-path=\"url(#p92753f63aa)\" d=\"M 59.137187 432.994125 \nL 66.957007 432.879394 \nL 74.218269 432.558818 \nL 81.47953 432.027272 \nL 88.740791 431.282157 \nL 96.002052 430.321619 \nL 103.263314 429.144209 \nL 110.524575 427.748738 \nL 117.785836 426.134191 \nL 125.047097 424.299687 \nL 132.308359 422.244445 \nL 139.56962 419.967764 \nL 146.830881 417.469007 \nL 154.092142 414.74759 \nL 161.353404 411.802977 \nL 169.173224 408.381671 \nL 176.993043 404.70035 \nL 184.812863 400.758471 \nL 192.632683 396.555527 \nL 200.452503 392.09104 \nL 208.272323 387.364557 \nL 216.092142 382.375651 \nL 223.911962 377.123914 \nL 231.731782 371.608959 \nL 239.551602 365.830416 \nL 247.371422 359.78793 \nL 255.7498 353.020556 \nL 264.128178 345.949397 \nL 272.506557 338.574068 \nL 280.884935 330.894198 \nL 289.263314 322.909433 \nL 297.641692 314.619429 \nL 306.02007 306.023856 \nL 314.398449 297.122393 \nL 323.335386 287.289993 \nL 332.272323 277.108842 \nL 341.20926 266.57859 \nL 350.146197 255.698895 \nL 359.083133 244.469427 \nL 368.02007 232.889865 \nL 376.957007 220.959897 \nL 386.452503 207.900028 \nL 395.947998 194.443887 \nL 405.443494 180.591133 \nL 414.938989 166.341431 \nL 424.434485 151.694454 \nL 433.92998 136.649887 \nL 443.425476 121.207419 \nL 453.47953 104.422537 \nL 463.533584 87.190879 \nL 473.587638 69.512102 \nL 483.641692 51.385875 \nL 493.695746 32.811871 \nL 503.7498 13.789774 \nL 511.4078 -1 \nL 511.4078 -1 \n\" style=\"fill:none;stroke:#0000ff;stroke-linecap:round;stroke-width:1.75;\"/>\n   </g>\n   <g id=\"line2d_30\">\n    <path clip-path=\"url(#p92753f63aa)\" d=\"M 59.137187 432.994125 \nL 59.695746 420.35265 \nL 60.254305 415.208618 \nL 61.371422 407.971391 \nL 62.488539 402.440251 \nL 64.164215 395.686484 \nL 65.83989 390.007358 \nL 67.515566 385.013425 \nL 69.7498 379.088807 \nL 71.984034 373.769882 \nL 74.776827 367.744641 \nL 77.56962 362.244763 \nL 80.920971 356.177285 \nL 84.272323 350.567674 \nL 88.182233 344.483903 \nL 92.092142 338.803334 \nL 96.560611 332.715648 \nL 101.029079 326.986919 \nL 106.056106 320.901484 \nL 111.641692 314.516363 \nL 117.227278 308.467582 \nL 123.371422 302.145751 \nL 130.074124 295.590059 \nL 136.776827 289.341851 \nL 144.038088 282.874618 \nL 151.857908 276.216593 \nL 160.236287 269.392094 \nL 168.614665 262.849044 \nL 177.551602 256.144165 \nL 187.047097 249.295976 \nL 197.101151 242.32065 \nL 207.713764 235.232311 \nL 218.884935 228.043297 \nL 230.614665 220.764403 \nL 242.902953 213.405087 \nL 255.7498 205.973647 \nL 269.155206 198.477382 \nL 283.119169 190.922722 \nL 297.641692 183.315347 \nL 312.722773 175.660284 \nL 328.920971 167.691309 \nL 345.677728 159.699131 \nL 362.993043 151.685995 \nL 381.425476 143.406587 \nL 400.416467 135.123961 \nL 419.966016 126.838583 \nL 440.632683 118.323857 \nL 461.857908 109.81931 \nL 484.200251 101.109442 \nL 507.101151 92.419731 \nL 531.119169 83.545053 \nL 556.254305 74.49972 \nL 581.947998 65.490205 \nL 608.758809 56.32544 \nL 617.137188 53.508195 \nL 617.137188 53.508195 \n\" style=\"fill:none;stroke:#ff0000;stroke-linecap:round;stroke-width:1.75;\"/>\n   </g>\n   <g id=\"line2d_31\">\n    <defs>\n     <path d=\"M 0 3.5 \nC 0.928211 3.5 1.81853 3.131218 2.474874 2.474874 \nC 3.131218 1.81853 3.5 0.928211 3.5 0 \nC 3.5 -0.928211 3.131218 -1.81853 2.474874 -2.474874 \nC 1.81853 -3.131218 0.928211 -3.5 0 -3.5 \nC -0.928211 -3.5 -1.81853 -3.131218 -2.474874 -2.474874 \nC -3.131218 -1.81853 -3.5 -0.928211 -3.5 0 \nC -3.5 0.928211 -3.131218 1.81853 -2.474874 2.474874 \nC -1.81853 3.131218 -0.928211 3.5 0 3.5 \nz\n\" id=\"m3982866bf2\"/>\n    </defs>\n    <g clip-path=\"url(#p92753f63aa)\">\n     <use style=\"fill:#008000;\" x=\"446.637187\" xlink:href=\"#m3982866bf2\" y=\"115.894125\"/>\n    </g>\n   </g>\n   <g id=\"patch_3\">\n    <path d=\"M 59.137187 432.994125 \nL 59.137187 52.474125 \n\" style=\"fill:none;\"/>\n   </g>\n   <g id=\"patch_4\">\n    <path d=\"M 617.137187 432.994125 \nL 617.137187 52.474125 \n\" style=\"fill:none;\"/>\n   </g>\n   <g id=\"patch_5\">\n    <path d=\"M 59.137187 432.994125 \nL 617.137188 432.994125 \n\" style=\"fill:none;\"/>\n   </g>\n   <g id=\"patch_6\">\n    <path d=\"M 59.137187 52.474125 \nL 617.137188 52.474125 \n\" style=\"fill:none;\"/>\n   </g>\n   <g id=\"text_17\">\n    <!-- Transition diagram -->\n    <defs>\n     <path d=\"M 25.921875 0 \nL 25.921875 63.140625 \nL 2.34375 63.140625 \nL 2.34375 71.578125 \nL 59.078125 71.578125 \nL 59.078125 63.140625 \nL 35.40625 63.140625 \nL 35.40625 0 \nz\n\" id=\"ArialMT-84\"/>\n     <path d=\"M 6.5 0 \nL 6.5 51.859375 \nL 14.40625 51.859375 \nL 14.40625 44 \nQ 17.4375 49.515625 20 51.265625 \nQ 22.5625 53.03125 25.640625 53.03125 \nQ 30.078125 53.03125 34.671875 50.203125 \nL 31.640625 42.046875 \nQ 28.421875 43.953125 25.203125 43.953125 \nQ 22.3125 43.953125 20.015625 42.21875 \nQ 17.71875 40.484375 16.75 37.40625 \nQ 15.28125 32.71875 15.28125 27.15625 \nL 15.28125 0 \nz\n\" id=\"ArialMT-114\"/>\n     <path d=\"M 40.4375 6.390625 \nQ 35.546875 2.25 31.03125 0.53125 \nQ 26.515625 -1.171875 21.34375 -1.171875 \nQ 12.796875 -1.171875 8.203125 3 \nQ 3.609375 7.171875 3.609375 13.671875 \nQ 3.609375 17.484375 5.34375 20.625 \nQ 7.078125 23.78125 9.890625 25.6875 \nQ 12.703125 27.59375 16.21875 28.5625 \nQ 18.796875 29.25 24.03125 29.890625 \nQ 34.671875 31.15625 39.703125 32.90625 \nQ 39.75 34.71875 39.75 35.203125 \nQ 39.75 40.578125 37.25 42.78125 \nQ 33.890625 45.75 27.25 45.75 \nQ 21.046875 45.75 18.09375 43.578125 \nQ 15.140625 41.40625 13.71875 35.890625 \nL 5.125 37.0625 \nQ 6.296875 42.578125 8.984375 45.96875 \nQ 11.671875 49.359375 16.75 51.1875 \nQ 21.828125 53.03125 28.515625 53.03125 \nQ 35.15625 53.03125 39.296875 51.46875 \nQ 43.453125 49.90625 45.40625 47.53125 \nQ 47.359375 45.171875 48.140625 41.546875 \nQ 48.578125 39.3125 48.578125 33.453125 \nL 48.578125 21.734375 \nQ 48.578125 9.46875 49.140625 6.21875 \nQ 49.703125 2.984375 51.375 0 \nL 42.1875 0 \nQ 40.828125 2.734375 40.4375 6.390625 \nz\nM 39.703125 26.03125 \nQ 34.90625 24.078125 25.34375 22.703125 \nQ 19.921875 21.921875 17.671875 20.9375 \nQ 15.4375 19.96875 14.203125 18.09375 \nQ 12.984375 16.21875 12.984375 13.921875 \nQ 12.984375 10.40625 15.640625 8.0625 \nQ 18.3125 5.71875 23.4375 5.71875 \nQ 28.515625 5.71875 32.46875 7.9375 \nQ 36.421875 10.15625 38.28125 14.015625 \nQ 39.703125 17 39.703125 22.796875 \nz\n\" id=\"ArialMT-97\"/>\n     <path d=\"M 6.59375 0 \nL 6.59375 51.859375 \nL 14.5 51.859375 \nL 14.5 44.484375 \nQ 20.21875 53.03125 31 53.03125 \nQ 35.6875 53.03125 39.625 51.34375 \nQ 43.5625 49.65625 45.515625 46.921875 \nQ 47.46875 44.1875 48.25 40.4375 \nQ 48.734375 37.984375 48.734375 31.890625 \nL 48.734375 0 \nL 39.9375 0 \nL 39.9375 31.546875 \nQ 39.9375 36.921875 38.90625 39.578125 \nQ 37.890625 42.234375 35.28125 43.8125 \nQ 32.671875 45.40625 29.15625 45.40625 \nQ 23.53125 45.40625 19.453125 41.84375 \nQ 15.375 38.28125 15.375 28.328125 \nL 15.375 0 \nz\n\" id=\"ArialMT-110\"/>\n     <path d=\"M 3.078125 15.484375 \nL 11.765625 16.84375 \nQ 12.5 11.625 15.84375 8.84375 \nQ 19.1875 6.0625 25.203125 6.0625 \nQ 31.25 6.0625 34.171875 8.515625 \nQ 37.109375 10.984375 37.109375 14.3125 \nQ 37.109375 17.28125 34.515625 19 \nQ 32.71875 20.171875 25.53125 21.96875 \nQ 15.875 24.421875 12.140625 26.203125 \nQ 8.40625 27.984375 6.46875 31.125 \nQ 4.546875 34.28125 4.546875 38.09375 \nQ 4.546875 41.546875 6.125 44.5 \nQ 7.71875 47.46875 10.453125 49.421875 \nQ 12.5 50.921875 16.03125 51.96875 \nQ 19.578125 53.03125 23.640625 53.03125 \nQ 29.734375 53.03125 34.34375 51.265625 \nQ 38.96875 49.515625 41.15625 46.5 \nQ 43.359375 43.5 44.1875 38.484375 \nL 35.59375 37.3125 \nQ 35.015625 41.3125 32.203125 43.546875 \nQ 29.390625 45.796875 24.265625 45.796875 \nQ 18.21875 45.796875 15.625 43.796875 \nQ 13.03125 41.796875 13.03125 39.109375 \nQ 13.03125 37.40625 14.109375 36.03125 \nQ 15.1875 34.625 17.484375 33.6875 \nQ 18.796875 33.203125 25.25 31.453125 \nQ 34.578125 28.953125 38.25 27.359375 \nQ 41.9375 25.78125 44.03125 22.75 \nQ 46.140625 19.734375 46.140625 15.234375 \nQ 46.140625 10.84375 43.578125 6.953125 \nQ 41.015625 3.078125 36.171875 0.953125 \nQ 31.34375 -1.171875 25.25 -1.171875 \nQ 15.140625 -1.171875 9.84375 3.03125 \nQ 4.546875 7.234375 3.078125 15.484375 \nz\n\" id=\"ArialMT-115\"/>\n     <path d=\"M 6.640625 61.46875 \nL 6.640625 71.578125 \nL 15.4375 71.578125 \nL 15.4375 61.46875 \nz\nM 6.640625 0 \nL 6.640625 51.859375 \nL 15.4375 51.859375 \nL 15.4375 0 \nz\n\" id=\"ArialMT-105\"/>\n     <path d=\"M 25.78125 7.859375 \nL 27.046875 0.09375 \nQ 23.34375 -0.6875 20.40625 -0.6875 \nQ 15.625 -0.6875 12.984375 0.828125 \nQ 10.359375 2.34375 9.28125 4.8125 \nQ 8.203125 7.28125 8.203125 15.1875 \nL 8.203125 45.015625 \nL 1.765625 45.015625 \nL 1.765625 51.859375 \nL 8.203125 51.859375 \nL 8.203125 64.703125 \nL 16.9375 69.96875 \nL 16.9375 51.859375 \nL 25.78125 51.859375 \nL 25.78125 45.015625 \nL 16.9375 45.015625 \nL 16.9375 14.703125 \nQ 16.9375 10.9375 17.40625 9.859375 \nQ 17.875 8.796875 18.921875 8.15625 \nQ 19.96875 7.515625 21.921875 7.515625 \nQ 23.390625 7.515625 25.78125 7.859375 \nz\n\" id=\"ArialMT-116\"/>\n     <path d=\"M 3.328125 25.921875 \nQ 3.328125 40.328125 11.328125 47.265625 \nQ 18.015625 53.03125 27.640625 53.03125 \nQ 38.328125 53.03125 45.109375 46.015625 \nQ 51.90625 39.015625 51.90625 26.65625 \nQ 51.90625 16.65625 48.90625 10.90625 \nQ 45.90625 5.171875 40.15625 2 \nQ 34.421875 -1.171875 27.640625 -1.171875 \nQ 16.75 -1.171875 10.03125 5.8125 \nQ 3.328125 12.796875 3.328125 25.921875 \nz\nM 12.359375 25.921875 \nQ 12.359375 15.96875 16.703125 11.015625 \nQ 21.046875 6.0625 27.640625 6.0625 \nQ 34.1875 6.0625 38.53125 11.03125 \nQ 42.875 16.015625 42.875 26.21875 \nQ 42.875 35.84375 38.5 40.796875 \nQ 34.125 45.75 27.640625 45.75 \nQ 21.046875 45.75 16.703125 40.8125 \nQ 12.359375 35.890625 12.359375 25.921875 \nz\n\" id=\"ArialMT-111\"/>\n     <path id=\"ArialMT-32\"/>\n     <path d=\"M 40.234375 0 \nL 40.234375 6.546875 \nQ 35.296875 -1.171875 25.734375 -1.171875 \nQ 19.53125 -1.171875 14.328125 2.25 \nQ 9.125 5.671875 6.265625 11.796875 \nQ 3.421875 17.921875 3.421875 25.875 \nQ 3.421875 33.640625 6 39.96875 \nQ 8.59375 46.296875 13.765625 49.65625 \nQ 18.953125 53.03125 25.34375 53.03125 \nQ 30.03125 53.03125 33.6875 51.046875 \nQ 37.359375 49.078125 39.65625 45.90625 \nL 39.65625 71.578125 \nL 48.390625 71.578125 \nL 48.390625 0 \nz\nM 12.453125 25.875 \nQ 12.453125 15.921875 16.640625 10.984375 \nQ 20.84375 6.0625 26.5625 6.0625 \nQ 32.328125 6.0625 36.34375 10.765625 \nQ 40.375 15.484375 40.375 25.140625 \nQ 40.375 35.796875 36.265625 40.765625 \nQ 32.171875 45.75 26.171875 45.75 \nQ 20.3125 45.75 16.375 40.96875 \nQ 12.453125 36.1875 12.453125 25.875 \nz\n\" id=\"ArialMT-100\"/>\n     <path d=\"M 4.984375 -4.296875 \nL 13.53125 -5.5625 \nQ 14.0625 -9.515625 16.5 -11.328125 \nQ 19.78125 -13.765625 25.4375 -13.765625 \nQ 31.546875 -13.765625 34.859375 -11.328125 \nQ 38.1875 -8.890625 39.359375 -4.5 \nQ 40.046875 -1.8125 39.984375 6.78125 \nQ 34.234375 0 25.640625 0 \nQ 14.9375 0 9.078125 7.71875 \nQ 3.21875 15.4375 3.21875 26.21875 \nQ 3.21875 33.640625 5.90625 39.90625 \nQ 8.59375 46.1875 13.6875 49.609375 \nQ 18.796875 53.03125 25.6875 53.03125 \nQ 34.859375 53.03125 40.828125 45.609375 \nL 40.828125 51.859375 \nL 48.921875 51.859375 \nL 48.921875 7.03125 \nQ 48.921875 -5.078125 46.453125 -10.125 \nQ 44 -15.1875 38.640625 -18.109375 \nQ 33.296875 -21.046875 25.484375 -21.046875 \nQ 16.21875 -21.046875 10.5 -16.875 \nQ 4.78125 -12.703125 4.984375 -4.296875 \nz\nM 12.25 26.859375 \nQ 12.25 16.65625 16.296875 11.96875 \nQ 20.359375 7.28125 26.46875 7.28125 \nQ 32.515625 7.28125 36.609375 11.9375 \nQ 40.71875 16.609375 40.71875 26.5625 \nQ 40.71875 36.078125 36.5 40.90625 \nQ 32.28125 45.75 26.3125 45.75 \nQ 20.453125 45.75 16.34375 40.984375 \nQ 12.25 36.234375 12.25 26.859375 \nz\n\" id=\"ArialMT-103\"/>\n     <path d=\"M 6.59375 0 \nL 6.59375 51.859375 \nL 14.453125 51.859375 \nL 14.453125 44.578125 \nQ 16.890625 48.390625 20.9375 50.703125 \nQ 25 53.03125 30.171875 53.03125 \nQ 35.9375 53.03125 39.625 50.640625 \nQ 43.3125 48.25 44.828125 43.953125 \nQ 50.984375 53.03125 60.84375 53.03125 \nQ 68.5625 53.03125 72.703125 48.75 \nQ 76.859375 44.484375 76.859375 35.59375 \nL 76.859375 0 \nL 68.109375 0 \nL 68.109375 32.671875 \nQ 68.109375 37.9375 67.25 40.25 \nQ 66.40625 42.578125 64.15625 43.984375 \nQ 61.921875 45.40625 58.890625 45.40625 \nQ 53.421875 45.40625 49.796875 41.765625 \nQ 46.1875 38.140625 46.1875 30.125 \nL 46.1875 0 \nL 37.40625 0 \nL 37.40625 33.6875 \nQ 37.40625 39.546875 35.25 42.46875 \nQ 33.109375 45.40625 28.21875 45.40625 \nQ 24.515625 45.40625 21.359375 43.453125 \nQ 18.21875 41.5 16.796875 37.734375 \nQ 15.375 33.984375 15.375 26.90625 \nL 15.375 0 \nz\n\" id=\"ArialMT-109\"/>\n    </defs>\n    <g style=\"fill:#262626;\" transform=\"translate(247.055469 22.947187)scale(0.22 -0.22)\">\n     <use xlink:href=\"#ArialMT-84\"/>\n     <use x=\"61.037109\" xlink:href=\"#ArialMT-114\"/>\n     <use x=\"94.337891\" xlink:href=\"#ArialMT-97\"/>\n     <use x=\"149.953125\" xlink:href=\"#ArialMT-110\"/>\n     <use x=\"205.568359\" xlink:href=\"#ArialMT-115\"/>\n     <use x=\"255.568359\" xlink:href=\"#ArialMT-105\"/>\n     <use x=\"277.785156\" xlink:href=\"#ArialMT-116\"/>\n     <use x=\"305.568359\" xlink:href=\"#ArialMT-105\"/>\n     <use x=\"327.785156\" xlink:href=\"#ArialMT-111\"/>\n     <use x=\"383.400391\" xlink:href=\"#ArialMT-110\"/>\n     <use x=\"439.015625\" xlink:href=\"#ArialMT-32\"/>\n     <use x=\"466.798828\" xlink:href=\"#ArialMT-100\"/>\n     <use x=\"522.414062\" xlink:href=\"#ArialMT-105\"/>\n     <use x=\"544.630859\" xlink:href=\"#ArialMT-97\"/>\n     <use x=\"600.246094\" xlink:href=\"#ArialMT-103\"/>\n     <use x=\"655.861328\" xlink:href=\"#ArialMT-114\"/>\n     <use x=\"689.162109\" xlink:href=\"#ArialMT-97\"/>\n     <use x=\"744.777344\" xlink:href=\"#ArialMT-109\"/>\n    </g>\n    <!--  -->\n    <g style=\"fill:#262626;\" transform=\"translate(338.137187 46.474125)scale(0.22 -0.22)\"/>\n   </g>\n   <g id=\"legend_1\">\n    <g id=\"line2d_32\">\n     <path d=\"M 68.137187 65.253812 \nL 88.137187 65.253812 \n\" style=\"fill:none;stroke:#0000ff;stroke-linecap:round;stroke-width:1.75;\"/>\n    </g>\n    <g id=\"line2d_33\"/>\n    <g id=\"text_18\">\n     <!-- Transition of capital -->\n     <defs>\n      <path d=\"M 8.6875 0 \nL 8.6875 45.015625 \nL 0.921875 45.015625 \nL 0.921875 51.859375 \nL 8.6875 51.859375 \nL 8.6875 57.375 \nQ 8.6875 62.59375 9.625 65.140625 \nQ 10.890625 68.5625 14.078125 70.671875 \nQ 17.28125 72.796875 23.046875 72.796875 \nQ 26.765625 72.796875 31.25 71.921875 \nL 29.9375 64.265625 \nQ 27.203125 64.75 24.75 64.75 \nQ 20.75 64.75 19.09375 63.03125 \nQ 17.4375 61.328125 17.4375 56.640625 \nL 17.4375 51.859375 \nL 27.546875 51.859375 \nL 27.546875 45.015625 \nL 17.4375 45.015625 \nL 17.4375 0 \nz\n\" id=\"ArialMT-102\"/>\n      <path d=\"M 40.4375 19 \nL 49.078125 17.875 \nQ 47.65625 8.9375 41.8125 3.875 \nQ 35.984375 -1.171875 27.484375 -1.171875 \nQ 16.84375 -1.171875 10.375 5.78125 \nQ 3.90625 12.75 3.90625 25.734375 \nQ 3.90625 34.125 6.6875 40.421875 \nQ 9.46875 46.734375 15.15625 49.875 \nQ 20.84375 53.03125 27.546875 53.03125 \nQ 35.984375 53.03125 41.359375 48.75 \nQ 46.734375 44.484375 48.25 36.625 \nL 39.703125 35.296875 \nQ 38.484375 40.53125 35.375 43.15625 \nQ 32.28125 45.796875 27.875 45.796875 \nQ 21.234375 45.796875 17.078125 41.03125 \nQ 12.9375 36.28125 12.9375 25.984375 \nQ 12.9375 15.53125 16.9375 10.796875 \nQ 20.953125 6.0625 27.390625 6.0625 \nQ 32.5625 6.0625 36.03125 9.234375 \nQ 39.5 12.40625 40.4375 19 \nz\n\" id=\"ArialMT-99\"/>\n      <path d=\"M 6.59375 -19.875 \nL 6.59375 51.859375 \nL 14.59375 51.859375 \nL 14.59375 45.125 \nQ 17.4375 49.078125 21 51.046875 \nQ 24.5625 53.03125 29.640625 53.03125 \nQ 36.28125 53.03125 41.359375 49.609375 \nQ 46.4375 46.1875 49.015625 39.953125 \nQ 51.609375 33.734375 51.609375 26.3125 \nQ 51.609375 18.359375 48.75 11.984375 \nQ 45.90625 5.609375 40.453125 2.21875 \nQ 35.015625 -1.171875 29 -1.171875 \nQ 24.609375 -1.171875 21.109375 0.6875 \nQ 17.625 2.546875 15.375 5.375 \nL 15.375 -19.875 \nz\nM 14.546875 25.640625 \nQ 14.546875 15.625 18.59375 10.84375 \nQ 22.65625 6.0625 28.421875 6.0625 \nQ 34.28125 6.0625 38.453125 11.015625 \nQ 42.625 15.96875 42.625 26.375 \nQ 42.625 36.28125 38.546875 41.203125 \nQ 34.46875 46.140625 28.8125 46.140625 \nQ 23.1875 46.140625 18.859375 40.890625 \nQ 14.546875 35.640625 14.546875 25.640625 \nz\n\" id=\"ArialMT-112\"/>\n      <path d=\"M 6.390625 0 \nL 6.390625 71.578125 \nL 15.1875 71.578125 \nL 15.1875 0 \nz\n\" id=\"ArialMT-108\"/>\n     </defs>\n     <g style=\"fill:#262626;\" transform=\"translate(96.137187 68.753812)scale(0.1 -0.1)\">\n      <use xlink:href=\"#ArialMT-84\"/>\n      <use x=\"61.037109\" xlink:href=\"#ArialMT-114\"/>\n      <use x=\"94.337891\" xlink:href=\"#ArialMT-97\"/>\n      <use x=\"149.953125\" xlink:href=\"#ArialMT-110\"/>\n      <use x=\"205.568359\" xlink:href=\"#ArialMT-115\"/>\n      <use x=\"255.568359\" xlink:href=\"#ArialMT-105\"/>\n      <use x=\"277.785156\" xlink:href=\"#ArialMT-116\"/>\n      <use x=\"305.568359\" xlink:href=\"#ArialMT-105\"/>\n      <use x=\"327.785156\" xlink:href=\"#ArialMT-111\"/>\n      <use x=\"383.400391\" xlink:href=\"#ArialMT-110\"/>\n      <use x=\"439.015625\" xlink:href=\"#ArialMT-32\"/>\n      <use x=\"466.798828\" xlink:href=\"#ArialMT-111\"/>\n      <use x=\"522.414062\" xlink:href=\"#ArialMT-102\"/>\n      <use x=\"550.197266\" xlink:href=\"#ArialMT-32\"/>\n      <use x=\"577.980469\" xlink:href=\"#ArialMT-99\"/>\n      <use x=\"627.980469\" xlink:href=\"#ArialMT-97\"/>\n      <use x=\"683.595703\" xlink:href=\"#ArialMT-112\"/>\n      <use x=\"739.210938\" xlink:href=\"#ArialMT-105\"/>\n      <use x=\"761.427734\" xlink:href=\"#ArialMT-116\"/>\n      <use x=\"789.210938\" xlink:href=\"#ArialMT-97\"/>\n      <use x=\"844.826172\" xlink:href=\"#ArialMT-108\"/>\n     </g>\n    </g>\n    <g id=\"line2d_34\">\n     <path d=\"M 68.137187 79.521 \nL 88.137187 79.521 \n\" style=\"fill:none;stroke:#ff0000;stroke-linecap:round;stroke-width:1.75;\"/>\n    </g>\n    <g id=\"line2d_35\"/>\n    <g id=\"text_19\">\n     <!-- Transition of human capital -->\n     <defs>\n      <path d=\"M 6.59375 0 \nL 6.59375 71.578125 \nL 15.375 71.578125 \nL 15.375 45.90625 \nQ 21.53125 53.03125 30.90625 53.03125 \nQ 36.671875 53.03125 40.921875 50.75 \nQ 45.171875 48.484375 47 44.484375 \nQ 48.828125 40.484375 48.828125 32.859375 \nL 48.828125 0 \nL 40.046875 0 \nL 40.046875 32.859375 \nQ 40.046875 39.453125 37.1875 42.453125 \nQ 34.328125 45.453125 29.109375 45.453125 \nQ 25.203125 45.453125 21.75 43.421875 \nQ 18.3125 41.40625 16.84375 37.9375 \nQ 15.375 34.46875 15.375 28.375 \nL 15.375 0 \nz\n\" id=\"ArialMT-104\"/>\n      <path d=\"M 40.578125 0 \nL 40.578125 7.625 \nQ 34.515625 -1.171875 24.125 -1.171875 \nQ 19.53125 -1.171875 15.546875 0.578125 \nQ 11.578125 2.34375 9.640625 5 \nQ 7.71875 7.671875 6.9375 11.53125 \nQ 6.390625 14.109375 6.390625 19.734375 \nL 6.390625 51.859375 \nL 15.1875 51.859375 \nL 15.1875 23.09375 \nQ 15.1875 16.21875 15.71875 13.8125 \nQ 16.546875 10.359375 19.234375 8.375 \nQ 21.921875 6.390625 25.875 6.390625 \nQ 29.828125 6.390625 33.296875 8.421875 \nQ 36.765625 10.453125 38.203125 13.9375 \nQ 39.65625 17.4375 39.65625 24.078125 \nL 39.65625 51.859375 \nL 48.4375 51.859375 \nL 48.4375 0 \nz\n\" id=\"ArialMT-117\"/>\n     </defs>\n     <g style=\"fill:#262626;\" transform=\"translate(96.137187 83.021)scale(0.1 -0.1)\">\n      <use xlink:href=\"#ArialMT-84\"/>\n      <use x=\"61.037109\" xlink:href=\"#ArialMT-114\"/>\n      <use x=\"94.337891\" xlink:href=\"#ArialMT-97\"/>\n      <use x=\"149.953125\" xlink:href=\"#ArialMT-110\"/>\n      <use x=\"205.568359\" xlink:href=\"#ArialMT-115\"/>\n      <use x=\"255.568359\" xlink:href=\"#ArialMT-105\"/>\n      <use x=\"277.785156\" xlink:href=\"#ArialMT-116\"/>\n      <use x=\"305.568359\" xlink:href=\"#ArialMT-105\"/>\n      <use x=\"327.785156\" xlink:href=\"#ArialMT-111\"/>\n      <use x=\"383.400391\" xlink:href=\"#ArialMT-110\"/>\n      <use x=\"439.015625\" xlink:href=\"#ArialMT-32\"/>\n      <use x=\"466.798828\" xlink:href=\"#ArialMT-111\"/>\n      <use x=\"522.414062\" xlink:href=\"#ArialMT-102\"/>\n      <use x=\"550.197266\" xlink:href=\"#ArialMT-32\"/>\n      <use x=\"577.980469\" xlink:href=\"#ArialMT-104\"/>\n      <use x=\"633.595703\" xlink:href=\"#ArialMT-117\"/>\n      <use x=\"689.210938\" xlink:href=\"#ArialMT-109\"/>\n      <use x=\"772.511719\" xlink:href=\"#ArialMT-97\"/>\n      <use x=\"828.126953\" xlink:href=\"#ArialMT-110\"/>\n      <use x=\"883.742188\" xlink:href=\"#ArialMT-32\"/>\n      <use x=\"911.525391\" xlink:href=\"#ArialMT-99\"/>\n      <use x=\"961.525391\" xlink:href=\"#ArialMT-97\"/>\n      <use x=\"1017.140625\" xlink:href=\"#ArialMT-112\"/>\n      <use x=\"1072.755859\" xlink:href=\"#ArialMT-105\"/>\n      <use x=\"1094.972656\" xlink:href=\"#ArialMT-116\"/>\n      <use x=\"1122.755859\" xlink:href=\"#ArialMT-97\"/>\n      <use x=\"1178.371094\" xlink:href=\"#ArialMT-108\"/>\n     </g>\n    </g>\n   </g>\n  </g>\n </g>\n <defs>\n  <clipPath id=\"p92753f63aa\">\n   <rect height=\"380.52\" width=\"558\" x=\"59.137187\" y=\"52.474125\"/>\n  </clipPath>\n </defs>\n</svg>\n",
      "image/png": "[encoded data removed]"
     },
     "metadata": {}
    }
   ],
   "source": [
    "#Graph plot - transition diagram\n",
    "hmin  = 0                                \n",
    "hmax  = max(h_ss*1.2, k1_ss*1.2)           \n",
    "h_set = np.linspace(hmin, hmax, 1000)      \n",
    "\n",
    "k1min  = 0                          \n",
    "k1max  = max(h_ss*1.2, k1_ss*1.2)    \n",
    "k1_set = np.linspace(k1min, k1max, 1000) \n",
    "\n",
    "phase = plt.figure(figsize=(10,7))      \n",
    "\n",
    "plt.xlim(0, k1max)                     \n",
    "plt.ylim(0, hmax) \n",
    "#Accumulation of capital and human capital with auxiliary functions and the SS(symbolic) of capital and human capital\n",
    "plt.plot(k1_set, aux_k(k1_set,g,n,s_k,s_h,alpha,delta,phi), 'b-', \n",
    "         h_set, aux_h(k1_set,g,n,s_k,s_h,alpha,delta,phi), 'r-',\n",
    "        k1_ss_symbolic, h_ss_symbolic, 'go')                     \n",
    "plt.xlabel('\\n$k_{t}$',   size=15)         \n",
    "plt.ylabel('$h_{t}$\\n', size=15)           \n",
    "plt.title('Transition diagram\\n', size=22) \n",
    "plt.legend(('Transition of capital','Transition of human capital'),\n",
    "           loc='upper left')            \n",
    "\n",
    "plt.show()"
   ]
  },
  {
   "cell_type": "markdown",
   "metadata": {},
   "source": [
    "# Conclusion\n",
    "In this project we have analyzed the General Solow model by using Python.\n",
    "This includes the general steps we know from deriving the transition equation and the solow equation and finding steady state. We have created an interactive plot showing the General Solow model and the steady state.\n",
    "Moreover we have extended to the General Solow model by adding human capital. Here we found it interesting looking into human capital accumulation and capital accumulation by making a graph."
   ]
  }
 ],
 "metadata": {
  "kernelspec": {
   "display_name": "Python 3",
   "language": "python",
   "name": "python3"
  },
  "language_info": {
   "codemirror_mode": {
    "name": "ipython",
    "version": 3
   },
   "file_extension": ".py",
   "mimetype": "text/x-python",
   "name": "python",
   "nbconvert_exporter": "python",
   "pygments_lexer": "ipython3",
   "version": "3.7.7-final"
  },
  "toc-autonumbering": true
 },
 "nbformat": 4,
 "nbformat_minor": 4
}
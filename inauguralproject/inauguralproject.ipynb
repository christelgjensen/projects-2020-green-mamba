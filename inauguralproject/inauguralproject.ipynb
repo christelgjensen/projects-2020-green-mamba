{
 "cells": [
  {
   "cell_type": "markdown",
   "metadata": {},
   "source": [
    "# Inaugural Project"
   ]
  },
  {
   "cell_type": "markdown",
   "metadata": {},
   "source": [
    "> **Note the following:** \n",
    "> 1. This is an example of how to structure your **inaugural project**.\n",
    "> 1. Remember the general advice on structuring and commenting your code from [lecture 5](https://numeconcopenhagen.netlify.com/lectures/Workflow_and_debugging).\n",
    "> 1. Remember this [guide](https://www.markdownguide.org/basic-syntax/) on markdown and (a bit of) latex.\n",
    "> 1. Turn on automatic numbering by clicking on the small icon on top of the table of contents in the left sidebar.\n",
    "> 1. The `inauguralproject.py` file includes a function which can be used multiple times in this notebook."
   ]
  },
  {
   "cell_type": "markdown",
   "metadata": {},
   "source": [
    "Imports and set magics:"
   ]
  },
  {
   "cell_type": "code",
   "execution_count": 5,
   "metadata": {},
   "outputs": [
    {
     "name": "stdout",
     "output_type": "stream",
     "text": "The autoreload extension is already loaded. To reload it, use:\n  %reload_ext autoreload\n"
    }
   ],
   "source": [
    "#Import numpy package\n",
    "import numpy as np\n",
    "\n",
    "#Import optimize from scipy package\n",
    "from scipy import optimize\n",
    "\n",
    "#Import pyplot and chossing style.\n",
    "import matplotlib.pyplot as plt\n",
    "\n",
    "#Autoload\n",
    "%load_ext autoreload\n",
    "%autoreload 2"
   ]
  },
  {
   "cell_type": "markdown",
   "metadata": {
    "toc-hr-collapsed": true
   },
   "source": [
    "# Question 1"
   ]
  },
  {
   "cell_type": "markdown",
   "metadata": {},
   "source": [
    "BRIEFLY EXPLAIN HOW YOU SOLVE THE MODEL."
   ]
  },
  {
   "cell_type": "code",
   "execution_count": 8,
   "metadata": {},
   "outputs": [
    {
     "name": "stdout",
     "output_type": "stream",
     "text": "[1 4 9]\n[2 4 6]\n"
    }
   ],
   "source": [
    "#Defining variables given\n",
    "m = 1\n",
    "v = 10\n",
    "e = 0.3\n",
    "tau0 = 0.4\n",
    "tau1 = 0.1\n",
    "k = 0.4\n",
    "w = 1 #set as exogenous\n",
    "\n",
    "#Defining the given function\n",
    "def utility(c, l, v, e):\n",
    "    u = np.log(c) - v*(l**(1 + (1/e))/(1 + (1/e)))\n",
    "    return u\n",
    "\n",
    "#Defining s.t. (constraint)\n",
    "def st(l, m, w, tau0, tau1, k):\n",
    "    x = m + w*l - (tau0*w*l + tau1*np.fmax(w*l - k,0))\n",
    "    return x\n",
    "\n",
    "#We apply that c*=x\n",
    "def cstar(l, m, w, tau0, tau1, k, v, e):\n",
    "    c = st(l = l, m = m, w = w, tau0 = tau0, tau1 = tau1, k = k)\n",
    "    return -utility(c = c, l = l, v = v, e = e)\n",
    "\n",
    "#Finding l*, c* and utility that are optimal\n",
    "def opt(m, w, tau0, tau1, k, v, e):\n",
    "    sol = optimize.minimize_scalar (\n",
    "        cstar, \n",
    "        method = 'bounded', \n",
    "        bounds = (0, 1), \n",
    "        args = (m, w,tau0, tau1, k, v, e) )\n",
    "    l_opt = sol.x\n",
    "    c_opt = st(l = l_opt, m = m, w = w, tau0 = tau0, tau1 = tau1, k = k)\n",
    "    u_opt = utility(c = c_opt, l = l_opt, v = v, e = e)\n",
    "    return l_opt, c_opt, u_opt\n",
    "\n",
    "l_opt, c_opt, u_opt = opt(m, w, tau0, tau1, k, v, e)\n",
    "\n",
    "#Printing optimal values\n",
    "print(f'The optimal labor supply when w=1 is {l_opt:.3f}')\n",
    "print(f'The optimal consumption when w=1 is {c_opt:.3f}')\n",
    "print(f'The optimal utility when w=1 is {u_opt:.3f}')\n"
   ]
  },
  {
   "cell_type": "markdown",
   "metadata": {},
   "source": [
    "# Question 2"
   ]
  },
  {
   "cell_type": "markdown",
   "metadata": {},
   "source": [
    "ADD ANSWER."
   ]
  },
  {
   "cell_type": "code",
   "execution_count": 3,
   "metadata": {},
   "outputs": [],
   "source": [
    "np.random.seed(13)\n",
    "N = 10000\n",
    "w_values = np.linspace(0.5,1.5,N)\n",
    "l_values = np.empty(N)\n",
    "c_values = np.empty(N)\n",
    "\n",
    "for i,w in enumerate(w_values):\n",
    "    sol2 = optimize.minimize_scalar (\n",
    "        cstar,\n",
    "        method = \"bounded\",\n",
    "        bounds = (0,1),\n",
    "        args = (m, w,tau0, tau1, k, v, e))\n",
    "    l_values[i] = sol2.x\n",
    "    c_values[i] = st(l = l_values[i], m = m, w = w, tau0 = tau0, tau1 = tau1, k = k)\n",
    "\n",
    "plt.style.use('seaborn')\n",
    "fig = plt.figure(figsize = (10,4))\n",
    "\n",
    "#Labor\n",
    "ax_left = fig.add_subplot(1,2,1)\n",
    "ax_left.plot(w_values,l_values)\n",
    "#Names\n",
    "ax_left.set_title('Optimal labor supply given wage')\n",
    "ax_left.set_xlabel('$w$')\n",
    "ax_left.set_ylabel('$l^\\star$')\n",
    "ax_left.grid(True)\n",
    "\n",
    "#Consumption\n",
    "ax_right = fig.add_subplot(1,2,2)\n",
    "ax_right.plot(w_values, c_values)\n",
    "#Names\n",
    "ax_right.set_title('Optimal consumption given wage')\n",
    "ax_right.set_xlabel('$w$')\n",
    "ax_right.set_ylabel('$c^\\star$')\n",
    "ax_right.grid(True)\n",
    "\n",
    "#Plot\n",
    "plt.show"
   ]
  },
  {
   "cell_type": "markdown",
   "metadata": {},
   "source": [
    "# Question 3"
   ]
  },
  {
   "cell_type": "markdown",
   "metadata": {},
   "source": [
    "ADD ANSWER."
   ]
  },
  {
   "cell_type": "code",
   "execution_count": 4,
   "metadata": {},
   "outputs": [],
   "source": [
    "def taxrev(w_values,l_values,tau0,tau1,k):\n",
    "    rev = np.sum(tau0*w_values*l_values + tau1*np.fmax(w_values*l_values - k,0))\n",
    "    return rev\n",
    "\n",
    "print(f'The total tax revenue when e=0.3 is {taxrev(w_values,l_values,tau0,tau1,k):.3f}')"
   ]
  },
  {
   "cell_type": "markdown",
   "metadata": {},
   "source": [
    "# Question 4"
   ]
  },
  {
   "cell_type": "markdown",
   "metadata": {},
   "source": [
    "ADD ANSWER."
   ]
  },
  {
   "cell_type": "code",
   "execution_count": 5,
   "metadata": {},
   "outputs": [],
   "source": [
    "#We do the same as in Question 2 and Question 3, where e=0.1 now\n",
    "e_new = 0.1\n",
    "\n",
    "for i,w in enumerate(w_values):\n",
    "    sol3 = optimize.minimize_scalar (\n",
    "        cstar,\n",
    "        method = \"bounded\",\n",
    "        bounds = (0,1),\n",
    "        args = (m, w,tau0, tau1, k, v, e_new))\n",
    "    l_values[i] = sol3.x\n",
    "    c_values[i] = st(l = l_values[i], m = m, w = w, tau0 = tau0, tau1 = tau1, k = k)\n",
    "    \n",
    "    def taxrev2(w_values,l_values,tau0,tau1,k):\n",
    "        rev2 = np.sum(tau0*w_values*l_values + tau1*np.fmax(w_values*l_values - k,0))\n",
    "        return rev2\n",
    "\n",
    "print(f'The total tax revenue when e=0.1 is {taxrev2(w_values,l_values,tau0,tau1,k):.3f}')"
   ]
  },
  {
   "cell_type": "markdown",
   "metadata": {},
   "source": [
    "# Question 5"
   ]
  },
  {
   "cell_type": "markdown",
   "metadata": {},
   "source": [
    "ADD ANSWER."
   ]
  },
  {
   "cell_type": "code",
   "execution_count": 6,
   "metadata": {},
   "outputs": [],
   "source": [
    "#Defining object to optimize where e=0.3\n",
    "def optimal(x, l = l_values, w = w_values, m = 1, v = 10, e = 0.3):\n",
    "    tau0 = x[0]\n",
    "    tau1 = x[1]\n",
    "    k = x[2]\n",
    "    return -taxrev(w_values, l_values, tau0, tau1, k)\n",
    "\n",
    "#Defining bounds for tau0, tau1 and k\n",
    "bounds = ((0,1),(0,1),(0,1.5))\n",
    "\n",
    "#Finding and reporting optimal t0, t1 and k\n",
    "initial_guess = [0.4, 0.1, 0.4]\n",
    "sol4 = optimize.minimize(\n",
    "    optimal,\n",
    "    initial_guess,\n",
    "    args=(w_values, l_values, tau0, tau1, k),\n",
    "    method=\"SLSQP\",\n",
    "    bounds=bounds)\n",
    "\n",
    "tau0 = sol4.x[0]\n",
    "tau1 = sol4.x[1]\n",
    "k = sol4.x[2]\n",
    "tot= taxrev(w_values, l_values, tau0=tau0, tau1=tau1, k=k)\n",
    "\n",
    "print(f'It is optimal for a politician to set the values such that tau0 is {tau0:.0f}, tau1 is {tau1:.0f} and k is {k:.0f} which yields a total tax revenue of {tot:.0f}')"
   ]
  },
  {
   "cell_type": "markdown",
   "metadata": {},
   "source": [
    "# Conclusion"
   ]
  },
  {
   "cell_type": "markdown",
   "metadata": {},
   "source": [
    "ADD CONCISE CONLUSION."
   ]
  }
 ],
 "metadata": {
  "kernelspec": {
   "display_name": "Python 3",
   "language": "python",
   "name": "python3"
  },
  "language_info": {
   "codemirror_mode": {
    "name": "ipython",
    "version": 3
   },
   "file_extension": ".py",
   "mimetype": "text/x-python",
   "name": "python",
   "nbconvert_exporter": "python",
   "pygments_lexer": "ipython3",
   "version": "3.7.4-final"
  },
  "toc-autonumbering": true
 },
 "nbformat": 4,
 "nbformat_minor": 4
}
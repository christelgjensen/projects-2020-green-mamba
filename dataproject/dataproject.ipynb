{
 "cells": [
  {
   "cell_type": "markdown",
   "metadata": {},
   "source": [
    "# Data Project\n"
   ]
  },
  {
   "cell_type": "markdown",
   "metadata": {},
   "source": [
    "The following code analyses commuting distances in Denmark."
   ]
  },
  {
   "cell_type": "code",
   "execution_count": 158,
   "metadata": {},
   "outputs": [
    {
     "name": "stdout",
     "output_type": "stream",
     "text": [
      "The autoreload extension is already loaded. To reload it, use:\n",
      "  %reload_ext autoreload\n"
     ]
    }
   ],
   "source": [
    "#Import numpy package\n",
    "import numpy as np\n",
    "\n",
    "#Import pandas package\n",
    "import pandas as pd\n",
    "\n",
    "#Import operating system to import data from the computer\n",
    "import os \n",
    "\n",
    "##Import pyplot and chosing style\n",
    "import matplotlib.pyplot as plt\n",
    "plt.style.use('seaborn')\n",
    "\n",
    "from matplotlib.ticker import FuncFormatter\n",
    "\n",
    "import matplotlib as mpl\n",
    "\n",
    "#Autoload\n",
    "%load_ext autoreload\n",
    "%autoreload 2"
   ]
  },
  {
   "cell_type": "code",
   "execution_count": 159,
   "metadata": {},
   "outputs": [],
   "source": [
    "#Data import\n",
    "\n",
    "#Folder name and file name\n",
    "#assert os.path.isdir('Data/')\n",
    "assert os.path.isfile('pendling1.xlsx')\n",
    "\n",
    "#Folder name\n",
    "#os.listdir('Data/')\n",
    "\n",
    "#Naming file\n",
    "file = 'pendling1.xlsx'"
   ]
  },
  {
   "cell_type": "code",
   "execution_count": 160,
   "metadata": {},
   "outputs": [
    {
     "name": "stdout",
     "output_type": "stream",
     "text": [
      "   Unnamed: 0 Unnamed: 1   Unnamed: 2      Unnamed: 3  Unnamed: 4\n",
      "0        2008      I alt  Hele landet           I alt     2844814\n",
      "1        2008      I alt  Hele landet  Ingen pendling      176141\n",
      "2        2008      I alt  Hele landet     Indtil 5 km      912601\n",
      "3        2008      I alt  Hele landet         5-10 km      519211\n",
      "4        2008      I alt  Hele landet        10-20 km      541968\n",
      "5        2008      I alt  Hele landet        20-30 km      271471\n",
      "6        2008      I alt  Hele landet        30-40 km      140194\n",
      "7        2008      I alt  Hele landet        40-50 km       78796\n",
      "8        2008      I alt  Hele landet      Over 50 km      197718\n",
      "9        2008      I alt  Hele landet   Ikke beregnet        6714\n"
     ]
    }
   ],
   "source": [
    "#Using panda to read file\n",
    "commute = pd.read_excel(file)\n",
    "\n",
    "#See the name of the variables - printing first 10 obs\n",
    "print(commute.head(10))"
   ]
  },
  {
   "cell_type": "code",
   "execution_count": 150,
   "metadata": {},
   "outputs": [
    {
     "name": "stdout",
     "output_type": "stream",
     "text": [
      "   year Unnamed: 1       region        distance  workers\n",
      "0  2008      I alt  Hele landet           I alt  2844814\n",
      "1  2008      I alt  Hele landet  Ingen pendling   176141\n",
      "2  2008      I alt  Hele landet     Indtil 5 km   912601\n",
      "3  2008      I alt  Hele landet         5-10 km   519211\n",
      "4  2008      I alt  Hele landet        10-20 km   541968\n",
      "5  2008      I alt  Hele landet        20-30 km   271471\n",
      "6  2008      I alt  Hele landet        30-40 km   140194\n",
      "7  2008      I alt  Hele landet        40-50 km    78796\n",
      "8  2008      I alt  Hele landet      Over 50 km   197718\n",
      "9  2008      I alt  Hele landet   Ikke beregnet     6714\n",
      "Data set about communiting areas has shape (1200, 5)\n"
     ]
    }
   ],
   "source": [
    "#Renaming relevant columns\n",
    "commute.rename(columns = {'Unnamed: 0':'year'}, inplace=True) #Year\n",
    "commute.rename(columns = {'Unnamed: 2':'region'}, inplace=True) #Region\n",
    "commute.rename(columns = {'Unnamed: 3':'distance'}, inplace=True) #Distance to work place\n",
    "commute.rename(columns = {'Unnamed: 4':'workers'}, inplace=True) #Number of workers\n",
    "\n",
    "#Look at the data again and the shape of data - printing first 10 obs\n",
    "print(commute.head(10))\n",
    "print(f'Data set about communiting areas has shape {commute.shape}')"
   ]
  },
  {
   "cell_type": "code",
   "execution_count": 151,
   "metadata": {},
   "outputs": [
    {
     "name": "stdout",
     "output_type": "stream",
     "text": [
      "   year       region        distance  workers\n",
      "0  2008  Hele landet           I alt  2844814\n",
      "1  2008  Hele landet  Ingen pendling   176141\n",
      "2  2008  Hele landet     Indtil 5 km   912601\n",
      "3  2008  Hele landet         5-10 km   519211\n",
      "4  2008  Hele landet        10-20 km   541968\n",
      "5  2008  Hele landet        20-30 km   271471\n",
      "6  2008  Hele landet        30-40 km   140194\n",
      "7  2008  Hele landet        40-50 km    78796\n",
      "8  2008  Hele landet      Over 50 km   197718\n",
      "9  2008  Hele landet   Ikke beregnet     6714\n",
      "Data set about communiting areas has shape (1200, 4)\n"
     ]
    }
   ],
   "source": [
    "#Dropping the second column since it is irrelevant for our analysis\n",
    "commute.drop(['Unnamed: 1'], axis = 1, inplace = True)\n",
    "\n",
    "#Take a look at data again - printing first 10 obs\n",
    "print(commute.head(10))\n",
    "print(f'Data set about communiting areas has shape {commute.shape}')"
   ]
  },
  {
   "cell_type": "code",
   "execution_count": 152,
   "metadata": {},
   "outputs": [
    {
     "name": "stdout",
     "output_type": "stream",
     "text": [
      "year         int64\n",
      "region      object\n",
      "distance    object\n",
      "workers      int64\n",
      "dtype: object\n"
     ]
    }
   ],
   "source": [
    "#We check the types of the data\n",
    "print(commute.dtypes)"
   ]
  },
  {
   "cell_type": "code",
   "execution_count": 153,
   "metadata": {},
   "outputs": [
    {
     "name": "stdout",
     "output_type": "stream",
     "text": [
      "year        object\n",
      "region      object\n",
      "distance    object\n",
      "workers      int64\n",
      "dtype: object\n"
     ]
    }
   ],
   "source": [
    "#Change year to string variable\n",
    "commute.year = commute.year.astype(str)\n",
    "\n",
    "print(commute.dtypes)\n",
    "\n",
    "#The data is now ready, \"commute\""
   ]
  },
  {
   "cell_type": "code",
   "execution_count": 154,
   "metadata": {},
   "outputs": [
    {
     "name": "stdout",
     "output_type": "stream",
     "text": [
      "Number of regions = 12\n",
      "Number of years = 10\n",
      "     year                 region    distance  workers\n",
      "18   2008         Byen København  Over 50 km    10187\n",
      "28   2008       Københavns omegn  Over 50 km     5094\n",
      "38   2008           Nordsjælland  Over 50 km     8997\n",
      "48   2008               Bornholm  Over 50 km     1026\n",
      "58   2008            Østsjælland  Over 50 km     5045\n",
      "68   2008   Vest- og Sydsjælland  Over 50 km    50203\n",
      "78   2008                    Fyn  Over 50 km    18743\n",
      "88   2008             Sydjylland  Over 50 km    28368\n",
      "98   2008             Østjylland  Over 50 km    32334\n",
      "108  2008            Vestjylland  Over 50 km    15324\n",
      "Data set about communiting areas has shape (110, 4)\n",
      "                      workers                                         \n",
      "                        count  mean  std   min   25%   50%   75%   max\n",
      "region                                                                \n",
      " Bornholm                  10   861   78   754   814   864   887  1026\n",
      " Byen København            10 11868 1129 10187 11329 11642 12670 13659\n",
      " Fyn                       10 20467 2040 18443 19020 19678 21498 24250\n",
      " Københavns omegn          10  5489  500  5001  5116  5346  5769  6472\n",
      " Nordjylland               10 23482 2397 21571 21854 22198 24604 28078\n",
      " Nordsjælland              10  9404  655  8894  8955  9065  9658 10747\n",
      " Sydjylland                10 30344 3083 27654 28138 28654 32099 36224\n",
      " Vest- og Sydsjælland      10 49971 3384 46821 47459 48528 51820 56256\n",
      " Vestjylland               10 17511 1981 15324 16201 16676 18710 21031\n",
      " Østjylland                10 36569 3981 32334 33758 35141 39090 43736\n",
      " Østsjælland               10  5310  450  4866  5010  5108  5520  6198\n"
     ]
    }
   ],
   "source": [
    "#Finding number of different regions - recall that \"Hele landet\" is also included in this\n",
    "#Finding number of years of data\n",
    "print(f'Number of regions = {len(commute.region.unique())}')\n",
    "print(f'Number of years = {len(commute.year.unique())}')\n",
    "\n",
    "#We want to look further at long distance commuters, which we define as more than 50 km commute\n",
    "#Excluding \"Hele landet\" i.e. the total\n",
    "comm = commute.loc[(commute['distance'] == 'Over 50 km') & (commute['region'] != 'Hele landet')]\n",
    "\n",
    "#Remove 'Landsdel' from region\n",
    "comm.region = comm.region.astype(str).str[8:] \n",
    "\n",
    "print(comm.head(10)) #printing first 10 obs\n",
    "print(f'Data set about communiting areas has shape {comm.shape}')\n",
    "\n",
    "#Descriptive statistics grouped by region on workers\n",
    "desc = comm.groupby(['region']).describe()\n",
    "pd.options.display.float_format = '{:.0f}'.format #No decimals\n",
    "print(desc)"
   ]
  },
  {
   "cell_type": "code",
   "execution_count": 155,
   "metadata": {},
   "outputs": [
    {
     "data": {
      "image/png": "[encoded data removed]",
      "text/plain": [
       "<Figure size 576x396 with 1 Axes>"
      ]
     },
     "metadata": {},
     "output_type": "display_data"
    }
   ],
   "source": [
    "#Defining the mean of commuters in each region\n",
    "mean = comm.groupby(['region']).mean()\n",
    "\n",
    "#Plot\n",
    "def figure():\n",
    "    \n",
    "    # i. make the plot\n",
    "    ax = mean['workers'].plot(legend = True)\n",
    "    \n",
    "    # ii. set thousands separator on y-axis\n",
    "    def thousands(x, pos):\n",
    "        return '%1.0f' % (x * 1e-3)\n",
    "    \n",
    "    formatter = FuncFormatter(thousands)\n",
    "    \n",
    "    # iii. set labels\n",
    "    ax.set_ylabel('Number of workers')\n",
    "    ax.set_xlabel('Region')\n",
    "    \n",
    "    # iv. set title\n",
    "    ax.set_title('Figure 1')\n",
    "    \n",
    "\n",
    "# call the function\n",
    "figure()"
   ]
  },
  {
   "cell_type": "code",
   "execution_count": 156,
   "metadata": {},
   "outputs": [
    {
     "name": "stdout",
     "output_type": "stream",
     "text": [
      "     year       region        distance  workers\n",
      "1    2008  Hele landet  Ingen pendling   176141\n",
      "2    2008  Hele landet     Indtil 5 km   912601\n",
      "3    2008  Hele landet         5-10 km   519211\n",
      "4    2008  Hele landet        10-20 km   541968\n",
      "5    2008  Hele landet        20-30 km   271471\n",
      "6    2008  Hele landet        30-40 km   140194\n",
      "7    2008  Hele landet        40-50 km    78796\n",
      "8    2008  Hele landet      Over 50 km   197718\n",
      "121  2009  Hele landet  Ingen pendling   174035\n",
      "122  2009  Hele landet     Indtil 5 km   865546\n",
      "123  2009  Hele landet         5-10 km   495663\n",
      "124  2009  Hele landet        10-20 km   514918\n",
      "125  2009  Hele landet        20-30 km   260304\n",
      "126  2009  Hele landet        30-40 km   136695\n",
      "127  2009  Hele landet        40-50 km    77087\n",
      "128  2009  Hele landet      Over 50 km   194697\n",
      "241  2010  Hele landet  Ingen pendling   173084\n",
      "242  2010  Hele landet     Indtil 5 km   851785\n",
      "243  2010  Hele landet         5-10 km   489420\n",
      "244  2010  Hele landet        10-20 km   509817\n",
      "Data set about communiting areas has shape (80, 4)\n",
      "               workers                                                \n",
      "                 count   mean   std    min    25%    50%    75%    max\n",
      "distance                                                              \n",
      "10-20 km            10 518721 12141 506683 510127 513178 526088 541968\n",
      "20-30 km            10 271345 10394 260304 263776 269132 276384 291292\n",
      "30-40 km            10 147515 10115 136695 140166 143980 153822 166262\n",
      "40-50 km            10  85779  7801  77087  79432  83594  90670  99803\n",
      "5-10 km             10 495168 11187 483321 487302 492148 498830 519211\n",
      "Indtil 5 km         10 838240 31299 812804 819153 824172 848455 912601\n",
      "Ingen pendling      10 174570  2098 171958 173264 173716 175784 178662\n",
      "Over 50 km          10 211278 19214 194697 197537 201422 222014 247523\n"
     ]
    }
   ],
   "source": [
    "#We want to look further at distance intervals\n",
    "#Excluding \"I alt\" i.e. distance in total and \"Ikke beregnet\" i.e. not calculated distance\n",
    "comm2 = commute.loc[(commute['region'] == 'Hele landet') & (comma['distance'] != 'I alt') & (commb['distance'] != 'Ikke beregnet')]\n",
    "\n",
    "print(comm2.head(20))\n",
    "print(f'Data set about communiting areas has shape {comm2.shape}')\n",
    "\n",
    "#Descriptive statistics grouped by distance on workers\n",
    "desc2 = comm2.groupby(['distance']).describe()\n",
    "pd.options.display.float_format = '{:.0f}'.format #No decimals\n",
    "print(desc2)"
   ]
  },
  {
   "cell_type": "code",
   "execution_count": 157,
   "metadata": {},
   "outputs": [
    {
     "data": {
      "image/png": "[encoded data removed]",
      "text/plain": [
       "<Figure size 576x396 with 1 Axes>"
      ]
     },
     "metadata": {},
     "output_type": "display_data"
    }
   ],
   "source": [
    "#Defining the mean of commuters in each distance interval\n",
    "mean2 = comm2.groupby(['distance']).mean()\n",
    "\n",
    "#Plot\n",
    "def figure():\n",
    "    \n",
    "    # i. make the plot\n",
    "    ax = mean2['workers'].plot(legend = True)\n",
    "    \n",
    "    # ii. set thousands separator on y-axis\n",
    "    def thousands(x, pos):\n",
    "        return '%1.0f' % (x * 1e-3)\n",
    "    \n",
    "    formatter = FuncFormatter(thousands)\n",
    "    \n",
    "    ax.yaxis.set_major_formatter(formatter)\n",
    "    \n",
    "    # iii. set labels\n",
    "    ax.set_ylabel('Number of workers (Thousands)')\n",
    "    ax.set_xlabel('Distance')\n",
    "    \n",
    "    # iv. set title\n",
    "    ax.set_title('Figure 2')\n",
    "\n",
    "# call the function\n",
    "figure()"
   ]
  },
  {
   "cell_type": "markdown",
   "metadata": {},
   "source": [
    "# Conclusion"
   ]
  },
  {
   "cell_type": "markdown",
   "metadata": {},
   "source": [
    "In conclusion we find that the amount of people with a long commute (more than 50 km) are at East Jutland and Copenhagen.\n",
    "This makes sense since the two biggest cities in Denmark are located here and there might be more job opportunities here.\n",
    "Moreover we found that the most common amount of commute is 0-5 km."
   ]
  }
 ],
 "metadata": {
  "kernelspec": {
   "display_name": "Python 3",
   "language": "python",
   "name": "python3"
  },
  "language_info": {
   "codemirror_mode": {
    "name": "ipython",
    "version": 3
   },
   "file_extension": ".py",
   "mimetype": "text/x-python",
   "name": "python",
   "nbconvert_exporter": "python",
   "pygments_lexer": "ipython3",
   "version": "3.7.4"
  }
 },
 "nbformat": 4,
 "nbformat_minor": 4
}

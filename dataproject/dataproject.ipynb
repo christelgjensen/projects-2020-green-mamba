{
 "cells": [
  {
   "cell_type": "markdown",
   "metadata": {},
   "source": [
    "# Data Project"
   ]
  },
  {
   "cell_type": "markdown",
   "metadata": {},
   "source": [
    "> **Note the following:** \n",
    "> 1. This is *not* meant to be an example of an actual **data analysis project**, just an example of how to structure such a project.\n",
    "> 1. Remember the general advice on structuring and commenting your code from [lecture 5](https://numeconcopenhagen.netlify.com/lectures/Workflow_and_debugging).\n",
    "> 1. Remember this [guide](https://www.markdownguide.org/basic-syntax/) on markdown and (a bit of) latex.\n",
    "> 1. Turn on automatic numbering by clicking on the small icon on top of the table of contents in the left sidebar.\n",
    "> 1. The `dataproject.py` file includes a function which will be used multiple times in this notebook."
   ]
  },
  {
   "cell_type": "markdown",
   "metadata": {},
   "source": [
    "Imports and set magics:"
   ]
  },
  {
   "cell_type": "code",
   "execution_count": 1,
   "metadata": {},
   "outputs": [],
   "source": [
    "#Project 1: Data Analysis Project\n",
    "\n",
    "#Import numpy package\n",
    "import numpy as np\n",
    "\n",
    "#Import pandas package\n",
    "import pandas as pd\n",
    "\n",
    "#Import operating system to import data from the computer\n",
    "import os \n",
    "\n",
    "##Import pyplot and chosing style\n",
    "import matplotlib.pyplot as plt\n",
    "plt.style.use('seaborn')\n",
    "\n",
    "#Autoload\n",
    "%load_ext autoreload\n",
    "%autoreload 2"
   ]
  },
  {
   "cell_type": "markdown",
   "metadata": {
    "toc-hr-collapsed": true,
    "toc-nb-collapsed": true
   },
   "source": [
    "# Read and clean data"
   ]
  },
 
    "#Data import\n",
    "\n",
    "#Folder name and file name\n",
    "#assert os.path.isdir('Data/')\n",
    "assert os.path.isfile('pendling1.xlsx')\n",
    "\n",
    "#Folder name\n",
    "#os.listdir('Data/')\n",
    "\n",
    "#Naming file\n",
    "file = 'pendling1.xlsx'"
   ]
  },
  {
   "cell_type": "code",
   "execution_count": 4,
   "metadata": {},
   "outputs": [
    {
     "name": "stdout",
     "output_type": "stream",
     "text": [
      "   Unnamed: 0 Unnamed: 1   Unnamed: 2      Unnamed: 3  Unnamed: 4\n",
      "0        2008      I alt  Hele landet           I alt     2844814\n",
      "1        2008      I alt  Hele landet  Ingen pendling      176141\n",
      "2        2008      I alt  Hele landet     Indtil 5 km      912601\n",
      "3        2008      I alt  Hele landet         5-10 km      519211\n",
      "4        2008      I alt  Hele landet        10-20 km      541968\n",
      "5        2008      I alt  Hele landet        20-30 km      271471\n",
      "6        2008      I alt  Hele landet        30-40 km      140194\n",
      "7        2008      I alt  Hele landet        40-50 km       78796\n",
      "8        2008      I alt  Hele landet      Over 50 km      197718\n",
      "9        2008      I alt  Hele landet   Ikke beregnet        6714\n"
     ]
    }
   ],
   "source": [
    "#Using panda to read file\n",
    "commute = pd.read_excel(file)\n",
    "\n",
    "#See the name of the variables - printing first 10 obs\n",
    "print(commute.head(10))"
   ]
  },
  {
   "cell_type": "markdown",
   "metadata": {},
   "source": [
    "# Analysis"
   ]
  },
  {
   "cell_type": "markdown",
   "metadata": {},
   "source": [
    "To get a quick overview of the data, we show some **summary statistics by year**:"
   ]
  },
  {
   "cell_type": "code",
   "execution_count": 5,
   "metadata": {},
   "outputs": [
    {
     "name": "stdout",
     "output_type": "stream",
     "text": [
      "   year Unnamed: 1       region        distance  workers\n",
      "0  2008      I alt  Hele landet           I alt  2844814\n",
      "1  2008      I alt  Hele landet  Ingen pendling   176141\n",
      "2  2008      I alt  Hele landet     Indtil 5 km   912601\n",
      "3  2008      I alt  Hele landet         5-10 km   519211\n",
      "4  2008      I alt  Hele landet        10-20 km   541968\n",
      "5  2008      I alt  Hele landet        20-30 km   271471\n",
      "6  2008      I alt  Hele landet        30-40 km   140194\n",
      "7  2008      I alt  Hele landet        40-50 km    78796\n",
      "8  2008      I alt  Hele landet      Over 50 km   197718\n",
      "9  2008      I alt  Hele landet   Ikke beregnet     6714\n",
      "Data set about communiting areas has shape (1200, 5)\n"
     ]
    }
   ],
   "source": [
    "#Renaming relevant columns\n",
    "commute.rename(columns = {'Unnamed: 0':'year'}, inplace=True) #Year\n",
    "commute.rename(columns = {'Unnamed: 2':'region'}, inplace=True) #Region\n",
    "commute.rename(columns = {'Unnamed: 3':'distance'}, inplace=True) #Distance to work place\n",
    "commute.rename(columns = {'Unnamed: 4':'workers'}, inplace=True) #Number of workers\n",
    "\n",
    "#Look at the data again and the shape of data - printing first 10 obs\n",
    "print(commute.head(10))\n",
    "print(f'Data set about communiting areas has shape {commute.shape}')"
   ]
  },
  {
   "cell_type": "code",
   "execution_count": 6,
   "metadata": {},
   "outputs": [
    {
     "name": "stdout",
     "output_type": "stream",
     "text": [
      "   year       region        distance  workers\n",
      "0  2008  Hele landet           I alt  2844814\n",
      "1  2008  Hele landet  Ingen pendling   176141\n",
      "2  2008  Hele landet     Indtil 5 km   912601\n",
      "3  2008  Hele landet         5-10 km   519211\n",
      "4  2008  Hele landet        10-20 km   541968\n",
      "5  2008  Hele landet        20-30 km   271471\n",
      "6  2008  Hele landet        30-40 km   140194\n",
      "7  2008  Hele landet        40-50 km    78796\n",
      "8  2008  Hele landet      Over 50 km   197718\n",
      "9  2008  Hele landet   Ikke beregnet     6714\n",
      "Data set about communiting areas has shape (1200, 4)\n"
     ]
    }
   ],
   "source": [
    "#Dropping the second column since it is irrelevant for our analysis\n",
    "commute.drop(['Unnamed: 1'], axis = 1, inplace = True)\n",
    "\n",
    "#Take a look at data again - printing first 10 obs\n",
    "print(commute.head(10))\n",
    "print(f'Data set about communiting areas has shape {commute.shape}')"
   ]
  },
  {
   "cell_type": "code",
   "execution_count": null,
   "metadata": {},
   "outputs": [],
   "source": [
    "#We check the types of the data\n",
    "print(commute.dtypes)"
   ]
  },
  {
   "cell_type": "code",
   "execution_count": 7,
   "metadata": {},
   "outputs": [
    {
     "name": "stdout",
     "output_type": "stream",
     "text": [
      "year        object\n",
      "region      object\n",
      "distance    object\n",
      "workers      int64\n",
      "dtype: object\n"
     ]
    }
   ],
   "source": [
    "#Change year to string variable\n",
    "commute.year = commute.year.astype(str)\n",
    "\n",
    "print(commute.dtypes)\n",
    "\n",
    "#The data is now ready, \"commute\""
   ]
  },
  {
   "cell_type": "markdown",
   "metadata": {},
   "source": [
    "ADD FURTHER ANALYSIS. EXPLAIN THE CODE BRIEFLY AND SUMMARIZE THE RESULTS."
   ]
  },
  {
   "cell_type": "code",
   "execution_count": 8,
   "metadata": {},
   "outputs": [
    {
     "name": "stdout",
     "output_type": "stream",
     "text": [
      "Number of regions = 12\n",
      "Number of years = 10\n",
      "    year                   region        distance  workers\n",
      "10  2008  Landsdel Byen København           I alt   362129\n",
      "11  2008  Landsdel Byen København  Ingen pendling    14607\n",
      "12  2008  Landsdel Byen København     Indtil 5 km   161920\n",
      "13  2008  Landsdel Byen København         5-10 km    99554\n",
      "14  2008  Landsdel Byen København        10-20 km    51888\n",
      "15  2008  Landsdel Byen København        20-30 km    13707\n",
      "16  2008  Landsdel Byen København        30-40 km     7208\n",
      "17  2008  Landsdel Byen København        40-50 km     2487\n",
      "18  2008  Landsdel Byen København      Over 50 km    10187\n",
      "19  2008  Landsdel Byen København   Ikke beregnet      571\n",
      "Data set about communiting areas has shape (1100, 4)\n",
      "                              workers                                      \\\n",
      "                                count  mean    std min   25%   50%    75%   \n",
      "region                                                                      \n",
      "Landsdel Bornholm                 100  3516   5074   2   472  1806   3283   \n",
      "Landsdel Byen København           100 76171 114524 472  8310 15352 103510   \n",
      "Landsdel Fyn                      100 45001  63400 841 10017 19774  41519   \n",
      "Landsdel Københavns omegn         100 51161  74774 173  4043 14216  70421   \n",
      "Landsdel Nordjylland              100 55519  78122 610 15248 28050  49179   \n",
      "Landsdel Nordsjælland             100 44453  61519 192 11203 25812  43548   \n",
      "Landsdel Sydjylland               100 69285  97370 753 17417 36463  62767   \n",
      "Landsdel Vest- og Sydsjælland     100 54025  74872 321 15982 28403  49547   \n",
      "Landsdel Vestjylland              100 42420  59867 314 11374 21502  37508   \n",
      "Landsdel Østjylland               100 84113 118184 493 23019 37406  77511   \n",
      "Landsdel Østsjælland              100 24034  33116 101  7674 15674  22502   \n",
      "\n",
      "                                      \n",
      "                                 max  \n",
      "region                                \n",
      "Landsdel Bornholm              18986  \n",
      "Landsdel Byen København       418783  \n",
      "Landsdel Fyn                  239387  \n",
      "Landsdel Københavns omegn     266707  \n",
      "Landsdel Nordjylland          293903  \n",
      "Landsdel Nordsjælland         229823  \n",
      "Landsdel Sydjylland           368926  \n",
      "Landsdel Vest- og Sydsjælland 290776  \n",
      "Landsdel Vestjylland          226882  \n",
      "Landsdel Østjylland           441790  \n",
      "Landsdel Østsjælland          124939  \n"
     ]
    }
   ],
   "source": [
    "#Finding number of different regions - recall that \"Whole country\" is also included in this\n",
    "#Finding number of years of data\n",
    "print(f'Number of regions = {len(commute.region.unique())}')\n",
    "print(f'Number of years = {len(commute.year.unique())}')\n",
    "\n",
    "#We want to look further at long distance commuters, which we define as more than 50 km commute\n",
    "#Excluding \"I alt\"\n",
    "comm = commute.loc[commute['distance'] == 'Over 50 km']\n",
    "comm = commute.loc[commute['region'] != 'Hele landet']\n",
    "\n",
    "print(comm.head(10)) #printing first 10 obs\n",
    "print(f'Data set about communiting areas has shape {comm.shape}')\n",
    "\n",
    "#Descriptive statistics grouped by region on workers\n",
    "desc = comm.groupby(['region']).describe()\n",
    "pd.options.display.float_format = '{:.0f}'.format #No decimals\n",
    "print(desc)"
   ]
  },
  {
   "cell_type": "markdown",
   "metadata": {},
   "source": [
    "# Conclusion"
   ]
  },
  {
   "cell_type": "code",
   "execution_count": 9,
   "metadata": {},
   "outputs": [
    {
     "ename": "NameError",
     "evalue": "name 'FuncFormatter' is not defined",
     "output_type": "error",
     "traceback": [
      "\u001b[0;31m---------------------------------------------------------------------------\u001b[0m",
      "\u001b[0;31mNameError\u001b[0m                                 Traceback (most recent call last)",
      "\u001b[0;32m<ipython-input-9-8486a161b5ad>\u001b[0m in \u001b[0;36m<module>\u001b[0;34m\u001b[0m\n\u001b[1;32m     33\u001b[0m \u001b[0;34m\u001b[0m\u001b[0m\n\u001b[1;32m     34\u001b[0m \u001b[0;31m# c. call the function\u001b[0m\u001b[0;34m\u001b[0m\u001b[0;34m\u001b[0m\u001b[0;34m\u001b[0m\u001b[0m\n\u001b[0;32m---> 35\u001b[0;31m \u001b[0mstatic_figure\u001b[0m\u001b[0;34m(\u001b[0m\u001b[0;34m)\u001b[0m\u001b[0;34m\u001b[0m\u001b[0;34m\u001b[0m\u001b[0m\n\u001b[0m\u001b[1;32m     36\u001b[0m \u001b[0;34m\u001b[0m\u001b[0m\n\u001b[1;32m     37\u001b[0m \u001b[0;31m#FÅ DET TIL AT SE PÆNERE UD\u001b[0m\u001b[0;34m\u001b[0m\u001b[0;34m\u001b[0m\u001b[0;34m\u001b[0m\u001b[0m\n",
      "\u001b[0;32m<ipython-input-9-8486a161b5ad>\u001b[0m in \u001b[0;36mstatic_figure\u001b[0;34m()\u001b[0m\n\u001b[1;32m     15\u001b[0m     \u001b[0max\u001b[0m \u001b[0;34m=\u001b[0m \u001b[0mmean\u001b[0m\u001b[0;34m[\u001b[0m\u001b[0;34m'workers'\u001b[0m\u001b[0;34m]\u001b[0m\u001b[0;34m.\u001b[0m\u001b[0mplot\u001b[0m\u001b[0;34m(\u001b[0m\u001b[0mlegend\u001b[0m \u001b[0;34m=\u001b[0m \u001b[0;32mTrue\u001b[0m\u001b[0;34m)\u001b[0m\u001b[0;34m\u001b[0m\u001b[0;34m\u001b[0m\u001b[0m\n\u001b[1;32m     16\u001b[0m \u001b[0;34m\u001b[0m\u001b[0m\n\u001b[0;32m---> 17\u001b[0;31m     \u001b[0mformatter\u001b[0m \u001b[0;34m=\u001b[0m \u001b[0mFuncFormatter\u001b[0m\u001b[0;34m(\u001b[0m\u001b[0mthousands\u001b[0m\u001b[0;34m)\u001b[0m\u001b[0;34m\u001b[0m\u001b[0;34m\u001b[0m\u001b[0m\n\u001b[0m\u001b[1;32m     18\u001b[0m \u001b[0;34m\u001b[0m\u001b[0m\n\u001b[1;32m     19\u001b[0m     \u001b[0;31m# iii. set thousands separator on y-axis\u001b[0m\u001b[0;34m\u001b[0m\u001b[0;34m\u001b[0m\u001b[0;34m\u001b[0m\u001b[0m\n",
      "\u001b[0;31mNameError\u001b[0m: name 'FuncFormatter' is not defined"
     ]
    },
    {
     "data": {
      "image/png": "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\n",
      "text/plain": [
       "<Figure size 576x396 with 1 Axes>"
      ]
     },
     "metadata": {},
     "output_type": "display_data"
    }
   ],
   "source": [
    "#Defining the mean of commuters in each region\n",
    "mean = comm.groupby(['region']).mean()\n",
    "\n",
    "#Plot\n",
    "def static_figure():\n",
    "    \n",
    "    # i. docstring\n",
    "    \"\"\" Makes a static figure of the mean number of commuters on the regions.\n",
    "    \n",
    "    Args: None  \n",
    "            \n",
    "    \"\"\"\n",
    "    \n",
    "    # ii. make the plot\n",
    "    ax = mean['workers'].plot(legend = True)\n",
    "    \n",
    "    formatter = FuncFormatter(thousands)\n",
    "    \n",
    "    # iii. set thousands separator on y-axis\n",
    "    ax.yaxis.set_major_formatter(formatter)\n",
    "    \n",
    "    # iv. set x-axis to the number of weeks according to duration\n",
    "    ax.set_xticks(['region'])\n",
    "    \n",
    "    # v. set labels\n",
    "    ax.set_ylabel('Number of workers')\n",
    "    ax.set_xlabel('Region')\n",
    "    \n",
    "    # vi. set title\n",
    "    ax.set_title('Figure 1')\n",
    "    \n",
    "  \n",
    "\n",
    "# c. call the function\n",
    "static_figure()\n",
    "  \n",
    "#FÅ DET TIL AT SE PÆNERE UD"
   ]
  },
  {
   "cell_type": "markdown",
   "metadata": {},
   "source": [
    "ADD CONCISE CONLUSION."
   ]
  },
  {
   "cell_type": "code",
   "execution_count": 10,
   "metadata": {},
   "outputs": [
    {
     "name": "stdout",
     "output_type": "stream",
     "text": [
      "     year       region        distance  workers\n",
      "1    2008  Hele landet  Ingen pendling   176141\n",
      "2    2008  Hele landet     Indtil 5 km   912601\n",
      "3    2008  Hele landet         5-10 km   519211\n",
      "4    2008  Hele landet        10-20 km   541968\n",
      "5    2008  Hele landet        20-30 km   271471\n",
      "6    2008  Hele landet        30-40 km   140194\n",
      "7    2008  Hele landet        40-50 km    78796\n",
      "8    2008  Hele landet      Over 50 km   197718\n",
      "121  2009  Hele landet  Ingen pendling   174035\n",
      "122  2009  Hele landet     Indtil 5 km   865546\n",
      "123  2009  Hele landet         5-10 km   495663\n",
      "124  2009  Hele landet        10-20 km   514918\n",
      "125  2009  Hele landet        20-30 km   260304\n",
      "126  2009  Hele landet        30-40 km   136695\n",
      "127  2009  Hele landet        40-50 km    77087\n",
      "128  2009  Hele landet      Over 50 km   194697\n",
      "241  2010  Hele landet  Ingen pendling   173084\n",
      "242  2010  Hele landet     Indtil 5 km   851785\n",
      "243  2010  Hele landet         5-10 km   489420\n",
      "244  2010  Hele landet        10-20 km   509817\n",
      "Data set about communiting areas has shape (80, 4)\n",
      "               workers                                                \n",
      "                 count   mean   std    min    25%    50%    75%    max\n",
      "distance                                                              \n",
      "10-20 km            10 518721 12141 506683 510127 513178 526088 541968\n",
      "20-30 km            10 271345 10394 260304 263776 269132 276384 291292\n",
      "30-40 km            10 147515 10115 136695 140166 143980 153822 166262\n",
      "40-50 km            10  85779  7801  77087  79432  83594  90670  99803\n",
      "5-10 km             10 495168 11187 483321 487302 492148 498830 519211\n",
      "Indtil 5 km         10 838240 31299 812804 819153 824172 848455 912601\n",
      "Ingen pendling      10 174570  2098 171958 173264 173716 175784 178662\n",
      "Over 50 km          10 211278 19214 194697 197537 201422 222014 247523\n"
     ]
    }
   ],
   "source": [
    "#We want to look further at distance intervals\n",
    "#Excluding \"I alt\" and \"Ikke beregnet\"\n",
    "comma = commute.loc[commute['region'] == 'Hele landet']\n",
    "commb = comma.loc[comma['distance'] != 'I alt']\n",
    "comm2 = commb.loc[commb['distance'] != 'Ikke beregnet']\n",
    "\n",
    "print(comm2.head(20))\n",
    "print(f'Data set about communiting areas has shape {comm2.shape}')\n",
    "\n",
    "#Descriptive statistics grouped by distance on workers\n",
    "desc2 = comm2.groupby(['distance']).describe()\n",
    "pd.options.display.float_format = '{:.0f}'.format #No decimals\n",
    "print(desc2)"
   ]
  },
  {
   "cell_type": "code",
   "execution_count": 11,
   "metadata": {},
   "outputs": [
    {
     "ename": "NameError",
     "evalue": "name 'FuncFormatter' is not defined",
     "output_type": "error",
     "traceback": [
      "\u001b[0;31m---------------------------------------------------------------------------\u001b[0m",
      "\u001b[0;31mNameError\u001b[0m                                 Traceback (most recent call last)",
      "\u001b[0;32m<ipython-input-11-1f73cc51b027>\u001b[0m in \u001b[0;36m<module>\u001b[0;34m\u001b[0m\n\u001b[1;32m     31\u001b[0m \u001b[0;34m\u001b[0m\u001b[0m\n\u001b[1;32m     32\u001b[0m \u001b[0;31m# c. call the function\u001b[0m\u001b[0;34m\u001b[0m\u001b[0;34m\u001b[0m\u001b[0;34m\u001b[0m\u001b[0m\n\u001b[0;32m---> 33\u001b[0;31m \u001b[0mstatic_figure\u001b[0m\u001b[0;34m(\u001b[0m\u001b[0;34m)\u001b[0m\u001b[0;34m\u001b[0m\u001b[0;34m\u001b[0m\u001b[0m\n\u001b[0m\u001b[1;32m     34\u001b[0m \u001b[0;34m\u001b[0m\u001b[0m\n\u001b[1;32m     35\u001b[0m \u001b[0;31m#FÅ DET TIL AT SE PÆNERE UD\u001b[0m\u001b[0;34m\u001b[0m\u001b[0;34m\u001b[0m\u001b[0;34m\u001b[0m\u001b[0m\n",
      "\u001b[0;32m<ipython-input-11-1f73cc51b027>\u001b[0m in \u001b[0;36mstatic_figure\u001b[0;34m()\u001b[0m\n\u001b[1;32m     15\u001b[0m     \u001b[0max\u001b[0m \u001b[0;34m=\u001b[0m \u001b[0mmean2\u001b[0m\u001b[0;34m[\u001b[0m\u001b[0;34m'workers'\u001b[0m\u001b[0;34m]\u001b[0m\u001b[0;34m.\u001b[0m\u001b[0mplot\u001b[0m\u001b[0;34m(\u001b[0m\u001b[0mlegend\u001b[0m \u001b[0;34m=\u001b[0m \u001b[0;32mTrue\u001b[0m\u001b[0;34m)\u001b[0m\u001b[0;34m\u001b[0m\u001b[0;34m\u001b[0m\u001b[0m\n\u001b[1;32m     16\u001b[0m \u001b[0;34m\u001b[0m\u001b[0m\n\u001b[0;32m---> 17\u001b[0;31m     \u001b[0mformatter\u001b[0m \u001b[0;34m=\u001b[0m \u001b[0mFuncFormatter\u001b[0m\u001b[0;34m(\u001b[0m\u001b[0mthousands\u001b[0m\u001b[0;34m)\u001b[0m\u001b[0;34m\u001b[0m\u001b[0;34m\u001b[0m\u001b[0m\n\u001b[0m\u001b[1;32m     18\u001b[0m \u001b[0;34m\u001b[0m\u001b[0m\n\u001b[1;32m     19\u001b[0m     \u001b[0;31m# iii. set thousands separator on y-axis\u001b[0m\u001b[0;34m\u001b[0m\u001b[0;34m\u001b[0m\u001b[0;34m\u001b[0m\u001b[0m\n",
      "\u001b[0;31mNameError\u001b[0m: name 'FuncFormatter' is not defined"
     ]
    },
    {
     "data": {
      "image/png": "iVBORw0KGgoAAAANSUhEUgAAAfoAAAFXCAYAAABKl4x5AAAABHNCSVQICAgIfAhkiAAAAAlwSFlzAAALEgAACxIB0t1+/AAAADh0RVh0U29mdHdhcmUAbWF0cGxvdGxpYiB2ZXJzaW9uMy4xLjMsIGh0dHA6Ly9tYXRwbG90bGliLm9yZy+AADFEAAAgAElEQVR4nOzdd3xT570/8M+R5KlhecjGQ7bxkJk2AbONyYRAOpKUBAIh83dzm9VLb9MLoQ2EJg3NLy3t74ab0d7eJE2aZqdNekMIIRBjhhnBGMwwZnjJe0teks75/YFtQhLwknyko8/79eIP5EfS97EsfXSe85znESRJkkBERESKpJK7ACIiIvIcBj0REZGCMeiJiIgUjEFPRESkYAx6IiIiBWPQExERKZhG7gJGor6+3e2PGR4eiubmDrc/rrdhP5WF/VQOf+gjwH6OhMmkH1J7HtF/g0ajlruEUcF+Kgv7qRz+0EeA/RxNDHoiIiIFY9ATEREpGIOeiIhIwRj0RERECsagJyIiUjAGPRERkYIx6ImIiBSMQU9ERDRM1dVWPPDAPXKXcUUMeiIiIgXz6SVwiYhIOd75ohQHTta59TGnj4vG7demXbHNffetwO9+9zz0egMWL74Omze/DItlHO67bwWuvfYG7Nz5BdRqNbKyrsJDD/0Ef/7zyzh2rAidnZ1Ys+YJAIDL5cIzzzyJsWNTceed9+C9997Ctm1bERioQW7udbjttmX49a+fRGtrK9raWrFx4++wfv3jEEURLpcTjz22FqmpV65zuBj0RERewuF04YuD5RifEAaNmgOuo2XevKtRULAX0dExiI2Nw4EDBQgICERsbBy+/HIHXnrpf6BWq/GLX/wHdu/eBQBIShqLVaseQ3W1FS6XC7/61S+RlTUVt956G86dO4vt27fhhRf+G9HRBqxYsRIzZ84CAEyblo2lS1dgz558aLU6PPnk0zh37hzsdpvH+segJyLyEh/tPo//3VuGu27MwNVT4uUuZ9Tdfm3agEffnjB//jV47bX/QUzMGDzwwEN47723IIoSrrtuIYqKCqHRXIjKrKwpOHfuDAAgMTGp//6lpSXQarXo7Lywec3Zs2dQW1uDf/u3BxEYqEFraysqKysvud+sWXNQWVmONWt+Bo1Gg7vvvt9j/eNXRiIiL9DZ7cQXX1UBAE6Vt8hcjX9JSUlDdbUVJ04UY/bsuejs7ER+/pdISkrG8ePH4HQ6IUkSCgsPw2y+ENQqldB//4yM8XjuuT9g69ZPUFp6GomJSUhOTsHzz7+M119/HYsXfw8pKRe+wAjChdg9fPgQIiOj8Pvf/xfuvvt+vPzyf3msfzyiJyLyAjsLq9DZ7QQAlFS0QJIkCIIwwL3IXaZMmYrqaitUKhWmTJmK8+fPIjU1Dddeez0efPB+SJKEzMws5OZejdLSkm/dPygoGI899jiefno9/vjHV5GdPR0PPXQ/RNGF9PTxMJlMl7RPS0vHunVr8c47f4NKpcK99/6Lx/omSJIkeezRPcwT+9GbTHqPPK63YT+Vhf30bQ6nC//x4l50O1wYlxSBwtP1+M2PZyPaGCJ3aR6j1NfymzzRT+5HT0TkY/Ycq0GrvQdXXxWPGRPHAABKOHxPbsKgJyKSkShK2FJQDo1awA3ZZkxKjQQAlFQy6Mk9eI6eiEhGX5XUo665E7lZcQjXByEiUofQIA1KKhj05B48oicikokkSfjffWUQACyamQgAUKsEpCeEoa65E83t3fIWSIrAoCciksnxsmaU1bRjWoYJMRGh/bdbEo0AgNMcvic3YNATEcnkk71lAIBFs5Iuud2ScCHoT3H4ntyAQU9EJINz1W04UdaMCcnhGBtruORnSWP0CAxQ8Tw9ucWAk/EcDgfWrFmDqqoqqFQqPPXUU9BoNFizZg0EQUB6ejrWr18PlUqFzZs3Y+fOndBoNFi7di0yMzNRVlY24rZEREqzZd+Fo/nF3ziaBwCNWoXUuDCcKGuGrdMBXUjAaJdHCjJgin755ZdwOp1466238PDDD+MPf/gDNm7ciFWrVuHNN9+EJEnYvn07iouLsX//frz77rvYtGkTNmzYAAAjbktEpDQ1TR04dKoeSWP0GJ8U/p1tMsy95+l5VE8jNGDQjx07Fi6XC6IowmazQaPRoLi4GDNmzAAA5ObmYs+ePTh06BBycnIgCALi4uLgcrnQ1NQ04rZERErzaUEZJAA3zUq67DK3FjPP05N7DDh0HxoaiqqqKixatAjNzc146aWXcODAgf4/Tq1Wi/b2dthsNhiNxv779d3+9fWah9P2SsLDQ6HRqIfe6wEMdXlBX8V+Kgv76RsaWzux51gt4qK0WDA3BWrVt4PeZNLDYAyF5p1CnK1p9/k+X45S+/VNcvdzwKB/9dVXkZOTg5/97Georq7G3XffDYfD0f9zu90Og8EAnU4Hu91+ye16vf6Sc+zDaXslzc0dg+vlEHD9ZWVhP5VFCf18Z0cpnC4RC6ab0dT47T3Iv97H5FgDzlS2oLyyGSFBylrfTAmv5WD4xFr3BoMBev2FBw0LC4PT6cSECRNQUFAAAMjLy0N2djamTp2K/Px8iKIIq9UKURQREREx4rZEREph73Jgx+EqhOkCMbt3TfsryTAbIUnAGWvrKFRHSjXgV8R77rkHa9euxfLly+FwOPDTn/4UkyZNwhNPPIFNmzYhJSUFCxcuhFqtRnZ2NpYuXQpRFLFu3ToAwOrVq0fUlohIKXZ8VYXuHhd+MDcZAZqBryiymI34371lKKlowaSxkaNQISkRt6n9Bg4nKQv7qSy+3M8ehws/f3EPnC4Jv31ozmWH4r/ex85uJx75Qx7S48Ow5s5po1mux/nyazkUPjF0T0REI7f7aDXaOxy4dmr8oM+3hwRpkBijx9nqNjicLg9XSErFoCci8jCXKGJLQTkCNCpcn20e0n0tCUY4XRLOWts8VB0pHYOeiMjDDpysQ0NrF3ImxyJMGzik+/ZdT8/lcGm4GPRERB4kSRK27CuHIAALe7eiHYp0cxgABj0NH4OeiMiDjp1rQkWdDTPGxyDaGDLk+xtCAxEXpUVpVRucLtEDFZLSMeiJiDyofyvaYRzN97GYjeh2uFBe++0FdogGwqAnIvKQ0qpWnKpowaSUCCTGDH8ZVAuH72kEGPRERB7StxXtTd+xFe1QWBI4IY+Gj0FPROQBVQ12HD7dgNQ4Q//M+eGKMATDZAzG6coWiL67xhnJhEFPROQBnxZcOJpffIWtaIfCYjbC3uWEtd4+cGOir2HQExG5WVNbF/YV1yI2MhRZ6VFueUzuT0/DxaAnInKzrfsr4BIlLJqZBJUbjuYBLpxDw8egJyJyI1unA18eqUK4PgizJsa47XGjjSEI0wWipKIFPrwXGcmAQU9E5EZfHKpEj0PEwhmJ0Kjd9xErCAIyzEa02ntQ19zptscl5WPQExG5SXePC58fqoQ2WIPcrFi3Pz7P09NwMOiJiNwkr8gKW6cD101LQHDg4LaiHQqep6fhYNATEbmB0yXis/3lCNSocN20BI88R1yUFtpgDYOehoRBT0TkBvtP1KKxrRu5WXHQhw5tK9rBUgkCLGYjGlq70Nja5ZHnIOVh0BMRjZDYuxWtWiVgwQyzR5+rf/i+kkf1NDgMeiKiESoqbURVgx0zxscgKmzoW9EORV/Qn+bwPQ0Sg56IaIQ+6d28ZtGs4W9FO1iJMToEBao5854GjUFPRDQCJRUtKK1qxZS0KCSYdB5/PrVKhfT4MFQ3dqDN3uPx5yPfx6AnIhqBvqP5xSPcinYo0vuG73mengaBQU9ENEwVdTYUnWlEekIY0hLCRu15M7hwDg0Bg56IaJi2FIz+0TwAjI3VQ6NW8Xp6GhQGPRHRMDS0dGL/8TrEm7TITI0c1ecO0KiREmdARa0NHV3OUX1u8j0MeiKiYdi6vwKiJGHxrCQIbtqKdigsZiMkAKVVPKqnK2PQExENUZu9B3lFVkQagjFjfLQsNfA8PQ3WgLsufPDBB/jwww8BAN3d3Thx4gRef/11/PrXv4ZarUZOTg4eeeQRiKKIJ598EqdOnUJgYCCefvppJCUlobCwcERtiYi8zeeHKuFwirhxZiLUKnmOl1LjDVAJAs/T04AGDPpbb70Vt956KwBgw4YN+NGPfoT169fj+eefh9lsxgMPPIDi4mJUVVWhp6cHb7/9NgoLC/Gb3/wGL7744ojbTpw40eO/BCKiwersduKLQ5XQhQQgJ9P9W9EOVnCgBklj9Dhf3Y5uhwtBAWrZaiHvNuivokePHkVpaSluuukm9PT0IDExEYIgICcnB3v37sWhQ4cwb948AMCUKVNw7Ngx2Gy2EbclIvImeUes6Oh24obsBNnDNcNshEuUcNbaJmsd5N0GvWHyyy+/jIcffhg2mw063cXVn7RaLSoqKr51u1qtdkvbKwkPD4VG4/43msmkd/tjeiP2U1nYT89zOF3YdrASwYFq3LZgnMd2qRtsH6dPisWn+8tR1diB3GzPL7/rbvybHR2DCvq2tjacPXsWs2bNgs1mg91u7/+Z3W6HwWBAV1fXJbeLogidTjfitlfS3NwxmPKHxGTSo76+3e2P623YT2VhP0fHriNWNLV1YcF0M7rs3eiyd7v9OYbSx2hDIAQAh0/V4fqp8W6vxZPkfi1Hiyf6OdQvDoMauj9w4ADmzJkDANDpdAgICEB5eTkkSUJ+fj6ys7MxdepU5OXlAQAKCwthsVjc0paIyBuIkoQtBb1b0U737Fa0g6UNDkC8SYszVa1wukS5yyEvNagj+nPnziEhIaH//xs2bMBjjz0Gl8uFnJwcZGVlYfLkydi9ezeWLVsGSZLwzDPPuKUtEZE3OFzSgJqmDuRkxiLCECx3Of0sZiMq6+04X9OOtPjRW4aXfIcgSZIkdxHD5YlhHw4nKQv7qSxy9VOSJDz9l0M4X92Gp/9lJmIjtR57rqH2cf+JWrz0j2IsuTp11JfiHQn+zY7sMYeCC+YQEQ3gZHkLzlW34SqLyaMhPxyW3oVzeD09XQ6DnohoAH1b0S6a5X0z2426IMSEh+B0ZQtE0WcHaMmDGPRERFdQVtOO4nNNGJdoRGqcd54Dt5iN6Ox2oaLOJncp5IUY9EREV9C/Fe1s7z3/zeF7uhIGPRHRZdQ2d+DAyTokxugwMTlC7nIuq2+Dm5JKBj19G4OeiOgythaUQ5Ig21a0gxUZFowIQxBKKlrgwxdSkYcw6ImIvkOrrRv5R2sQbQzBtAyT3OVckSAIsJiNaO9woKbJ/SuGkm9j0BMRfYdtByvhdMm7Fe1QWLg/PV2G9//1EhGNso4uJ3YcroRBG4i5k8fIXc6gWBI4IY++G4OeiOgbdhZWobPbhRuyExDggR0yPSE2MhS6kACcKud5eroUg56I6GscThc+O1CBkCA1rrkqYeA7eAlBEJBhNqK5vRuNrV1yl0NehEFPRPQ1u4/VoM3eg6uvikdo8KD2/fIaPE9P34VBT0TUSxQlfLqvHBq1gBuyvWMr2qHgwjn0XRj0RES9Dp6qQ11LJ+ZOjoVRFyR3OUNmjtYhJEjNoKdLMOiJiHBhK9pP9pVBEIAbZ3rf5jWDoVIJSE8wora5E622brnLIS/BoCciAnD8fDPKa23IzohGTHio3OUMW//wfWWrzJWQt2DQExHh4la0i2d57+Y1g9Ef9OUcvqcLGPRE5PfOWttwoqwZE5PDkTRGL3c5I5I8Ro9AjYoz76kfg56I/N4WhRzNA4BGrUJqfBiq6m2wdTrkLoe8AIOeiPxadaMdX5XUY2ysHuOSwuUuxy3SE8IgASjleXoCg56I/NynBeWQACya6d1b0Q5FBq+np69h0BOR32pu78aeYzWIiQjFVIt3b0U7FCnxYVCrBJ6nJwAMeiLyY58dKIdLlLBoZiJUKmUczQNAUIAaybF6lNW0o6vHKXc5JDMGPRH5JXuXAzsLrTDqAjF7om9sRTsUFrMRoiThTFWb3KWQzBj0ROSXvviqCt09LiyYnogAjfI+CjO4wQ31Ut5fNxHRALodLnx+sAKhQRrMnxIndzkekRZvhABOyCMGPRH5ofyiarR3OHDttHiEBPnWVrSDFRqsgTlGh7PWNjicotzlkIwY9ETkV1yiiK37yxGgUeH6ab63Fe1QWMxGOF0izlXzPL0/G9RX2ZdffhlffPEFHA4H7rjjDsyYMQNr1qyBIAhIT0/H+vXroVKpsHnzZuzcuRMajQZr165FZmYmysrKRtyWiMhdDpyoQ0NrF66dGg+DNlDucjwqw2zE5wcrUVLR0r8GPvmfAVO0oKAAhw8fxt/+9je8/vrrqKmpwcaNG7Fq1Sq8+eabkCQJ27dvR3FxMfbv3493330XmzZtwoYNGwBgxG2JiNylbytalSBg4Qzf3Ip2KNK5cA5hEEGfn58Pi8WChx9+GD/+8Y9x9dVXo7i4GDNmzAAA5ObmYs+ePTh06BBycnIgCALi4uLgcrnQ1NQ04rZERO5y9GwjKuvtmDE+GiZjiNzleJwhNBCxkaE4XdUKl8jz9P5qwKH75uZmWK1WvPTSS6isrMSDDz4ISZL6l4rUarVob2+HzWaD0XhxaKjv9pG2vZLw8FBoNOqh93oAJpNv7141WOynsrCfA9v2zhEAwPJF47369+XO2jLTTdi6rwztPSLSzWFue1x38ObXwJ3k7ueAQW80GpGSkoLAwECkpKQgKCgINTU1/T+32+0wGAzQ6XSw2+2X3K7X6y85xz6ctlfS3NwxuF4OgcmkR339lb9gKAH7qSzs58BKK1tRfLYRmamR0AWovPb35e7XMtGkBQAUFFlhDPaeKwz4NzuyxxyKAYfup02bhl27dkGSJNTW1qKzsxOzZ89GQUEBACAvLw/Z2dmYOnUq8vPzIYoirFYrRFFEREQEJkyYMKK2RETu8EnvVrSLZir/3PzXcYMbGvDr3TXXXIMDBw5gyZIlkCQJ69atQ0JCAp544gls2rQJKSkpWLhwIdRqNbKzs7F06VKIooh169YBAFavXj2itkREI1VVb0NhaQNS4w1+N/s8whCMqLBglFS0QJQkqBSyQx8NniBJkiR3EcPliWEfDicpC/upLMPt53//8zj2HKvBoz+ajKvSvXuXOk+8ln39/9X9M5Bg0rn1sYeLf7Mje8yh4EXqRKRoja1dKDhei7goLbLSouQuRxYWDt/7NQY9ESna1q9vReunw9Y8T+/fGPREpFjtHT3IO2JFhCEIMyfEyF2ObKLDQxCmDURJRQt8+GwtDRODnogUa/uhSvQ4RCycngiN2n8/7gRBgMVsRIutB/UtnXKXQ6PMf//yiUjRuntc2H6oEtpgDXKzlLkV7VBYuD+932LQE5Ei5R2xwt7lxPXZZgQFun8FTV/DCXn+i0FPRIrjdInYeqAcgQEqXDctQe5yvEK8SYvQIA2D3g8x6IlIcQqO16KprRu5WXHQhQTIXY5XUPWep69v6UJTW5fc5dAoYtATkaKIvVvRqlUCFk73r+VuB9I/fF/Jo3p/wqAnIkU5croB1Y0dmDUhBpFhwXKX41UunqdvlbkSGk0MeiJSDKn3aB4AbpyVJHM13icxRoegADXP0/sZBj0RKUZJRQvOWNswJS0K8VFaucvxOhq1CmnxBlgb7Gjv6JG7HBolDHoiUoxP9pUDABbP5tH85fQN35+u5PC9v2DQE5EilNe24+jZRljMRqTFh8ldjtfi9fT+h0FPRIrwaUHv0fwszrS/kpQ4AzRqgSvk+REGPRH5vLqWThScqEWCSYvJKZFyl+PVAjRqjI01oLy2HZ3dTrnLoVHAoCcin7d1fzkkCVg8KwmCn25FOxQWsxGSBJRW8Ty9P2DQE5FPa7P3IL+oGlFhwZg+PlrucnwC96f3Lwx6IvJpnx+qgMMpYuGMRKhV/EgbjNT4MAgCd7LzF3xXEJHP6ux24otDVdCHBiAnM1bucnxGSJAGSTF6nLO2ocfhkrsc8jAGPRH5rC8Lrejo7t2KNoBb0Q6FxWyES5Rw1tomdynkYQx6IvJJDueFrWiDAtW4dmq83OX4HJ6n9x8MeiLySXuLa9Bq68HVU+KgDeZWtEOV3hv0PE+vfAz6r5EkSe4SiGgQRFHCloJyqFUCFnAr2mHRhQQg3qTFGWsrnC5R7nLIgxj0vRpbu/Dw7/PwyZ5zcpdCRAP4qqQetU0dmDNpDML1QXKX47MsZiN6HCLKatvlLoU8iEHfKzRYgwCNCn/+qBi1zR1yl0NEl9G3Fa0A4MaZPJofCZ6n9w8M+l4hQRqsuMGCHocLr205yWF8Ii91oqwZ52vaMTXDhNhIbkU7EukJvUFfzqBXMgb910wfF42ZE8fgZHkL8o5Y5S6HiL7Dln1lAC4sd0sjE64PQrQxBCWVrRBFHtwolWYwjW6++Wbo9XoAQEJCApYuXYpf//rXUKvVyMnJwSOPPAJRFPHkk0/i1KlTCAwMxNNPP42kpCQUFhaOqO1oEgQBD/4oE0Wl9XhnRykyU6N4/o/Ii5RWtKD4fDPGJ4VjbKxB7nIUwWI2Iv9oNSrrbUiM0ctdDnnAgEHf3d0NAHj99df7b/vhD3+I559/HmazGQ888ACKi4tRVVWFnp4evP322ygsLMRvfvMbvPjii1i/fv2I2k6cONFzvf8OkWEhuP2aNLz26Sm8vvUUHv3RZG6SQeQl3ttxGgCP5t2pL+hLKloY9Ao14ND9yZMn0dnZifvuuw933XUXDhw4gJ6eHiQmJkIQBOTk5GDv3r04dOgQ5s2bBwCYMmUKjh07BpvNNuK2csjNisO4RCMKSxtw4GSdLDUQ0aVqmzqwp8iKpBg9JiSHy12OYlgSOSFP6QYM+uDgYNx///3485//jA0bNuDxxx9HSEhI/8+1Wi3a29ths9mg0+n6b1er1d+6bTht5SAIAu5eNA6BGhX+uq0E7R09stRBRBd92rsV7aJZiRxlcyNTWDDC9UEoqWjhJGSFGnDofuzYsUhKurDH89ixY6HX69HScvGbn91uh8FgQFdXF+x2e//toihCp9Ndcttw2l5JeHgoNBr3r29tMulhMulx56Lx+J+Pi/Fh/nn8bMU0tz+P3Ewm/ximYz99X1NbF3YfrUFspBY35qRCrVJ20I/2azk5LQp5h6vQAwEJo/jcSv6b/Tq5+zlg0L/33nsoKSnBk08+idraWnR2diI0NBTl5eUwm83Iz8/HI488gpqaGuzYsQOLFy9GYWEhLBYLdDodAgICRtT2Spo9cL27yaRHff2FkYTZ403YcVCPnV9VIislAllpUW5/Prl8vZ9Kxn4qwz/yz8HpEnHL1aloarTJXY5HyfFaJkVfGE3dd6QK86eMzr4BSv+b7eOJfg71i8OAQb9kyRI8/vjjuOOOOyAIAp555hmoVCo89thjcLlcyMnJQVZWFiZPnozdu3dj2bJlkCQJzzzzDABgw4YNI2orJ7VKhXsXjceGVw/gL1tP4WmzESFBg7pQgYjcRBQl5BdZERSoxtXTzLC1dcpdkuJY+hfOaR21oKfRI0g+fFLGE98Gv+vb1993ncVHu8/jmqvisXJhhtufUw78Nq0sSu7n0bON+P07R5CbFYef3zVdsf3sI8drKUkS/u0/8xEUoMZzD80ZledU8t/s13nDET0XzBmEm2YnIz5Kix2Hq3CqvFnucoj8St/iVblZcTJXolyCIMBiNqKxrQsNrRwxURoG/SAEaFS4Z/E4CABe3XISPQ6X3CUR+YU2ew8KTzcgwaTD2Fj/mLglF0tCGADgdEWrzJWQuzHoByk1Lgw3TDejtrkT/9jNHe6IRsPuY9VwiRJys2J5SZ2H9V1Pz/3plYdBPwS3zEtBVFgwthZU4HxNm9zlECmaJEnIO1INjVqFWRPHyF2O4pmjdQgOVHPhHAVi0A9BUKAa9ywaB1GS8MonJ+F0iXKXRKRYJRUtqG3qQPY4E3QhAXKXo3hqlQppCWGoaepAq52LhCkJg36IJiRHYF5mLCrqbPi0oFzucogUK+9INQAgN5OT8EZL3/70p3lUrygM+mFYem0awnSB+Gj3OVQ32ge+AxENSUeXAwdP1SE6PAQZveeOyfP6rqfneXplYdAPQ2hwAFYuyIDTdWEIX/TdpQiIvNLe4lo4nCJys+I4CW8UJY8xIECj4nl6hWHQD9NUiwnZ46JRWtWKLw5Vyl0OkWJcmIRnhVolYO4kTsIbTQEaFVLjDKiss6GjyyF3OeQmDPoRWHGDBdpgDd7/8iwaWrjIBJE7lNW2o6LOhqy0KITpguQux+9YzEZIAE5X8np6pWDQj0CYNhDLrktHt8OF17ae4haPRG6QV9i3El6szJX4p4vr3nP4XikY9CM0Z9IYTEqJQPG5Juw5ViN3OUQ+rbvHhX3HaxGuD8KksZFyl+OXUuPCoFYJDHoFYdCPkCAIuGthBoIC1Xhr+2m02rrlLonIZ+0/WYuuHhfmZcZCpfA9571VUKAaSWP0OF/Tju4eLvetBAx6N4gKC8GS+amwdznx120lcpdD5LN2HamGACBnMoft5WQxG+ESJZyx8jy9EjDo3eSaqfFISwjDwVP1OHSqTu5yiHxOVYMdpVWtmDA2AlHGELnL8Ws8T68sDHo3UQkC7l00Dhq1Cm98VgI7L00hGpJdvdvRzud2tLJLTwiDAAa9UjDo3Sg2Uosf5iSj1d6Dt78olbscIp/hcIrYc6wG+tAATEmPkrscv6cNDkBCtA5nrG1wOLmnh69j0LvZwhmJSIzWIb+oGsXnm+Quh8gnHD5dD1unA3MnxUKj5seSN7CYjXA4Re7UqQB8R7mZRq3CvYvHQyUIeG3LSc5aJRqEvN5h+3m8dt5rZPA8vWIw6D0gaYweN85MRENrF97POyN3OURerb6lE8fPNyM9IQyxkVq5y6Fe6f1Bz5n3vo5B7yE/mJuMmIhQbD9YidIqvlGILmdXUe92tJyE51XCtIEYExGK05UtEEWu+unLGPQeEhigxr2LxkEC8MonJzihheg7uEQR+UVWhASpkT0uWu5y6BssZiO6elyoqLPJXQqNAIPegyxmI66ZGo/qxg78c895ucsh8jpHzzahxdaDWRPGIChALXc59A0Z3J9eERj0HrZkfioiDEH4ZF8ZvxUTfSy2LfcAACAASURBVMPFDWw4bO+N0s1hADghz9cx6D0sJEiDuxaOg0uU8MonJ+ASOYRPBADN7d0oOtOIpBg9ksbo5S6HvkNUWAgiDUEoqWjh7pw+jEE/CjJTIzF74hicr2nHtgOVcpdD5BX2HKuGKEncjtbLWcxG2DodsDZ2yF0KDRODfpTccX069KEB+HDXWdQ28w1D/k2UJOQdsSJQo8LMCWPkLoeugOve+z4G/SjRhQRgxQ0WOJwiXv3kJEQOg5EfO1XWjPqWLkwfF43QYI3c5dAVMOh9H4N+FE0fF42r0qNwqqKlfyUwIn+U13ft/BROwvN2YyJCYQgN4Hl6HzaooG9sbMT8+fNx5swZlJWV4Y477sDy5cuxfv16iL2TyzZv3owlS5Zg2bJlKCoqAgC3tFUSQRBw54IMhARp8O6OUjS1dcldEtGos3U6cOhUHWIjQ5EWHyZ3OTQAQRBgMRvR3N6N+lZ+ZvmiAYPe4XBg3bp1CA4OBgBs3LgRq1atwptvvglJkrB9+3YUFxdj//79ePfdd7Fp0yZs2LDBLW2VKFwfhKXXpqGz24XXt57iN2TyO3uP1cDpkjAvMw6CIMhdDg1C3/D9aQ7f+6QBg/7ZZ5/FsmXLEB19YdWq4uJizJgxAwCQm5uLPXv24NChQ8jJyYEgCIiLi4PL5UJTU9OI2yrVvMxYjEs04siZRhScqJW7HKJRI0kS8oqsUKsEzJnMSXi+wsKFc3zaFWfBfPDBB4iIiMC8efPwxz/+EcCFN2rft3CtVov29nbYbDYYjcb++/XdPtK2AwkPD4VG4/7VtEwmz1/T++8rsvHIb3fgre2lyJ2WiDBdkMef85tGo5/egP30HifLmlBVb8fcrDikJkUO6zF8oZ8j5W19jIjUQRsSgDPWNrfW5m399BS5+3nFoH///fchCAL27t2LEydOYPXq1WhqurjHut1uh8FggE6ng91uv+R2vV4PlUo1orYDafbAZWomkx719QN/yRgpDYBb5o3F21+UYvPbh/HADyZ6/Dm/brT6KTf207t8tLMUADBznGlY9fpKP0fCW/uYFmfAkTONKDnbgHD9yA9MvLWf7uaJfg71i8MVh+7/+te/4o033sDrr7+O8ePH49lnn0Vubi4KCgoAAHl5ecjOzsbUqVORn58PURRhtVohiiIiIiIwYcKEEbVVuhuyzRgba8C+47UoLG2Quxwij+rsdmL/iTpEGoIxITlC7nJoiPrP01dy+N7XDPnyutWrV+P555/H0qVL4XA4sHDhQkyaNAnZ2dlYunQpHn30Uaxbt84tbZVOpRJw7+JxUKsEvL71FDq7nXKXROQx+0/UotvhwrysWKg4Cc/n8Dy97xIkH5727YlhHzmGk/6Rfw7/yD+Hq6+Kx10LM0blOTlspiy+0M+nXjuI8zVteO7BOYgwBA/rMXyhnyPlrX10ukQ88oc8mIwheOr+mSN+PG/tp7t5/dA9jY6bZich3qTFzsNVOFXeLHc5RG5XUWfDueo2TE6JHHbIk7w0ahVS48JQVW+HrdMhdzk0BAx6L6BRq3DvovEQBOCVLSfR43DJXRKRW/WtBMntaH1bBq+n90kMei+REmfADdlm1DV34h/55+Quh8htehwu7D1WgzBtIDJTh3dJHXkHnqf3TQx6L3LLvBSYjMH4dH85zlW3yV0OkVscKqlHR7cTcyfHQqPmR44vS4kzQK0SuMGNj+G7zosEBapxz43jIEnAK5+chNOlvPX+yf/s6h22n8d9531eYIAaY+MMKK+18SohH8Kg9zLjkyOQmxWLynobtuwrk7scohGpberAyfIWjEs0IiY8VO5yyA0yzEaIkoQz1la5S6FBYtB7oduvSUOYLhAf7zmPqgb7wHcg8lJ5RZyEpzTcn973MOi9UGhwAO5akAGnS8KrW05AFH12qQPyY06XiN1Ha6AN1mBahknucshN0uLDIAhASTmD3lcw6L3UVRYTZoyPxpmqNmz/qlLucoiG7EhpI9rsPZg9cQwCPLD5FMkjJEiDxGg9zla3weHkpcC+gEHvxZZfb4E2WIP3vzyDhpZOucshGpJdRX2T8DhsrzQWsxFOl4SzVl4d5AsY9F7MoA3E8ust6HGIeO3Tk/Dh1YrJzzS1deHo2UaMjTXAHK2TuxxyM56n9y0Mei83a2IMJqdEovh8M3YfrZG7HKJByS+qhiQB86fwaF6J0s1hABj0voJB7+UEQcBdCzMQFKjGW9tPo9XWLXdJRFckihJ2FVkRFKDG9HHRcpdDHmAIDURclBalVW1c78MHMOh9QGRYMG67OhUd3U68sa1E7nKIruh4WRMa27oxc0I0QoI0cpdDHmIxG9HtcKG81iZ3KTQABr2PuPqqeKQnhOHQqXocPFkndzlEl5VXyEl4/sDC4XufwaD3ESpBwD2LxkGjVuGNbSWwd3GbSPI+bfYeHD7dgHiTFimxBrnLIQ+yJHBCnq9g0PuQ2EgtfpiTjDZ7D97eXip3OUTfsudYDVyihNysOAiCIHc55EERhmCYjME4XdkCkVcEeTUGvY9ZOCMRiTE65B+txrFzjXKXQ9RPkiTkHbFCo1Zh9sQxcpdDo8BiNsLe5YS1nkt1ezMGvY/RqFW4d9F4qAQBr205ha4e7iBF3uF0ZStqmjowLcMEXUiA3OXQKOgbvuf+9N6NQe+DksbosWhWIhrbuvDBl2flLocIAJB3hBvY+BtLIs/T+wIGvY/6wdxkjIkIxfZDlSit5HaRJK+OLgcOnqxDtDEEGb0f/qR80cYQhOkCUVLRwpU7vRiD3kcFaNS4d/E4AMArW05wcwmSVcHxWvQ4RczLioWKk/D8hiAIyDAb0WrvQV0z9+PwVgx6H5aeYMS1UxNQ3diBj/eUyV0O+bEvj1ihEgTMnRwrdyk0yvrWved5eu/FoPdxt85PQaQhCFv2laG8tl3ucsgPldW0o7zWhqy0SBh1QXKXQ6OMG9x4Pwa9jwsJ0uCuG8fBJUp4ZctJuESuO02ji5Pw/FtclBbaYA2D3osx6BVgckok5kwag7Kadnx2oELucsiPdPe4sO94DcL1QZiUEiF3OSQDlSDAYjaiobULTW1dcpdD34FBrxDLrkuHITQAf991DrVNHXKXQ37i4Kk6dHa7MHdyLNQqfpz4Kw7feze+MxVCFxKAFQsy4HCKeHXLSS5JSaMi74gVAoDcTE7C82cMeu824B6SLpcLv/zlL3Hu3Dmo1Wps3LgRkiRhzZo1EAQB6enpWL9+PVQqFTZv3oydO3dCo9Fg7dq1yMzMRFlZ2Yjb0uBkZ5hwVXoUDp9uwJeFVlxzVbzcJZGCWRvsOF3ZionJ4YgyhshdDskoMUaHoEA1Z957qQFTdMeOHQCAt956Cz/5yU+wceNGbNy4EatWrcKbb74JSZKwfft2FBcXY//+/Xj33XexadMmbNiwAQBG3JYGTxAE3LkgAyFBGry7o5Tny8ijdhVxO1q6QK1SIS0+DNWNHWiz98hdDn3DgEF//fXX46mnngIAWK1WREVFobi4GDNmzAAA5ObmYs+ePTh06BBycnIgCALi4uLgcrnQ1NQ04rY0NOH6ICy7Ng1dPS78ZesprlZFHuFwith9tAa6kABclW6SuxzyAn3D96creVTvbQYcugcAjUaD1atXY9u2bfjP//xP7Nixo38LSq1Wi/b2dthsNhiNF5e+7LtdkqQRtb2S8PBQaDTqofV4EEwmvdsfczTdcp0FX5U24MjpBhyvbMPVUxO+s52v93Ow2E/3yz9SBVunAzfPT0VcbNioPS/gH6+nL/Zx5uQ4fJh3FhUNHbgxZ3D1+2I/h0Pufg4q6AHg2WefxWOPPYbbb78d3d3d/bfb7XYYDAbodDrY7fZLbtfr9ZecYx9O2ytpbnb/7HKTSY/6et9feOaO69Jx4nwTXv6gCObIEBhCAy/5uVL6ORD20zP+uevCZkrZ6VGj+rz+8Hr6ah/DQ9TQqFUoLKkbVP2+2s+h8kQ/h/rFYcCh+7///e94+eWXAQAhISEQBAGTJk1CQUEBACAvLw/Z2dmYOnUq8vPzIYoirFYrRFFEREQEJkyYMKK2NDzRxhDcmpsKW6cDf/v8tNzlkII0tHTi+LkmpCWEIS5KK3c55CUCNGqkxBlQUWtDRxe3z/YmAx7RL1iwAI8//jhWrFgBp9OJtWvXIjU1FU888QQ2bdqElJQULFy4EGq1GtnZ2Vi6dClEUcS6desAAKtXrx5RWxq+66clYP+JWhQcr8XM8TGYkh4ld0mkALuKqiEByM3kJDy6lMVsRElFC0qrWpCZys8bbyFIPjxbyxPDPkobTqqqt+HJVw7AoA3EU/fPRGjwhe92Suvn5bCf7iWKEn7+4h509Tix6eEcBAW6f47MlfjD6+nLfSw+14TfvV2IRbMScdvVaVds68v9HAqfGLon3xZv0uH7c5LR3N6N93aWyl0O+bijZxvR3N6NmRPGjHrIk/dLjTdAJQhcOMfLMOj9wOLZSYg3abGz0IqTZc1yl0M+7OIGNlwJj74tOFCDpDF6nK9uR7fDJXc51ItB7wc0ahXuXTQeggC8+ulJvgFpWFpt3ThS2ojEGB2Sx1z5ihjyXxlmI1yihLPWNrlLoV4Mej+REmfAgulm1DV34h/55+Quh3xQ/tFqiJLE7Wjpirjuvfdh0PuRm+elINoYgq37y3GkpF7ucsiHSJKEXUeqEahRYdaEGLnLIS+WlnBhASUGvfdg0PuRoAA17l08DgIErPvTXnxaUM4lcmlQTpa3oK6lE9njohEaHCB3OeTFdCEBSDBpcaaqFU6XKHc5BAa938lIDMd/LL8KRl0g3tlRihc+PMbFLWhAu/on4XHYngZmMRvR4xRxvkb5l8/5Aga9H7KYjfjDT69GhtmIQyX1+NVrB1BRZ5O7LPJStk4HDp6qx5iIUKQnjO669uSbeJ7euzDo/VS4IRiP3TEFi2Yloq65E7/+y0HsPlotd1nkhfYW18DpEpGbFde/6RTRlTDovQuD3o+pVSrcdnUaHrl1MtRqAX/+3xP4y6cn4XDy8ju6QJIk5B2xQq0SMGfSGLnLIR9h1AUhJjwEpytbIIqcByQ3Bj1hqsWEdfdMR4JJh52FVjzzxldoaOmUuyzyAueq21FVb8dV6VEwaAMHvgNRL4vZiM5uF08LegEGPQEAYsJD8Yu7pmHu5DEoq2nHhlcPoOhMg9xlkczyjlQB4CQ8GjoO33sPBj31CwpQ477F43HPonHodoj4w7tF+DDvLIfe/FRntxMFx+sQaQjChOQIucshH5PRF/SVDHq5MejpEoIgIDcrDr9YOQ1RYcH4eM95/P6dQrR19MhdGo2yAyfr0O1wYV5mHFQqTsKjoYkMC0aEIQglFS1cr0NmDHr6Tklj9Fh/73RkpUai+HwzNrxyAGeqWuUui0ZR3hErBAA5mdzAhoZOEARYzEa0dzhQ09Qhdzl+jUFPl6UNDsCjSzJxa24KWmzd+M1fv8L2Q5X8du4HKutsOGttw6SUSEQYguUuh3yUJeHC8P0pnqeXFYOerkglCPjenGT8bOkUhAZr8NdtJXj5o2J09XA1PSXL40p45AackOcdGPQ0KBOSI7D+nulIjTdg/4k6PPXaQVgb7HKXRR7gcLqwt7gGBm0gstIi5S6HfFhsZCh0IQE4Vc7z9HJi0NOgRRiCsXr5VFyfnYDqxg489dpB7D9RK3dZ5GaHSuph73Ji7uQx0Kj5EUHDJwgCMsxGNLd3o7G1S+5y/BbfxTQkGrUKy6+34Mc/nAgIwEv/KMabn5dwlyoFySvsHbbP5LA9jVzf8D3P08uHQU/DMmN8DNbdnY24KC0+P1iJZ9/8Ck1t/Mbu62qbO3CyvAUZZiNiIkLlLocUgOfp5cegp2GLjdTil3dNw8wJMThT1YYNrx7A8fNNcpdFI5BfdGFjo9wpPJon9zBH6xASpGbQy4hBTyMSHKjBA9+fgBU3WNDR5cTv3i7Ex3vOQ+TEG5/jdInIL6pGaJAG0ywmucshhVCpBKQnGFHb3IlWW7fc5fglBj2NmCAIuG5aAtasmAqjLggf5p3Ff75XBHuXQ+7SaAiOnmlEq70HsyeOQWCAWu5ySEH6h+8rueiWHBj05Dap8WFYf+90TEwOR9GZRmx45QDKatrlLosGqf/aeQ7bk5v1B305h+/lwKAntzKEBuKnt0/BD+Ymo6G1C79+/RDyjlh5Da2Xa2rrQtHZRoyN1cMcrZO7HFKY5DF6BGpUnHkvE43cBZDyqFQCbp6XgpS4MPzp42K8uuUkTle24M4FGQjikLBX2n20GpIEzONKeOQBGrUKKXEGnCpvga3TAV1IgNwleYQkSWhs7cLpqlaUVrWitLIVrfYePH7nVMSEy3cVC4OePCYzNRLr75mO//r7Mew+WoPyWhseumWSrH/w9G2iJGFXUTWCAtSYOT5G7nJIoSxmI06Wt6C0shVT0qPkLsctnC4R5bW23lBvQWlVK1psF3f6DNCoMDElEiFB8kbtFZ/d4XBg7dq1qKqqQk9PDx588EGkpaVhzZo1EAQB6enpWL9+PVQqFTZv3oydO3dCo9Fg7dq1yMzMRFlZ2Yjbkm+LMoZg7Z1T8bfPT2NnoRW/evUg/s9N43EVZ3V7jRPnm9HQ2oWczFjZP5BIuTK+dj29rwa9rdOB0qpWnKlqxenKVpyvbkOP8+JiYQZtIKZZTEhLCENaQhiSYvSIHROG+np55ypd8V390UcfwWg04rnnnkNzczNuueUWjBs3DqtWrcLMmTOxbt06bN++HXFxcdi/fz/effddVFdX49FHH8X777+PjRs3jqjtDTfcMFq/B/KgAI0ad904DqnxYXh96yk8/8FRLJqZiFvnp0DNL3Oy65uEN5/D9uRBKfFhUKsEnzlPL0kSapo6+ofgS6taUd14cbtdAUC8SYe0hDCkx4chNSEMprBgCIIgX9GXccWgv/HGG7Fw4cL+/6vVahQXF2PGjBkAgNzcXOzevRtjx45FTk4OBEFAXFwcXC4XmpqaRtyWQa8scyfHIilGj//68Ci2FJTjXHUb/vUHExGmC5K7NL/V1tGDr0rqER+lRUqcQe5ySMGCAtRIjtXjnLXdK3e/7HG4cL6m/ZJgt3VevEQ4KECN8UnhSO89Wk+JDUNosG+MgF2xSq1WCwCw2Wz4yU9+glWrVuHZZ5/t/8ai1WrR3t4Om80Go9F4yf3a29shSdKI2g4kPDwUGo37J3eZTHq3P6Y3kqOfJpMe/y8lCv/v7cPYe7QaT/3lIP5j5XRMTPHcLml8PS9v95elcIkSFs0di+ho3wh6f3g9ldrHKZZonKlqQ4PNATPk7WdzWxdOnG+68O9cE85UtcDpunh1UHR4CKaOi8aE5AiMS45AcqwB6mFu8iT36zng15Hq6mo8/PDDWL58Ob7//e/jueee6/+Z3W6HwWCATqeD3W6/5Ha9Xn/JOfbhtB1Ic3PHgG2GymTSy34+ZTTI3c//s3gczFFavLfzDNa+sBu3XZOKBdPNbh/2krufo2U4/ZQkCZ/sPgeNWkBmcrhP/J784fVUch/NURcm4u4/Vo2rMqJHrZ+iKKGqwX7JpLn6lot7c6gEAYkxvcPwCUakxhkQYQi+5DGamoa3LbcnXs+hfnG4YtA3NDTgvvvuw7p16zB79mwAwIQJE1BQUICZM2ciLy8Ps2bNQmJiIp577jncf//9qKmpgSiKiIiIGHFbUi5BEHDjzESkxBnw4t+P4e0vSlFa1Yr7Fo/nhLBR0nfOccb4aMVe7kTeJS3eCAHAaQ+fp+/sduJsdRvOVLbidFUrzlpb0dnt6v95aJAGmamRSIsPQ1p8GMbGGhAUqNxLf6/4ifrSSy+hra0NL7zwAl544QUAwC9+8Qs8/fTT2LRpE1JSUrBw4UKo1WpkZ2dj6dKlEEUR69atAwCsXr0aTzzxxLDbkvJZzEY8ee90vPiPYhw6VY/KOhsevmUyErhoi8f1r4THSXg0SkKDNTDH6HDG2gaH0zXwHQZBkiQ0tnVdcm69os6Gr6/RFRMegqmW3qP1+DDERoZC5YWT5jxFkHx4yTJPDPsoedjs67ytny5RxAdfnsWWgnIEalS468YMzJkUO+LH9bZ+espQ+9nR5cS/b85HmC4QG/91ts986PnD66n0Pr75eQk+P1iJ3zycg2h94JDv73SJqKizobT3aP1MVSua2y9ulqNRq5Acq0d679F6akIYDKFDfx538fqhe6LRolapcNs1aUiND8Of//c4/vufJ1Ba1YY7rktHgIaX4LlbwYla9DhFzMuM85mQJ2WwJBjx+cFKFJ9tRHTWwF/mbZ0OnLVeuG69tLIV57557XpoAKZaTBeG4XuvXednxqUY9ORVplpMiDdNx399cAw7D1ehrKYND948CVFhIXKXpih5R6xQCQLmTh75qAnRUPRtcFN8thHXfCPoJUlCbXNn7xB8C0qr2mBtuDgJTgAQZ9JeuG49PgzpCWEwGUO88tp1b8KgJ68TEx6KX9w1DW98dgq7j9ZgwysH8MAPJmKyBy/B8ydlNe0oq2nHlLQohOu5hgGNLoM2ELGRoThxvhFdPU6U19r6V5q73LXrfaGeGmdAaDAnjg4Vg568UlCAGvctHo/0BCPe+KwEf3jnCL4/Nxk/mDsWKhW/vY9EXhEn4ZG8LGYjviy04pHf74L4tWliEYYgzEiORlr8hYlzCdFarp7pBgx68lqCICA3Kw6JMTq88OExfLT7PM5Y2/DA9ydAL+PkGl/W7XBhX3EtjLpATE6NkLsc8lMzxkVj/4k6RIeH9Ib6hYlz37x2ndyDQU9eL3mMAevumY7//udxFJ1pxIZXD+DBmychNS5M7tJ8zsGTdejsduK6aUk8UiLZjE+OwDvP3KToqwu8Cd/p5BN0IQH4yZJM3Jqbgub2bvzmja/wxVeV8OGrQ2Wxq/fa+ZxMDtsT+QsGPfkMlSDge3OS8bOlUxAarMEbn5XgTx8fR3ePexbeULrqRjtKKlsxITkc0UZexUDkLxj05HMmJEdg/T3TkRpvwL7jtXjqLwdR3Ti8daj9ya4j1QA4CY/I3zDoySdFGIKxevlUXJ+dAGuDHb967SAOnKyTuyyv5XSJ2H2sGrqQAFyVbpK7HCIaRQx68lkatQrLr7fgxz+cCEjAi38/hr99fhpOlzjwnf1M4ekGtHc4MGfSGK4aRuRn+I4nnzdjfAyeuDsbsZGh2HawAv/3b4cvWfuaLm5gMy+TK+ER+RsGPSlCXJQWT9ydjZkTYlBa2YoNr+zHifNNcpflFRpaO1F8rgmp8QbEm7grIJG/YdCTYgQHavDA9ydgxQ0W2Luc+O3bhfjNawdw9GwjRNF/L8PLL6qGBE7CI/JXXDCHFEUQBFw3LQHJY/R47dOT2F1kxe4iK8L1QZg7ORY5mbF+dWmZKErYVVSN4EA1ZoyLkbscIpIBg54UKTU+DBvum4GWLhc+/rIUBSdq8c895/HPPecxLtGIeZlxmJphQlCAWu5SPerYuSY0t3fj6ilxCApUdl+J6Lsx6EmxBEGAJTEcd904DkuvS8ehU3XIL6rGyfIWnCxvQcg2NWZOGIN5mbFIHqNX5FaX/ZPwOGxP5LcY9OQXggLUmDMpFnMmxaK2uQO7j1Zj99Ea7DxchZ2Hq5Bg0iInMw6zJ8YoZsOcVls3jpQ2wBytQ/IYvdzlEJFMGPTkd2LCQ3FrbipuzknBsXNNyC+y4vDpBry1/TTe3VGKq9KjMC8rDhOTI3x6S9w9x2rgEiXkZsUpcrSCiAaHQU9+S6USkJkaiczUSLR19GBfcS12FVlx8FQ9Dp6q9+kJfJIkIe+IFQEaFWZN5CQ8In/GoCcCYAgNxILpZtyQnYDzNe3YdcT6nRP4pmWYEOgDE/hKKlpQ29yJ2RNjoA0OkLscIpIRg57oawRBwNhYA8bGGr5zAt8b2zSYOSHG6yfwfdk7CY/XzhMRg57oMnx1Ap+9y4GDJ+sREx4Ci9kodzlEJDMGPdEgfHMC364iKwq9dALfvuJaOF0iJ+EREQAGPdGQfGsC37Ea7Cqq9poJfJIk4ctCK9QqAXMmcwMbImLQEw2bITQQC2Yk4obpZpyrbkd+kfwT+M7XtKOy3oZpFhPCtN5zOoGI5MOgJxohQRCQEmdASpz8E/j6VsLLncJJeER0AYOeyI3knMDX1ePEvuO1iDAEYWJyhFsfm4h816C2qT1y5AhWrlwJACgrK8Mdd9yB5cuXY/369RBFEQCwefNmLFmyBMuWLUNRUZHb2hL5qr4JfM89OAerbsvCtAwTqhs78Nb20/j3zbvxwodH3bqF7oETdejucSFncqzsEwKJyHsMeET/pz/9CR999BFCQi5MLNq4cSNWrVqFmTNnYt26ddi+fTvi4uKwf/9+vPvuu6iursajjz6K999/f8Rtb7jhBo//Aog8bbQm8OUVWSEAmJfJYXsiumjAI/rExEQ8//zz/f8vLi7GjBkzAAC5ubnYs2cPDh06hJycHAiCgLi4OLhcLjQ1NY24LZHS9E3g+9X9M/DLu7Jx9ZQ4dPU48c8957Hmpb34v29+hb3HatDjcA3pcctq2nCmqg0TUyIQGRbsoeqJyBcNeES/cOFCVFZW9v9fkqT+yURarRbt7e2w2WwwGi8uzNF3+0jbDiQ8PBQajftnM5tM/rHTF/spr+hoA2ZmxaOrx4k9RdXYtr8Mx8404mR5C978XIPcqxJww8xEpCUYB5zA96d/HAUAfG9eqtf2112U3j/AP/oIsJ+jZciT8VSqi4MAdrsdBoMBOp0Odrv9ktv1ev2I2w6kubljqOUPyGTSo75+4C8Zvo799C6Tk4yYnGREbXMH8ouqsftoNbbsPY8te88jwaTFvMw4zLrMBD6H04UdBytgCA1ASrTWJ/o7XL7yeo6EP/QRYD9H+phDMajJeF83YcIEFBQUAADy8vKQnZ2NqVOnIj8/H6Iowmq1QhRFREREhNZdJwAAFMlJREFUjLgtkb+JCQ/Fj+an4rcPzcWq2zL7J/D97QoT+L4qaUB7hwNzJsdCox7yW5qIFG7IR/SrV6/GE088gU2bNiElJQULFy6EWq1GdnY2li5dClEUsW7dOre0JfJXFybwRSEzNWrACXx9187Py+RKeET0bYIkSe65tkcGnhj24XCSsiipn5IkXbICX2f3xQl7E1Mi8bPbs2SsbnQo6fW8HH/oI8B+jvQxh4IL5hD5iO9agW/XkWqUVLTg5vmpcpdHRF6KQU/kg76+Ap9LFDEmJswvjo6IaOg4c4fIx6lVfBsT0eXxE4KIiEjBGPREREQKxqAnIiJSMAY9ERGRgjHoiYiIFIxBT0REpGAMeiIiIgVj0BMRESkYg56IiEjBGPREREQKxqAnIiJSMJ/eppaIiIiujEf0RERECsagJyIiUjAGPRERkYIx6ImIiBSMQU9ERKRgDHoiIiIFU0TQHzlyBCtXruz/f1lZGe644w4sX74c69evhyiK37rP3r17sXTpUqxYsQI/+clP0NnZCQDYvHkzlixZgmXLlqGoqOhb95s7d67nOnIZDocDP//5z7F8+XIsWbIE27dvBzC4fh48eBC33XYbbr/9dmzevLn/dm/sp8vlwuOPP45ly5ZhxYoVKC8vBzC4fvZ58cUX8dOf/rT//97Yzz6NjY2YP38+zpw5A2Bw/fzss89w/fXXY+XKlVi5ciX2798PURSxbt06LF26FCtXrkRZWdkl96msrMTtt98+Kn26nJtvvrm/5scff/yy7bZt24af/exn/f8vLCzEbbfdhmXLll3y99tnzZo1yMvL80jNAxnq7/X2229HZWUlWlpa8PHHHwMA/vjHP6KoqAgffPABfvvb337rPlf6vY30dfWGv4uR+OlPf4qCgoL+3119fT2efPLJIT9ORUUFHn30UaxcuRLLli3Dk08+CZvN5rY6X3nlFdx00039r+PZs2fR1dWFRx99FMuXL8e//Mu/oKmp6ZL7FBQUXPI5NmKSj/vjH/8ofe9735Nuu+22/tv+9V//Vdq3b58kSZL0xBNPSJ999tm37rdgwQKpvr5ekiRJ+u1vfyu99tpr0rFjx6SVK1dKoihKVVVV0q233vqt+82ZM8dDPbm89957T3r66aclSZKkpqYmaf78+ZIkDa6ft9xyi1ReXi5JkiTdeeedUnFxsdf2c9u2bdKaNWskSZKkffv2ST/+8Y8lSRpcPyVJknbu3CktW7ZMWrVqlSRJktf2U5IkqaenR3rooYekBQsWSKWlpZIkDa6fmzZtkj799NNLbtu6dau0evX/b+/eo6Kq+gaOf0duGpdgHEEwSFAylYxICZekVAYGimVigGkuNbUl3tEhL4ViBGIiGoiILnW04pKVWWnLS97xQlKgXCSSvKCiFjKDigzn/YPFeRzBpFfs4cH9+UvPzN5n//Y+c/Y++xzOVkuSJEknTpyQ663e2bNnDX4f/7abN29KQ4cOve/3oqKiJD8/P7n9JEmSAgMDpdLSUqm2tlYaP368lJeXZ5BGrVZLe/fubfYyN8U/rdegoCDp7NmzUlZWlkGMkiRJX375pRQXF2ew7X719qDt+t8+Lh7U9OnTpaysrEbrrqlu3LghDR48WMrJyZG3bdmyRZowYUJzFVOaNWuWlJuba7Bt3bp10ooVKyRJkqRt27ZJUVFRBp83dow8COPmGzL8dzg5ObFy5UrmzJkjbzt58iSenp4A9O/fn4MHD/Lqq68apNNoNKhUKgBqamowMzMjOzsbb29vFAoFDg4O6PV6rl27hlKpbLDfZcuWUVlZyQcffICvry/PPfccpaWleHl5UVlZya+//oqzszNxcXEPHOOgQYPw8/OT/29kZNTkONPT0zE2Nkan06HVarG2tmbnzp0tMs6BAwfi4+MDwIULF+T2aUqcpaWlpKWlMWXKFDIyMgBabHsCxMbGEhwcTEpKirytKXGePHmS/Px8NmzYQK9evQgPDyc7O5sXX3wRAHd3d/Ly8hrdp16vJyIiAldXV/z9/ZkxYwb29vacO3eOgIAATp8+zalTp/Dx8WHmzJnNEidAQUEBN27cYOzYsdTU1DBz5kzc3d0bfM/Dw4OBAweSlpYGgFarpbq6GicnJwC8vb05fPgwPXv2bJD2l19+YfHixaxYsYKEhASMjY25cOEC1dXV+Pv7s2fPHsrKykhKSpLza06jRo3i6aef5vTp02i1WhISEujUqRPx8fHs37+fjh078ueffwKQnJxMQUEBaWlpnDhxAn9//0bzbGq9NUe73qv8iYmJ7Ny5E6VSyY0bN5g2bRo9evRg3rx5cjzz58+nW7du+Pr64uHhwe+//0779u1ZuXKlfK6CutkXSZIoKyujqqqK2NhYunTpgkajYdu2bSgUCvz9/Rk9ejQRERGYmppy/vx5Ll++TExMDD179mTz5s1kZGTQoUMHrl69ahDDuXPnmDlzJunp6QwZMgRPT08KCwtRKBQkJSVhYWHBwoULycvLQ6VScf78eYKDg+nTpw/PPvusnM8bb7zB559/TklJCRMnTuSbb77hscceIzU1FWNjY/z8/FiwYAG3bt3CzMyMqKgo9Ho97733HtbW1vTv3593331Xzu/kyZOkpKRQXl6Oj48PEydOJDs7m/HjxwN1v/WkpKRG2+XGjRuEhYUxdOhQ7OzsSElJwcTEhIsXLxIcHExWVhYFBQWMHj2a0NDQRvOAVjB17+fnh7Gx4XhFkiQUCgUA5ubmVFZWNkhna2sL1E0VHjlyhNdffx2tVouFhYX8nXuljY2Npaamhg8//BCFQsH58+eZPn06mzZtYuPGjYSGhpKRkUF2djbXr19/4BjNzc2xsLBAq9UydepUpk+f3uQ4jY2NycnJYciQIahUKpRKZYuNs768arWaqKgoeXBzvzh1Oh2LFi1i0aJFBieWlhrnli1bUCqVcudcrynt2a9fPxYsWMDmzZupqqriiy++aBCnkZERNTU1BulqamoIDw/H3d2dCRMmAHVTlh999BGrV68mISGBiIgIMjIyyMzMfOAY79S2bVvGjRvH2rVrWbhwIeHh4Q3KB+Dv7y/HD01vvxMnTvDxxx+TnJyMvb09AJ06dWLdunW4uLhw7tw51qxZg6+vL7t3727W2O7Uq1cv1q9fT79+/fjuu+8oKiri2LFjZGZmsmTJEnQ6HQCTJk3Cy8uLt95662/za0q9NWe73l3+goIC9u/fT2ZmJomJiZSXlwN1AxUvLy80Gg1RUVHydPnZs2eZNm0aaWlpXLt2jdzc3Ab7cHR0ZOPGjUyZMoW4uDiKi4v5/vvv+eyzz/jss8/YuXMnJSUlADg4OLB27VpGjRpFWloalZWVbNy4kfT0dJKSkrh9+/Y9Y9HpdAQEBLBp0yZsbW3Zt28fu3bt4q+//iIzM5Po6GjKysooKytrdOD3xBNPUF5ejq+vLz/++CMA33//PUOHDiU2NpZRo0ah0WgYN26cfMulvLyctWvXGnTyAAEBAURGRrJhwways7PZs2cPWq0WS0tL4N7HdVVVFZMmTSI0NJTAwEAALl68yMqVK4mMjGTVqlUsWbKENWvWyIPje/mfv6JvTJs2/xm/6HQ6rKys2LRpEzt27ABg6dKl2NnZsX79erZv305qaipmZmZYWFjIP8b6tPWNUe/KlSsUFhYaHBzW1tY4ODgA8Nhjj9G1a1cALC0tuXXrVrPEVFZWxuTJkwkNDWXIkCH/KE53d3d2795NfHw8KSkpWFtbt9g4oa7jDQ8PZ8SIEXz33Xf3jTMoKIjy8nJmzJjB9evXuXz5MikpKS22Pb/88ksUCgWHDx8mPz8ftVrNqlWrmtSeb775JlZWVgC88sor7NixA0tLS4M4a2trGwx+CwsLsbCwoKqqSt7m6OiIpaUlpqamqFQqrK2tAQw62+bg7OzMk08+iUKhwNnZGWtra3JyckhISAAgMDCQoKCgBukaa7/62O908OBBdDqdQcw9evQAwMrKChcXF/nf1dXVzRrbner32bFjR65cuUJxcTFubm60adMGCwsLnnrqqX+UX2P1Vl5eLg9moHnb9e7y//bbbzzzzDMYGRlhZGSEm5sbAEVFRWRlZfHDDz8AyINfGxsbuWz29vaN/la8vLwAeO6554iOjqaoqIgLFy4wZswYACoqKuRnc7p37y6X5+eff6akpISuXbtiamoK1A1MmhJPfVnOnz8vz4golUpcXFxQqVScO3euQdozZ87g4OBAUFAQkZGRuLi40LlzZ2xsbCgqKmL16tWkpqYiSRImJiZA3eCgvmz1JEninXfekc87AwYM4NSpUwbH9r2O66NHj9KtWzeDY9bV1RUTExMsLS1xcnLC1NSUxx9//L7npf/5K/rG9OjRgyNHjgCwb98+evfuzdtvv41Go0Gj0WBnZ8eqVas4fvw469evl6dyPTw8OHDgALW1tVy4cIHa2toG07wqlYq1a9dSXFwsPwTU3CfGu125coWxY8cye/Zshg8f3uQ4bW1tCQ0NpaKiAqgbObZp06bFxvn111+zevVqANq1a4dCocDIyOi+cQYGBrJ161Y0Gg1z587Fy8uLCRMmtNg4N2/ezKZNm9BoNHTv3p3Y2Fg6dOjQpPYMDAzk4sWLAPI0toeHh1z2nJycRjuUnj17kpKSwtatWykoKPhX4qyXmZlJTEwMAJcuXUKr1eLu7i7H1VgnD3UdvYmJCX/88QeSJHHgwAF69+7d4HthYWGMGTPG4EGsfyu2v+Ps7Myvv/5KbW0tVVVVFBcXA3UD9L97oLReY/XWoUMHg+88zHbt2rUrubm51NbWUl1dzalTpwBwcXFhzJgxaDQali9fLl94NGW/J0+eBODnn3/G1dUVFxcXunbtysaNG9FoNAwbNkw+fu/Oz9HRkeLiYm7evIleryc/P/9v93V3eldXV3JycoC6AcWZM2fo168fhw4dMnhQNyMjA6VSiaOjI507d0aSJFJTU+Xj1MXFhfDwcDQaDQsXLpRnHu8cqNfTarUMHjwYnU6HJEkcOXIENzc3PDw82Lt3L1D3W3/++ecbpPXx8eHTTz9l+fLlXLp0qdGYmqpVXtGr1WoWLFjAsmXLcHFxMbi/DXUdZ2JiIj169JCnWV577TVCQ0Pp3bs3b731lvwkc2MUCgXR0dGMGzeO9PT0hx5PcnIy169fJykpSb6Xs2bNmvvGqVAoGDt2LO+++y6mpqZ06NCBxYsXY25u3iLj9PX15f3332fkyJHU1NQwd+5czMzM7hvnvbi5ubXIOO+lKe25ePFiwsLCaNu2LV26dGHEiBEYGRlx8OBBgoODkSSJ6OjoRvNv27YtkZGRqNVq4uPj/42QABg+fDjvv/8+ISEhcl3fPeNwL/VT1nq9Hm9vb4N7qXcKCgpi+/bt8tPsLUH37t0ZNGgQw4cPx9bWlvbt2wN1zxUVFRWxfv36v03f1Hp7WO3arVs3BgwYwIgRI7CxscHExARjY2MmTZrEvHnzSE9PR6vVEhYW1uQ866fQa2tr+fjjj3F0dKRv376EhIRQXV1Nr169sLOzazStUqlk2rRpBAcHo1Qqadeu3T+Kx8fHh3379hEcHIxKpaJt27ZYWVmRnJxMdHQ0f/31F3q9nm7durFs2TI53fDhw0lISJBnI9RqNZGRkdy6dYubN28yb968e+7T0tKSGTNmMHr0aExNTenbty8DBgzA09MTtVpNSEgIJiYmfPLJJ42mV6lUTJkyhblz5za4JfBPiNXrBEEQhAauXr3K9u3bGTlyJNXV1QQEBLBhwwb5ttY/FRERgb+/P/3792/mkjbNb7/9RkFBAQEBAfz5558MHjyYPXv2NJhub41a5RW9IAiC8GBsbGzIy8vjzTffRKFQEBQU9P/u5FsCe3t7li5dyoYNG9Dr9YSHhz8SnTyIK3pBEARBaNVa5cN4giAIgiDUER29IAiCILRioqMXBEEQhFZMdPSC8AiKiIggOTn5b/9kp7KyksmTJ/+LpRIE4WEQHb0gPKJsbW1Zs2bNPT+vqKi470tJBEFo+cSf1wnCI0CSJGJiYvjpp5+wtbVFr9fj6enJyy+/zO7du/n2229JTU3FyMiIJ554gri4OBYvXszly5eZPHkyiYmJxMfHc/jwYSoqKrC1tSU+Ph6VSoW3tzd+fn5kZ2djZGTE8uXLcXR05NChQ8TExCBJEg4ODnzyySe0a9eOJUuWcPToUfR6PcOGDZNffyoIwsMhrugF4RGwY8cOTp06xbZt20hISJDfJ15v+fLlrFu3ji1bttCpUydKSkqYP38+tra2JCYmUlpaSklJCV988QU7duzA3t6erVu3AnWLefTt25evv/6aPn36sHnzZqqrqwkPDyc2NpZvv/2Wp556iq+++kp+8+BXX31FZmYmu3bt4vjx4/96fQjCo0Rc0QvCI+Do0aP4+vpiYmKCUqls8Hayl156iZCQEAYOHIifnx/du3c3WOzjySefRK1Wk5GRwe+//05OTo7BQkD1K/G5urpy/PhxCgsLsbOzkxcmmTVrFgBTp04lPz+frKwsoG6FrsLCwkbfYS8IQvMQHb0gPAIUCgV3vhvr7nemz58/n4KCAvbu3cvs2bMJCwszWGgjLy+PWbNmMWbMGPz8/GjTpo1BfmZmZgb7MTExMViAo7KyEp1Oh16vZ/bs2fj6+gJw7do1zM3NH0rMgiDUEVP3gvAI6Nu3Lz/88APV1dVUVFSwf/9++bOamhp8fX2xsbFh4sSJDB06lPz8fIyNjeX1z48dO4anpychISF07tyZn376Cb1ef8/9OTs7c/XqVXnFttTUVD7//HO8vLxIT0/n9u3b6HQ6QkND5RXFBEF4OMQVvSA8AgYOHEhubi6DBw9GpVLRpUsX+TNjY2OmTp3K2LFjMTMzo3379sTExGBlZYWDgwOjRo1i6dKlhIWFyUuSurm5NbqOdz0zMzPi4uKYM2cOt2/fxsnJiSVLlmBqakppaSlvvPEGNTU1DBs2jBdeeOGhxy8IjzLxrntBEARBaMXE1L0gCIIgtGKioxcEQRCEVkx09IIgCILQiomOXhAEQRBaMdHRC4IgCEIrJjp6QRAEQWjFREcvCIIgCK2Y6OgFQRAEoRX7P1Ij34b2sAJcAAAAAElFTkSuQmCC\n",
      "text/plain": [
       "<Figure size 576x396 with 1 Axes>"
      ]
     },
     "metadata": {},
     "output_type": "display_data"
    }
   ],
   "source": [
    "#Defining the mean of commuters in each distance interval\n",
    "mean2 = comm2.groupby(['distance']).mean()\n",
    "\n",
    "#Plot\n",
    "def static_figure():\n",
    "    \n",
    "    # i. docstring\n",
    "    \"\"\" Makes a static figure of the mean number of commuters on distance intervals.\n",
    "    \n",
    "    Args: None  \n",
    "            \n",
    "    \"\"\"\n",
    "    \n",
    "    # ii. make the plot\n",
    "    ax = mean2['workers'].plot(legend = True)\n",
    "    \n",
    "    formatter = FuncFormatter(thousands)\n",
    "    \n",
    "    # iii. set thousands separator on y-axis\n",
    "    ax.yaxis.set_major_formatter(formatter)\n",
    "    \n",
    "    # iv. set x-axis to the number of weeks according to duration\n",
    "    ax.set_xticks(['distance'])\n",
    "    \n",
    "    # v. set labels\n",
    "    ax.set_ylabel('Number of workers')\n",
    "    ax.set_xlabel('Distance')\n",
    "    \n",
    "    # vi. set title\n",
    "    ax.set_title('Figure 2')\n",
    "\n",
    "# c. call the function\n",
    "static_figure()\n",
    "    \n",
    "#FÅ DET TIL AT SE PÆNERE UD"
   ]
  },
  {
   "cell_type": "code",
   "execution_count": null,
   "metadata": {},
   "outputs": [],
   "source": []
  }
 ],
 "metadata": {
  "kernelspec": {
   "display_name": "Python 3",
   "language": "python",
   "name": "python3"
  },
  "language_info": {
   "codemirror_mode": {
    "name": "ipython",
    "version": 3
   },
   "file_extension": ".py",
   "mimetype": "text/x-python",
   "name": "python",
   "nbconvert_exporter": "python",
   "pygments_lexer": "ipython3",
   "version": "3.7.6"
  },
  "toc-autonumbering": true
 },
 "nbformat": 4,
 "nbformat_minor": 4
}


# To add a new cell, type '# %%'
# To add a new markdown cell, type '# %% [markdown]'
# %%
from IPython import get_ipython

# %% [markdown]
# # Data Project
# 
# %% [markdown]
# > **Note the following:** 
# > 1. This is an example of how to structure your **inaugural project**.
# > 1. Remember the general advice on structuring and commenting your code from [lecture 5](https://numeconcopenhagen.netlify.com/lectures/Workflow_and_debugging).
# > 1. Remember this [guide](https://www.markdownguide.org/basic-syntax/) on markdown and (a bit of) latex.
# > 1. Turn on automatic numbering by clicking on the small icon on top of the table of contents in the left sidebar.
# > 1. The `inauguralproject.py` file includes a function which can be used multiple times in this notebook.
# 

# %%
#Import numpy package
import numpy as np

#Import pandas package
import pandas as pd

#Import operating system to import data from the computer
import os 

##Import pyplot and chosing style
import matplotlib.pyplot as plt
plt.style.use('seaborn')

#Autoload
get_ipython().run_line_magic('load_ext', 'autoreload')
get_ipython().run_line_magic('autoreload', '2')


# %%
#Data import

#Folder name and file name
#assert os.path.isdir('Data/')
assert os.path.isfile('pendling1.xlsx')

#Folder name
#os.listdir('Data/')

#Naming file
file = 'pendling1.xlsx'


# %%
#Using panda to read file
commute = pd.read_excel(file)

#See the name of the variables - printing first 10 obs
print(commute.head(10))


# %%
#Renaming relevant columns
commute.rename(columns = {'Unnamed: 0':'year'}, inplace=True) #Year
commute.rename(columns = {'Unnamed: 2':'region'}, inplace=True) #Region
commute.rename(columns = {'Unnamed: 3':'distance'}, inplace=True) #Distance to work place
commute.rename(columns = {'Unnamed: 4':'workers'}, inplace=True) #Number of workers

#Look at the data again and the shape of data - printing first 10 obs
print(commute.head(10))
print(f'Data set about communiting areas has shape {commute.shape}')


# %%
#Dropping the second column since it is irrelevant for our analysis
commute.drop(['Unnamed: 1'], axis = 1, inplace = True)

#Take a look at data again - printing first 10 obs
print(commute.head(10))
print(f'Data set about communiting areas has shape {commute.shape}')


# %%
#We check the types of the data
print(commute.dtypes)


# %%
#Change year to string variable
commute.year = commute.year.astype(str)

print(commute.dtypes)

#The data is now ready, "commute"


# %%
#Finding number of different regions - recall that "Whole country" is also included in this
#Finding number of years of data
print(f'Number of regions = {len(commute.region.unique())}')
print(f'Number of years = {len(commute.year.unique())}')

#We want to look further at long distance commuters, which we define as more than 50 km commute
#Excluding "I alt"
comm = commute.loc[commute['distance'] == 'Over 50 km']
comm = commute.loc[commute['region'] != 'Hele landet']

print(comm.head(10)) #printing first 10 obs
print(f'Data set about communiting areas has shape {comm.shape}')

#Descriptive statistics grouped by region on workers
desc = comm.groupby(['region']).describe()
pd.options.display.float_format = '{:.0f}'.format #No decimals
print(desc)


# %%
#Defining the mean of commuters in each region
mean = comm.groupby(['region']).mean()

#Plot
def static_figure():
    
    # i. docstring
    """ Makes a static figure of the mean number of commuters on the regions.
    
    Args: None  
            
    """
    
    # ii. make the plot
    ax = mean['workers'].plot(legend = True)
    
    formatter = FuncFormatter(thousands)
    
    # iii. set thousands separator on y-axis
    ax.yaxis.set_major_formatter(formatter)
    
    # iv. set x-axis to the number of weeks according to duration
    ax.set_xticks(['region'])
    
    # v. set labels
    ax.set_ylabel('Number of workers')
    ax.set_xlabel('Region')
    
    # vi. set title
    ax.set_title('Figure 1')
    
  

# c. call the function
static_figure()
  
#FÅ DET TIL AT SE PÆNERE UD


# %%
#We want to look further at distance intervals
#Excluding "I alt" and "Ikke beregnet"
comma = commute.loc[commute['region'] == 'Hele landet']
commb = comma.loc[comma['distance'] != 'I alt']
comm2 = commb.loc[commb['distance'] != 'Ikke beregnet']

print(comm2.head(20))
print(f'Data set about communiting areas has shape {comm2.shape}')

#Descriptive statistics grouped by distance on workers
desc2 = comm2.groupby(['distance']).describe()
pd.options.display.float_format = '{:.0f}'.format #No decimals
print(desc2)


# %%
#Defining the mean of commuters in each distance interval
mean2 = comm2.groupby(['distance']).mean()

#Plot
def static_figure():
    
    # i. docstring
    """ Makes a static figure of the mean number of commuters on distance intervals.
    
    Args: None  
            
    """
    
    # ii. make the plot
    ax = mean2['workers'].plot(legend = True)
    
    formatter = FuncFormatter(thousands)
    
    # iii. set thousands separator on y-axis
    ax.yaxis.set_major_formatter(formatter)
    
    # iv. set x-axis to the number of weeks according to duration
    ax.set_xticks(['distance'])
    
    # v. set labels
    ax.set_ylabel('Number of workers')
    ax.set_xlabel('Distance')
    
    # vi. set title
    ax.set_title('Figure 2')

# c. call the function
static_figure()
    
#FÅ DET TIL AT SE PÆNERE UD

# %% [markdown]
# # Conclusion
# %% [markdown]
# In conclusion we find that the amount of people with a long commute (more than 50 km) are at East Jutland and Copenhagen.
# This makes sense since the two biggest cities in Denmark are located here and there might be more job opportunities here.
# Moreover we found that the most common amount of commute is 0-5 km.

